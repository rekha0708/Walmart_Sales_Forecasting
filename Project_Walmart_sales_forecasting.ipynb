{
  "nbformat": 4,
  "nbformat_minor": 0,
  "metadata": {
    "colab": {
      "name": "Project_Walmart_sales_forecasting.ipynb",
      "version": "0.3.2",
      "provenance": [],
      "machine_shape": "hm"
    },
    "kernelspec": {
      "name": "python3",
      "display_name": "Python 3"
    }
  },
  "cells": [
    {
      "cell_type": "markdown",
      "metadata": {
        "id": "VopR5G_F6fJ9",
        "colab_type": "text"
      },
      "source": [
        "# ** WALMART STORE SALES FORECASTING** **"
      ]
    },
    {
      "cell_type": "code",
      "metadata": {
        "id": "uB1tCh8U6K_K",
        "colab_type": "code",
        "colab": {
          "base_uri": "https://localhost:8080/",
          "height": 154
        },
        "outputId": "cd6f3db1-8b4f-43ee-f5a8-b7de0622524d"
      },
      "source": [
        "'''Import necessary packages'''\n",
        "\n",
        "from keras.models import Sequential\n",
        "from keras.layers import Dense\n",
        "from sklearn.neighbors import KNeighborsRegressor\n",
        "from sklearn.ensemble import GradientBoostingRegressor\n",
        "from sklearn.ensemble import RandomForestRegressor\n",
        "from sklearn.linear_model import LogisticRegressionCV\n",
        "from sklearn.metrics import mean_absolute_error \n",
        "from sklearn.metrics import median_absolute_error \n",
        "from sklearn.model_selection import train_test_split\n",
        "import seaborn as sns\n",
        "import numpy as np\n",
        "import pandas as pd\n",
        "from pandas.api.types import is_string_dtype,is_numeric_dtype\n",
        "from sklearn import preprocessing\n",
        "from sklearn.externals import joblib\n",
        "from matplotlib import pyplot as plt\n",
        "import seaborn as sns\n",
        "!pip install joblib\n",
        "import joblib\n",
        "!pip install xgboost\n",
        "from xgboost import XGBRegressor\n",
        "import numpy\n",
        "from sklearn.model_selection import GridSearchCV\n",
        "from keras.models import Sequential\n",
        "from keras.layers import Dense\n",
        "from keras.wrappers.scikit_learn import KerasRegressor\n",
        "%matplotlib inline"
      ],
      "execution_count": 1,
      "outputs": [
        {
          "output_type": "stream",
          "text": [
            "Using TensorFlow backend.\n",
            "/usr/local/lib/python3.6/dist-packages/sklearn/externals/joblib/__init__.py:15: DeprecationWarning: sklearn.externals.joblib is deprecated in 0.21 and will be removed in 0.23. Please import this functionality directly from joblib, which can be installed with: pip install joblib. If this warning is raised when loading pickled models, you may need to re-serialize those models with scikit-learn 0.21+.\n",
            "  warnings.warn(msg, category=DeprecationWarning)\n"
          ],
          "name": "stderr"
        },
        {
          "output_type": "stream",
          "text": [
            "Requirement already satisfied: joblib in /usr/local/lib/python3.6/dist-packages (0.13.2)\n",
            "Requirement already satisfied: xgboost in /usr/local/lib/python3.6/dist-packages (0.90)\n",
            "Requirement already satisfied: scipy in /usr/local/lib/python3.6/dist-packages (from xgboost) (1.3.0)\n",
            "Requirement already satisfied: numpy in /usr/local/lib/python3.6/dist-packages (from xgboost) (1.16.4)\n"
          ],
          "name": "stdout"
        }
      ]
    },
    {
      "cell_type": "markdown",
      "metadata": {
        "id": "CQYfgiEF-sPC",
        "colab_type": "text"
      },
      "source": [
        "#  Reading data into the notebook"
      ]
    },
    {
      "cell_type": "code",
      "metadata": {
        "id": "N_xYHX1L6L_t",
        "colab_type": "code",
        "outputId": "41eaee40-f17e-46fa-eab1-253f4cf39103",
        "colab": {
          "resources": {
            "http://localhost:8080/nbextensions/google.colab/files.js": {
              "data": "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",
              "ok": true,
              "headers": [
                [
                  "content-type",
                  "application/javascript"
                ]
              ],
              "status": 200,
              "status_text": ""
            }
          },
          "base_uri": "https://localhost:8080/",
          "height": 74
        }
      },
      "source": [
        "from google.colab import files\n",
        "uploaded = files.upload()"
      ],
      "execution_count": 2,
      "outputs": [
        {
          "output_type": "display_data",
          "data": {
            "text/html": [
              "\n",
              "     <input type=\"file\" id=\"files-1b1e3c52-30b8-43b9-a42e-e4534ec289d7\" name=\"files[]\" multiple disabled />\n",
              "     <output id=\"result-1b1e3c52-30b8-43b9-a42e-e4534ec289d7\">\n",
              "      Upload widget is only available when the cell has been executed in the\n",
              "      current browser session. Please rerun this cell to enable.\n",
              "      </output>\n",
              "      <script src=\"/nbextensions/google.colab/files.js\"></script> "
            ],
            "text/plain": [
              "<IPython.core.display.HTML object>"
            ]
          },
          "metadata": {
            "tags": []
          }
        },
        {
          "output_type": "stream",
          "text": [
            "Saving train.csv to train (1).csv\n"
          ],
          "name": "stdout"
        }
      ]
    },
    {
      "cell_type": "code",
      "metadata": {
        "id": "PTVcuk5Q6MC_",
        "colab_type": "code",
        "colab": {}
      },
      "source": [
        "import io\n",
        "train_df = pd.read_csv(io.BytesIO(uploaded['train.csv']))\n",
        "# Dataset is now stored in a Pandas Dataframe"
      ],
      "execution_count": 0,
      "outputs": []
    },
    {
      "cell_type": "code",
      "metadata": {
        "id": "P-X3XE-86MVT",
        "colab_type": "code",
        "outputId": "fe6b1c42-a56b-46f2-eb96-6e33de33efa5",
        "colab": {
          "base_uri": "https://localhost:8080/",
          "height": 153
        }
      },
      "source": [
        "print(train_df.shape)\n",
        "train_df.head(3)"
      ],
      "execution_count": 4,
      "outputs": [
        {
          "output_type": "stream",
          "text": [
            "(421570, 5)\n"
          ],
          "name": "stdout"
        },
        {
          "output_type": "execute_result",
          "data": {
            "text/html": [
              "<div>\n",
              "<style scoped>\n",
              "    .dataframe tbody tr th:only-of-type {\n",
              "        vertical-align: middle;\n",
              "    }\n",
              "\n",
              "    .dataframe tbody tr th {\n",
              "        vertical-align: top;\n",
              "    }\n",
              "\n",
              "    .dataframe thead th {\n",
              "        text-align: right;\n",
              "    }\n",
              "</style>\n",
              "<table border=\"1\" class=\"dataframe\">\n",
              "  <thead>\n",
              "    <tr style=\"text-align: right;\">\n",
              "      <th></th>\n",
              "      <th>Store</th>\n",
              "      <th>Dept</th>\n",
              "      <th>Date</th>\n",
              "      <th>Weekly_Sales</th>\n",
              "      <th>IsHoliday</th>\n",
              "    </tr>\n",
              "  </thead>\n",
              "  <tbody>\n",
              "    <tr>\n",
              "      <th>0</th>\n",
              "      <td>1</td>\n",
              "      <td>1</td>\n",
              "      <td>2010-02-05</td>\n",
              "      <td>24924.50</td>\n",
              "      <td>False</td>\n",
              "    </tr>\n",
              "    <tr>\n",
              "      <th>1</th>\n",
              "      <td>1</td>\n",
              "      <td>1</td>\n",
              "      <td>2010-02-12</td>\n",
              "      <td>46039.49</td>\n",
              "      <td>True</td>\n",
              "    </tr>\n",
              "    <tr>\n",
              "      <th>2</th>\n",
              "      <td>1</td>\n",
              "      <td>1</td>\n",
              "      <td>2010-02-19</td>\n",
              "      <td>41595.55</td>\n",
              "      <td>False</td>\n",
              "    </tr>\n",
              "  </tbody>\n",
              "</table>\n",
              "</div>"
            ],
            "text/plain": [
              "   Store  Dept        Date  Weekly_Sales  IsHoliday\n",
              "0      1     1  2010-02-05      24924.50      False\n",
              "1      1     1  2010-02-12      46039.49       True\n",
              "2      1     1  2010-02-19      41595.55      False"
            ]
          },
          "metadata": {
            "tags": []
          },
          "execution_count": 4
        }
      ]
    },
    {
      "cell_type": "code",
      "metadata": {
        "id": "31ubOwiUYDsz",
        "colab_type": "code",
        "outputId": "81503fe4-386e-480b-ba78-dee09e9fbd77",
        "colab": {
          "resources": {
            "http://localhost:8080/nbextensions/google.colab/files.js": {
              "data": "Ly8gQ29weXJpZ2h0IDIwMTcgR29vZ2xlIExMQwovLwovLyBMaWNlbnNlZCB1bmRlciB0aGUgQXBhY2hlIExpY2Vuc2UsIFZlcnNpb24gMi4wICh0aGUgIkxpY2Vuc2UiKTsKLy8geW91IG1heSBub3QgdXNlIHRoaXMgZmlsZSBleGNlcHQgaW4gY29tcGxpYW5jZSB3aXRoIHRoZSBMaWNlbnNlLgovLyBZb3UgbWF5IG9idGFpbiBhIGNvcHkgb2YgdGhlIExpY2Vuc2UgYXQKLy8KLy8gICAgICBodHRwOi8vd3d3LmFwYWNoZS5vcmcvbGljZW5zZXMvTElDRU5TRS0yLjAKLy8KLy8gVW5sZXNzIHJlcXVpcmVkIGJ5IGFwcGxpY2FibGUgbGF3IG9yIGFncmVlZCB0byBpbiB3cml0aW5nLCBzb2Z0d2FyZQovLyBkaXN0cmlidXRlZCB1bmRlciB0aGUgTGljZW5zZSBpcyBkaXN0cmlidXRlZCBvbiBhbiAiQVMgSVMiIEJBU0lTLAovLyBXSVRIT1VUIFdBUlJBTlRJRVMgT1IgQ09ORElUSU9OUyBPRiBBTlkgS0lORCwgZWl0aGVyIGV4cHJlc3Mgb3IgaW1wbGllZC4KLy8gU2VlIHRoZSBMaWNlbnNlIGZvciB0aGUgc3BlY2lmaWMgbGFuZ3VhZ2UgZ292ZXJuaW5nIHBlcm1pc3Npb25zIGFuZAovLyBsaW1pdGF0aW9ucyB1bmRlciB0aGUgTGljZW5zZS4KCi8qKgogKiBAZmlsZW92ZXJ2aWV3IEhlbHBlcnMgZm9yIGdvb2dsZS5jb2xhYiBQeXRob24gbW9kdWxlLgogKi8KKGZ1bmN0aW9uKHNjb3BlKSB7CmZ1bmN0aW9uIHNwYW4odGV4dCwgc3R5bGVBdHRyaWJ1dGVzID0ge30pIHsKICBjb25zdCBlbGVtZW50ID0gZG9jdW1lbnQuY3JlYXRlRWxlbWVudCgnc3BhbicpOwogIGVsZW1lbnQudGV4dENvbnRlbnQgPSB0ZXh0OwogIGZvciAoY29uc3Qga2V5IG9mIE9iamVjdC5rZXlzKHN0eWxlQXR0cmlidXRlcykpIHsKICAgIGVsZW1lbnQuc3R5bGVba2V5XSA9IHN0eWxlQXR0cmlidXRlc1trZXldOwogIH0KICByZXR1cm4gZWxlbWVudDsKfQoKLy8gTWF4IG51bWJlciBvZiBieXRlcyB3aGljaCB3aWxsIGJlIHVwbG9hZGVkIGF0IGEgdGltZS4KY29uc3QgTUFYX1BBWUxPQURfU0laRSA9IDEwMCAqIDEwMjQ7Ci8vIE1heCBhbW91bnQgb2YgdGltZSB0byBibG9jayB3YWl0aW5nIGZvciB0aGUgdXNlci4KY29uc3QgRklMRV9DSEFOR0VfVElNRU9VVF9NUyA9IDMwICogMTAwMDsKCmZ1bmN0aW9uIF91cGxvYWRGaWxlcyhpbnB1dElkLCBvdXRwdXRJZCkgewogIGNvbnN0IHN0ZXBzID0gdXBsb2FkRmlsZXNTdGVwKGlucHV0SWQsIG91dHB1dElkKTsKICBjb25zdCBvdXRwdXRFbGVtZW50ID0gZG9jdW1lbnQuZ2V0RWxlbWVudEJ5SWQob3V0cHV0SWQpOwogIC8vIENhY2hlIHN0ZXBzIG9uIHRoZSBvdXRwdXRFbGVtZW50IHRvIG1ha2UgaXQgYXZhaWxhYmxlIGZvciB0aGUgbmV4dCBjYWxsCiAgLy8gdG8gdXBsb2FkRmlsZXNDb250aW51ZSBmcm9tIFB5dGhvbi4KICBvdXRwdXRFbGVtZW50LnN0ZXBzID0gc3RlcHM7CgogIHJldHVybiBfdXBsb2FkRmlsZXNDb250aW51ZShvdXRwdXRJZCk7Cn0KCi8vIFRoaXMgaXMgcm91Z2hseSBhbiBhc3luYyBnZW5lcmF0b3IgKG5vdCBzdXBwb3J0ZWQgaW4gdGhlIGJyb3dzZXIgeWV0KSwKLy8gd2hlcmUgdGhlcmUgYXJlIG11bHRpcGxlIGFzeW5jaHJvbm91cyBzdGVwcyBhbmQgdGhlIFB5dGhvbiBzaWRlIGlzIGdvaW5nCi8vIHRvIHBvbGwgZm9yIGNvbXBsZXRpb24gb2YgZWFjaCBzdGVwLgovLyBUaGlzIHVzZXMgYSBQcm9taXNlIHRvIGJsb2NrIHRoZSBweXRob24gc2lkZSBvbiBjb21wbGV0aW9uIG9mIGVhY2ggc3RlcCwKLy8gdGhlbiBwYXNzZXMgdGhlIHJlc3VsdCBvZiB0aGUgcHJldmlvdXMgc3RlcCBhcyB0aGUgaW5wdXQgdG8gdGhlIG5leHQgc3RlcC4KZnVuY3Rpb24gX3VwbG9hZEZpbGVzQ29udGludWUob3V0cHV0SWQpIHsKICBjb25zdCBvdXRwdXRFbGVtZW50ID0gZG9jdW1lbnQuZ2V0RWxlbWVudEJ5SWQob3V0cHV0SWQpOwogIGNvbnN0IHN0ZXBzID0gb3V0cHV0RWxlbWVudC5zdGVwczsKCiAgY29uc3QgbmV4dCA9IHN0ZXBzLm5leHQob3V0cHV0RWxlbWVudC5sYXN0UHJvbWlzZVZhbHVlKTsKICByZXR1cm4gUHJvbWlzZS5yZXNvbHZlKG5leHQudmFsdWUucHJvbWlzZSkudGhlbigodmFsdWUpID0+IHsKICAgIC8vIENhY2hlIHRoZSBsYXN0IHByb21pc2UgdmFsdWUgdG8gbWFrZSBpdCBhdmFpbGFibGUgdG8gdGhlIG5leHQKICAgIC8vIHN0ZXAgb2YgdGhlIGdlbmVyYXRvci4KICAgIG91dHB1dEVsZW1lbnQubGFzdFByb21pc2VWYWx1ZSA9IHZhbHVlOwogICAgcmV0dXJuIG5leHQudmFsdWUucmVzcG9uc2U7CiAgfSk7Cn0KCi8qKgogKiBHZW5lcmF0b3IgZnVuY3Rpb24gd2hpY2ggaXMgY2FsbGVkIGJldHdlZW4gZWFjaCBhc3luYyBzdGVwIG9mIHRoZSB1cGxvYWQKICogcHJvY2Vzcy4KICogQHBhcmFtIHtzdHJpbmd9IGlucHV0SWQgRWxlbWVudCBJRCBvZiB0aGUgaW5wdXQgZmlsZSBwaWNrZXIgZWxlbWVudC4KICogQHBhcmFtIHtzdHJpbmd9IG91dHB1dElkIEVsZW1lbnQgSUQgb2YgdGhlIG91dHB1dCBkaXNwbGF5LgogKiBAcmV0dXJuIHshSXRlcmFibGU8IU9iamVjdD59IEl0ZXJhYmxlIG9mIG5leHQgc3RlcHMuCiAqLwpmdW5jdGlvbiogdXBsb2FkRmlsZXNTdGVwKGlucHV0SWQsIG91dHB1dElkKSB7CiAgY29uc3QgaW5wdXRFbGVtZW50ID0gZG9jdW1lbnQuZ2V0RWxlbWVudEJ5SWQoaW5wdXRJZCk7CiAgaW5wdXRFbGVtZW50LmRpc2FibGVkID0gZmFsc2U7CgogIGNvbnN0IG91dHB1dEVsZW1lbnQgPSBkb2N1bWVudC5nZXRFbGVtZW50QnlJZChvdXRwdXRJZCk7CiAgb3V0cHV0RWxlbWVudC5pbm5lckhUTUwgPSAnJzsKCiAgY29uc3QgcGlja2VkUHJvbWlzZSA9IG5ldyBQcm9taXNlKChyZXNvbHZlKSA9PiB7CiAgICBpbnB1dEVsZW1lbnQuYWRkRXZlbnRMaXN0ZW5lcignY2hhbmdlJywgKGUpID0+IHsKICAgICAgcmVzb2x2ZShlLnRhcmdldC5maWxlcyk7CiAgICB9KTsKICB9KTsKCiAgY29uc3QgY2FuY2VsID0gZG9jdW1lbnQuY3JlYXRlRWxlbWVudCgnYnV0dG9uJyk7CiAgaW5wdXRFbGVtZW50LnBhcmVudEVsZW1lbnQuYXBwZW5kQ2hpbGQoY2FuY2VsKTsKICBjYW5jZWwudGV4dENvbnRlbnQgPSAnQ2FuY2VsIHVwbG9hZCc7CiAgY29uc3QgY2FuY2VsUHJvbWlzZSA9IG5ldyBQcm9taXNlKChyZXNvbHZlKSA9PiB7CiAgICBjYW5jZWwub25jbGljayA9ICgpID0+IHsKICAgICAgcmVzb2x2ZShudWxsKTsKICAgIH07CiAgfSk7CgogIC8vIENhbmNlbCB1cGxvYWQgaWYgdXNlciBoYXNuJ3QgcGlja2VkIGFueXRoaW5nIGluIHRpbWVvdXQuCiAgY29uc3QgdGltZW91dFByb21pc2UgPSBuZXcgUHJvbWlzZSgocmVzb2x2ZSkgPT4gewogICAgc2V0VGltZW91dCgoKSA9PiB7CiAgICAgIHJlc29sdmUobnVsbCk7CiAgICB9LCBGSUxFX0NIQU5HRV9USU1FT1VUX01TKTsKICB9KTsKCiAgLy8gV2FpdCBmb3IgdGhlIHVzZXIgdG8gcGljayB0aGUgZmlsZXMuCiAgY29uc3QgZmlsZXMgPSB5aWVsZCB7CiAgICBwcm9taXNlOiBQcm9taXNlLnJhY2UoW3BpY2tlZFByb21pc2UsIHRpbWVvdXRQcm9taXNlLCBjYW5jZWxQcm9taXNlXSksCiAgICByZXNwb25zZTogewogICAgICBhY3Rpb246ICdzdGFydGluZycsCiAgICB9CiAgfTsKCiAgaWYgKCFmaWxlcykgewogICAgcmV0dXJuIHsKICAgICAgcmVzcG9uc2U6IHsKICAgICAgICBhY3Rpb246ICdjb21wbGV0ZScsCiAgICAgIH0KICAgIH07CiAgfQoKICBjYW5jZWwucmVtb3ZlKCk7CgogIC8vIERpc2FibGUgdGhlIGlucHV0IGVsZW1lbnQgc2luY2UgZnVydGhlciBwaWNrcyBhcmUgbm90IGFsbG93ZWQuCiAgaW5wdXRFbGVtZW50LmRpc2FibGVkID0gdHJ1ZTsKCiAgZm9yIChjb25zdCBmaWxlIG9mIGZpbGVzKSB7CiAgICBjb25zdCBsaSA9IGRvY3VtZW50LmNyZWF0ZUVsZW1lbnQoJ2xpJyk7CiAgICBsaS5hcHBlbmQoc3BhbihmaWxlLm5hbWUsIHtmb250V2VpZ2h0OiAnYm9sZCd9KSk7CiAgICBsaS5hcHBlbmQoc3BhbigKICAgICAgICBgKCR7ZmlsZS50eXBlIHx8ICduL2EnfSkgLSAke2ZpbGUuc2l6ZX0gYnl0ZXMsIGAgKwogICAgICAgIGBsYXN0IG1vZGlmaWVkOiAkewogICAgICAgICAgICBmaWxlLmxhc3RNb2RpZmllZERhdGUgPyBmaWxlLmxhc3RNb2RpZmllZERhdGUudG9Mb2NhbGVEYXRlU3RyaW5nKCkgOgogICAgICAgICAgICAgICAgICAgICAgICAgICAgICAgICAgICAnbi9hJ30gLSBgKSk7CiAgICBjb25zdCBwZXJjZW50ID0gc3BhbignMCUgZG9uZScpOwogICAgbGkuYXBwZW5kQ2hpbGQocGVyY2VudCk7CgogICAgb3V0cHV0RWxlbWVudC5hcHBlbmRDaGlsZChsaSk7CgogICAgY29uc3QgZmlsZURhdGFQcm9taXNlID0gbmV3IFByb21pc2UoKHJlc29sdmUpID0+IHsKICAgICAgY29uc3QgcmVhZGVyID0gbmV3IEZpbGVSZWFkZXIoKTsKICAgICAgcmVhZGVyLm9ubG9hZCA9IChlKSA9PiB7CiAgICAgICAgcmVzb2x2ZShlLnRhcmdldC5yZXN1bHQpOwogICAgICB9OwogICAgICByZWFkZXIucmVhZEFzQXJyYXlCdWZmZXIoZmlsZSk7CiAgICB9KTsKICAgIC8vIFdhaXQgZm9yIHRoZSBkYXRhIHRvIGJlIHJlYWR5LgogICAgbGV0IGZpbGVEYXRhID0geWllbGQgewogICAgICBwcm9taXNlOiBmaWxlRGF0YVByb21pc2UsCiAgICAgIHJlc3BvbnNlOiB7CiAgICAgICAgYWN0aW9uOiAnY29udGludWUnLAogICAgICB9CiAgICB9OwoKICAgIC8vIFVzZSBhIGNodW5rZWQgc2VuZGluZyB0byBhdm9pZCBtZXNzYWdlIHNpemUgbGltaXRzLiBTZWUgYi82MjExNTY2MC4KICAgIGxldCBwb3NpdGlvbiA9IDA7CiAgICB3aGlsZSAocG9zaXRpb24gPCBmaWxlRGF0YS5ieXRlTGVuZ3RoKSB7CiAgICAgIGNvbnN0IGxlbmd0aCA9IE1hdGgubWluKGZpbGVEYXRhLmJ5dGVMZW5ndGggLSBwb3NpdGlvbiwgTUFYX1BBWUxPQURfU0laRSk7CiAgICAgIGNvbnN0IGNodW5rID0gbmV3IFVpbnQ4QXJyYXkoZmlsZURhdGEsIHBvc2l0aW9uLCBsZW5ndGgpOwogICAgICBwb3NpdGlvbiArPSBsZW5ndGg7CgogICAgICBjb25zdCBiYXNlNjQgPSBidG9hKFN0cmluZy5mcm9tQ2hhckNvZGUuYXBwbHkobnVsbCwgY2h1bmspKTsKICAgICAgeWllbGQgewogICAgICAgIHJlc3BvbnNlOiB7CiAgICAgICAgICBhY3Rpb246ICdhcHBlbmQnLAogICAgICAgICAgZmlsZTogZmlsZS5uYW1lLAogICAgICAgICAgZGF0YTogYmFzZTY0LAogICAgICAgIH0sCiAgICAgIH07CiAgICAgIHBlcmNlbnQudGV4dENvbnRlbnQgPQogICAgICAgICAgYCR7TWF0aC5yb3VuZCgocG9zaXRpb24gLyBmaWxlRGF0YS5ieXRlTGVuZ3RoKSAqIDEwMCl9JSBkb25lYDsKICAgIH0KICB9CgogIC8vIEFsbCBkb25lLgogIHlpZWxkIHsKICAgIHJlc3BvbnNlOiB7CiAgICAgIGFjdGlvbjogJ2NvbXBsZXRlJywKICAgIH0KICB9Owp9CgpzY29wZS5nb29nbGUgPSBzY29wZS5nb29nbGUgfHwge307CnNjb3BlLmdvb2dsZS5jb2xhYiA9IHNjb3BlLmdvb2dsZS5jb2xhYiB8fCB7fTsKc2NvcGUuZ29vZ2xlLmNvbGFiLl9maWxlcyA9IHsKICBfdXBsb2FkRmlsZXMsCiAgX3VwbG9hZEZpbGVzQ29udGludWUsCn07Cn0pKHNlbGYpOwo=",
              "ok": true,
              "headers": [
                [
                  "content-type",
                  "application/javascript"
                ]
              ],
              "status": 200,
              "status_text": ""
            }
          },
          "base_uri": "https://localhost:8080/",
          "height": 74
        }
      },
      "source": [
        "from google.colab import files\n",
        "uploaded = files.upload()"
      ],
      "execution_count": 5,
      "outputs": [
        {
          "output_type": "display_data",
          "data": {
            "text/html": [
              "\n",
              "     <input type=\"file\" id=\"files-e71b4176-6c50-468b-bd0a-9f4b90c51dbf\" name=\"files[]\" multiple disabled />\n",
              "     <output id=\"result-e71b4176-6c50-468b-bd0a-9f4b90c51dbf\">\n",
              "      Upload widget is only available when the cell has been executed in the\n",
              "      current browser session. Please rerun this cell to enable.\n",
              "      </output>\n",
              "      <script src=\"/nbextensions/google.colab/files.js\"></script> "
            ],
            "text/plain": [
              "<IPython.core.display.HTML object>"
            ]
          },
          "metadata": {
            "tags": []
          }
        },
        {
          "output_type": "stream",
          "text": [
            "Saving stores.csv to stores (1).csv\n"
          ],
          "name": "stdout"
        }
      ]
    },
    {
      "cell_type": "code",
      "metadata": {
        "id": "BqEgZza7YIkR",
        "colab_type": "code",
        "colab": {}
      },
      "source": [
        "import io\n",
        "stores_df = pd.read_csv(io.BytesIO(uploaded['stores.csv']))\n",
        "# Dataset is now stored in a Pandas Dataframe"
      ],
      "execution_count": 0,
      "outputs": []
    },
    {
      "cell_type": "code",
      "metadata": {
        "id": "8Z1CY38yZEeG",
        "colab_type": "code",
        "colab": {
          "base_uri": "https://localhost:8080/",
          "height": 153
        },
        "outputId": "dfbd6dbf-c544-4810-843f-234cf43cab16"
      },
      "source": [
        "print(stores_df.shape)\n",
        "stores_df.head(3)"
      ],
      "execution_count": 7,
      "outputs": [
        {
          "output_type": "stream",
          "text": [
            "(45, 3)\n"
          ],
          "name": "stdout"
        },
        {
          "output_type": "execute_result",
          "data": {
            "text/html": [
              "<div>\n",
              "<style scoped>\n",
              "    .dataframe tbody tr th:only-of-type {\n",
              "        vertical-align: middle;\n",
              "    }\n",
              "\n",
              "    .dataframe tbody tr th {\n",
              "        vertical-align: top;\n",
              "    }\n",
              "\n",
              "    .dataframe thead th {\n",
              "        text-align: right;\n",
              "    }\n",
              "</style>\n",
              "<table border=\"1\" class=\"dataframe\">\n",
              "  <thead>\n",
              "    <tr style=\"text-align: right;\">\n",
              "      <th></th>\n",
              "      <th>Store</th>\n",
              "      <th>Type</th>\n",
              "      <th>Size</th>\n",
              "    </tr>\n",
              "  </thead>\n",
              "  <tbody>\n",
              "    <tr>\n",
              "      <th>0</th>\n",
              "      <td>1</td>\n",
              "      <td>A</td>\n",
              "      <td>151315</td>\n",
              "    </tr>\n",
              "    <tr>\n",
              "      <th>1</th>\n",
              "      <td>2</td>\n",
              "      <td>A</td>\n",
              "      <td>202307</td>\n",
              "    </tr>\n",
              "    <tr>\n",
              "      <th>2</th>\n",
              "      <td>3</td>\n",
              "      <td>B</td>\n",
              "      <td>37392</td>\n",
              "    </tr>\n",
              "  </tbody>\n",
              "</table>\n",
              "</div>"
            ],
            "text/plain": [
              "   Store Type    Size\n",
              "0      1    A  151315\n",
              "1      2    A  202307\n",
              "2      3    B   37392"
            ]
          },
          "metadata": {
            "tags": []
          },
          "execution_count": 7
        }
      ]
    },
    {
      "cell_type": "code",
      "metadata": {
        "id": "Q6mAgPGsYua_",
        "colab_type": "code",
        "colab": {}
      },
      "source": [
        "train_df = train_df.merge(stores_df, how='left')"
      ],
      "execution_count": 0,
      "outputs": []
    },
    {
      "cell_type": "code",
      "metadata": {
        "id": "ni0xSlH4ZNCc",
        "colab_type": "code",
        "colab": {
          "base_uri": "https://localhost:8080/",
          "height": 136
        },
        "outputId": "91c0a92c-357c-4d1a-8e66-7b98497ad5eb"
      },
      "source": [
        "train_df.head(3)"
      ],
      "execution_count": 9,
      "outputs": [
        {
          "output_type": "execute_result",
          "data": {
            "text/html": [
              "<div>\n",
              "<style scoped>\n",
              "    .dataframe tbody tr th:only-of-type {\n",
              "        vertical-align: middle;\n",
              "    }\n",
              "\n",
              "    .dataframe tbody tr th {\n",
              "        vertical-align: top;\n",
              "    }\n",
              "\n",
              "    .dataframe thead th {\n",
              "        text-align: right;\n",
              "    }\n",
              "</style>\n",
              "<table border=\"1\" class=\"dataframe\">\n",
              "  <thead>\n",
              "    <tr style=\"text-align: right;\">\n",
              "      <th></th>\n",
              "      <th>Store</th>\n",
              "      <th>Dept</th>\n",
              "      <th>Date</th>\n",
              "      <th>Weekly_Sales</th>\n",
              "      <th>IsHoliday</th>\n",
              "      <th>Type</th>\n",
              "      <th>Size</th>\n",
              "    </tr>\n",
              "  </thead>\n",
              "  <tbody>\n",
              "    <tr>\n",
              "      <th>0</th>\n",
              "      <td>1</td>\n",
              "      <td>1</td>\n",
              "      <td>2010-02-05</td>\n",
              "      <td>24924.50</td>\n",
              "      <td>False</td>\n",
              "      <td>A</td>\n",
              "      <td>151315</td>\n",
              "    </tr>\n",
              "    <tr>\n",
              "      <th>1</th>\n",
              "      <td>1</td>\n",
              "      <td>1</td>\n",
              "      <td>2010-02-12</td>\n",
              "      <td>46039.49</td>\n",
              "      <td>True</td>\n",
              "      <td>A</td>\n",
              "      <td>151315</td>\n",
              "    </tr>\n",
              "    <tr>\n",
              "      <th>2</th>\n",
              "      <td>1</td>\n",
              "      <td>1</td>\n",
              "      <td>2010-02-19</td>\n",
              "      <td>41595.55</td>\n",
              "      <td>False</td>\n",
              "      <td>A</td>\n",
              "      <td>151315</td>\n",
              "    </tr>\n",
              "  </tbody>\n",
              "</table>\n",
              "</div>"
            ],
            "text/plain": [
              "   Store  Dept        Date  Weekly_Sales  IsHoliday Type    Size\n",
              "0      1     1  2010-02-05      24924.50      False    A  151315\n",
              "1      1     1  2010-02-12      46039.49       True    A  151315\n",
              "2      1     1  2010-02-19      41595.55      False    A  151315"
            ]
          },
          "metadata": {
            "tags": []
          },
          "execution_count": 9
        }
      ]
    },
    {
      "cell_type": "code",
      "metadata": {
        "id": "xKhkAOseZvjQ",
        "colab_type": "code",
        "outputId": "716c5ece-60f0-4db4-94d5-3379d4304abd",
        "colab": {
          "resources": {
            "http://localhost:8080/nbextensions/google.colab/files.js": {
              "data": "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",
              "ok": true,
              "headers": [
                [
                  "content-type",
                  "application/javascript"
                ]
              ],
              "status": 200,
              "status_text": ""
            }
          },
          "base_uri": "https://localhost:8080/",
          "height": 74
        }
      },
      "source": [
        "from google.colab import files\n",
        "uploaded = files.upload()"
      ],
      "execution_count": 10,
      "outputs": [
        {
          "output_type": "display_data",
          "data": {
            "text/html": [
              "\n",
              "     <input type=\"file\" id=\"files-1ab32a27-540a-4aa4-b791-21750bb18fdc\" name=\"files[]\" multiple disabled />\n",
              "     <output id=\"result-1ab32a27-540a-4aa4-b791-21750bb18fdc\">\n",
              "      Upload widget is only available when the cell has been executed in the\n",
              "      current browser session. Please rerun this cell to enable.\n",
              "      </output>\n",
              "      <script src=\"/nbextensions/google.colab/files.js\"></script> "
            ],
            "text/plain": [
              "<IPython.core.display.HTML object>"
            ]
          },
          "metadata": {
            "tags": []
          }
        },
        {
          "output_type": "stream",
          "text": [
            "Saving features.csv to features (1).csv\n"
          ],
          "name": "stdout"
        }
      ]
    },
    {
      "cell_type": "code",
      "metadata": {
        "id": "y0yB_UIqZvxR",
        "colab_type": "code",
        "colab": {}
      },
      "source": [
        "import io\n",
        "features_df = pd.read_csv(io.BytesIO(uploaded['features.csv']))\n",
        "# Dataset is now stored in a Pandas Dataframe"
      ],
      "execution_count": 0,
      "outputs": []
    },
    {
      "cell_type": "code",
      "metadata": {
        "id": "WJv8qctAZv-y",
        "colab_type": "code",
        "outputId": "0c840b52-ae25-4983-b554-a087a9c048b5",
        "colab": {
          "base_uri": "https://localhost:8080/",
          "height": 153
        }
      },
      "source": [
        "print(features_df.shape)\n",
        "features_df.head(3)"
      ],
      "execution_count": 12,
      "outputs": [
        {
          "output_type": "stream",
          "text": [
            "(8190, 12)\n"
          ],
          "name": "stdout"
        },
        {
          "output_type": "execute_result",
          "data": {
            "text/html": [
              "<div>\n",
              "<style scoped>\n",
              "    .dataframe tbody tr th:only-of-type {\n",
              "        vertical-align: middle;\n",
              "    }\n",
              "\n",
              "    .dataframe tbody tr th {\n",
              "        vertical-align: top;\n",
              "    }\n",
              "\n",
              "    .dataframe thead th {\n",
              "        text-align: right;\n",
              "    }\n",
              "</style>\n",
              "<table border=\"1\" class=\"dataframe\">\n",
              "  <thead>\n",
              "    <tr style=\"text-align: right;\">\n",
              "      <th></th>\n",
              "      <th>Store</th>\n",
              "      <th>Date</th>\n",
              "      <th>Temperature</th>\n",
              "      <th>Fuel_Price</th>\n",
              "      <th>MarkDown1</th>\n",
              "      <th>MarkDown2</th>\n",
              "      <th>MarkDown3</th>\n",
              "      <th>MarkDown4</th>\n",
              "      <th>MarkDown5</th>\n",
              "      <th>CPI</th>\n",
              "      <th>Unemployment</th>\n",
              "      <th>IsHoliday</th>\n",
              "    </tr>\n",
              "  </thead>\n",
              "  <tbody>\n",
              "    <tr>\n",
              "      <th>0</th>\n",
              "      <td>1</td>\n",
              "      <td>2010-02-05</td>\n",
              "      <td>42.31</td>\n",
              "      <td>2.572</td>\n",
              "      <td>NaN</td>\n",
              "      <td>NaN</td>\n",
              "      <td>NaN</td>\n",
              "      <td>NaN</td>\n",
              "      <td>NaN</td>\n",
              "      <td>211.096358</td>\n",
              "      <td>8.106</td>\n",
              "      <td>False</td>\n",
              "    </tr>\n",
              "    <tr>\n",
              "      <th>1</th>\n",
              "      <td>1</td>\n",
              "      <td>2010-02-12</td>\n",
              "      <td>38.51</td>\n",
              "      <td>2.548</td>\n",
              "      <td>NaN</td>\n",
              "      <td>NaN</td>\n",
              "      <td>NaN</td>\n",
              "      <td>NaN</td>\n",
              "      <td>NaN</td>\n",
              "      <td>211.242170</td>\n",
              "      <td>8.106</td>\n",
              "      <td>True</td>\n",
              "    </tr>\n",
              "    <tr>\n",
              "      <th>2</th>\n",
              "      <td>1</td>\n",
              "      <td>2010-02-19</td>\n",
              "      <td>39.93</td>\n",
              "      <td>2.514</td>\n",
              "      <td>NaN</td>\n",
              "      <td>NaN</td>\n",
              "      <td>NaN</td>\n",
              "      <td>NaN</td>\n",
              "      <td>NaN</td>\n",
              "      <td>211.289143</td>\n",
              "      <td>8.106</td>\n",
              "      <td>False</td>\n",
              "    </tr>\n",
              "  </tbody>\n",
              "</table>\n",
              "</div>"
            ],
            "text/plain": [
              "   Store        Date  Temperature  ...         CPI  Unemployment  IsHoliday\n",
              "0      1  2010-02-05        42.31  ...  211.096358         8.106      False\n",
              "1      1  2010-02-12        38.51  ...  211.242170         8.106       True\n",
              "2      1  2010-02-19        39.93  ...  211.289143         8.106      False\n",
              "\n",
              "[3 rows x 12 columns]"
            ]
          },
          "metadata": {
            "tags": []
          },
          "execution_count": 12
        }
      ]
    },
    {
      "cell_type": "code",
      "metadata": {
        "id": "9bQwxRv3aQfW",
        "colab_type": "code",
        "colab": {}
      },
      "source": [
        "train_df = train_df.merge(features_df, how='left')"
      ],
      "execution_count": 0,
      "outputs": []
    },
    {
      "cell_type": "code",
      "metadata": {
        "id": "hkrfgTMJaXKV",
        "colab_type": "code",
        "outputId": "3c935da9-3522-4129-ea18-c55f312d8130",
        "colab": {
          "base_uri": "https://localhost:8080/",
          "height": 136
        }
      },
      "source": [
        "train_df.head(3)"
      ],
      "execution_count": 14,
      "outputs": [
        {
          "output_type": "execute_result",
          "data": {
            "text/html": [
              "<div>\n",
              "<style scoped>\n",
              "    .dataframe tbody tr th:only-of-type {\n",
              "        vertical-align: middle;\n",
              "    }\n",
              "\n",
              "    .dataframe tbody tr th {\n",
              "        vertical-align: top;\n",
              "    }\n",
              "\n",
              "    .dataframe thead th {\n",
              "        text-align: right;\n",
              "    }\n",
              "</style>\n",
              "<table border=\"1\" class=\"dataframe\">\n",
              "  <thead>\n",
              "    <tr style=\"text-align: right;\">\n",
              "      <th></th>\n",
              "      <th>Store</th>\n",
              "      <th>Dept</th>\n",
              "      <th>Date</th>\n",
              "      <th>Weekly_Sales</th>\n",
              "      <th>IsHoliday</th>\n",
              "      <th>Type</th>\n",
              "      <th>Size</th>\n",
              "      <th>Temperature</th>\n",
              "      <th>Fuel_Price</th>\n",
              "      <th>MarkDown1</th>\n",
              "      <th>MarkDown2</th>\n",
              "      <th>MarkDown3</th>\n",
              "      <th>MarkDown4</th>\n",
              "      <th>MarkDown5</th>\n",
              "      <th>CPI</th>\n",
              "      <th>Unemployment</th>\n",
              "    </tr>\n",
              "  </thead>\n",
              "  <tbody>\n",
              "    <tr>\n",
              "      <th>0</th>\n",
              "      <td>1</td>\n",
              "      <td>1</td>\n",
              "      <td>2010-02-05</td>\n",
              "      <td>24924.50</td>\n",
              "      <td>False</td>\n",
              "      <td>A</td>\n",
              "      <td>151315</td>\n",
              "      <td>42.31</td>\n",
              "      <td>2.572</td>\n",
              "      <td>NaN</td>\n",
              "      <td>NaN</td>\n",
              "      <td>NaN</td>\n",
              "      <td>NaN</td>\n",
              "      <td>NaN</td>\n",
              "      <td>211.096358</td>\n",
              "      <td>8.106</td>\n",
              "    </tr>\n",
              "    <tr>\n",
              "      <th>1</th>\n",
              "      <td>1</td>\n",
              "      <td>1</td>\n",
              "      <td>2010-02-12</td>\n",
              "      <td>46039.49</td>\n",
              "      <td>True</td>\n",
              "      <td>A</td>\n",
              "      <td>151315</td>\n",
              "      <td>38.51</td>\n",
              "      <td>2.548</td>\n",
              "      <td>NaN</td>\n",
              "      <td>NaN</td>\n",
              "      <td>NaN</td>\n",
              "      <td>NaN</td>\n",
              "      <td>NaN</td>\n",
              "      <td>211.242170</td>\n",
              "      <td>8.106</td>\n",
              "    </tr>\n",
              "    <tr>\n",
              "      <th>2</th>\n",
              "      <td>1</td>\n",
              "      <td>1</td>\n",
              "      <td>2010-02-19</td>\n",
              "      <td>41595.55</td>\n",
              "      <td>False</td>\n",
              "      <td>A</td>\n",
              "      <td>151315</td>\n",
              "      <td>39.93</td>\n",
              "      <td>2.514</td>\n",
              "      <td>NaN</td>\n",
              "      <td>NaN</td>\n",
              "      <td>NaN</td>\n",
              "      <td>NaN</td>\n",
              "      <td>NaN</td>\n",
              "      <td>211.289143</td>\n",
              "      <td>8.106</td>\n",
              "    </tr>\n",
              "  </tbody>\n",
              "</table>\n",
              "</div>"
            ],
            "text/plain": [
              "   Store  Dept        Date  ...  MarkDown5         CPI Unemployment\n",
              "0      1     1  2010-02-05  ...        NaN  211.096358        8.106\n",
              "1      1     1  2010-02-12  ...        NaN  211.242170        8.106\n",
              "2      1     1  2010-02-19  ...        NaN  211.289143        8.106\n",
              "\n",
              "[3 rows x 16 columns]"
            ]
          },
          "metadata": {
            "tags": []
          },
          "execution_count": 14
        }
      ]
    },
    {
      "cell_type": "code",
      "metadata": {
        "id": "RkhHlJMlMGwm",
        "colab_type": "code",
        "colab": {
          "base_uri": "https://localhost:8080/",
          "height": 34
        },
        "outputId": "fef8712f-366b-463f-f67a-dd6577bffbff"
      },
      "source": [
        "print(train_df.shape)"
      ],
      "execution_count": 15,
      "outputs": [
        {
          "output_type": "stream",
          "text": [
            "(421570, 16)\n"
          ],
          "name": "stdout"
        }
      ]
    },
    {
      "cell_type": "markdown",
      "metadata": {
        "id": "Q4J4MuX1-i9E",
        "colab_type": "text"
      },
      "source": [
        "# **Sorting and Splitting data into Train-Validation dataset and Test dataset**"
      ]
    },
    {
      "cell_type": "markdown",
      "metadata": {
        "id": "07NgsRDS-5Wh",
        "colab_type": "text"
      },
      "source": [
        "1. Sorting & train-test split"
      ]
    },
    {
      "cell_type": "code",
      "metadata": {
        "id": "B3yanPZk-ojZ",
        "colab_type": "code",
        "outputId": "d9549a6b-8fdb-449f-c3af-e076e33060e5",
        "colab": {
          "base_uri": "https://localhost:8080/",
          "height": 151
        }
      },
      "source": [
        "# Sorting data based on date\n",
        "train_df.sort_values(by = [\"Date\"],inplace = True)\n",
        "print(train_df.head(5))"
      ],
      "execution_count": 16,
      "outputs": [
        {
          "output_type": "stream",
          "text": [
            "        Store  Dept        Date  ...  MarkDown5         CPI Unemployment\n",
            "0           1     1  2010-02-05  ...        NaN  211.096358        8.106\n",
            "277665     29     5  2010-02-05  ...        NaN  131.527903       10.064\n",
            "277808     29     6  2010-02-05  ...        NaN  131.527903       10.064\n",
            "277951     29     7  2010-02-05  ...        NaN  131.527903       10.064\n",
            "278094     29     8  2010-02-05  ...        NaN  131.527903       10.064\n",
            "\n",
            "[5 rows x 16 columns]\n"
          ],
          "name": "stdout"
        }
      ]
    },
    {
      "cell_type": "code",
      "metadata": {
        "id": "3UEwtF0U-omn",
        "colab_type": "code",
        "colab": {}
      },
      "source": [
        "'''Define functions to split data,'''\n",
        "\n",
        "def split_df(df,num):\n",
        "    return df[ :num].copy(),df[num: ].copy()"
      ],
      "execution_count": 0,
      "outputs": []
    },
    {
      "cell_type": "code",
      "metadata": {
        "id": "PLOucbSY_E8Z",
        "colab_type": "code",
        "colab": {}
      },
      "source": [
        "# Convert date to datetime\n",
        "train_df['Date'] = pd.to_datetime(train_df['Date'])"
      ],
      "execution_count": 0,
      "outputs": []
    },
    {
      "cell_type": "code",
      "metadata": {
        "id": "c73lUTtx_E-5",
        "colab_type": "code",
        "outputId": "a7c2dcb0-ca28-4fad-97bf-9139a061ee06",
        "colab": {
          "base_uri": "https://localhost:8080/",
          "height": 34
        }
      },
      "source": [
        "df_train_valid,df_test = split_df(train_df,316177)\n",
        "\n",
        "print(df_train_valid.shape,df_test.shape)"
      ],
      "execution_count": 19,
      "outputs": [
        {
          "output_type": "stream",
          "text": [
            "(316177, 16) (105393, 16)\n"
          ],
          "name": "stdout"
        }
      ]
    },
    {
      "cell_type": "markdown",
      "metadata": {
        "id": "t8cY-eWVgmz5",
        "colab_type": "text"
      },
      "source": [
        "# **TRAIN-VALIDATION DATASET**"
      ]
    },
    {
      "cell_type": "markdown",
      "metadata": {
        "id": "WwdR5WX4_Odp",
        "colab_type": "text"
      },
      "source": [
        "# **1. Data Exploration**"
      ]
    },
    {
      "cell_type": "code",
      "metadata": {
        "id": "FKRCRN4B_FB1",
        "colab_type": "code",
        "outputId": "5bb8ced0-d8d9-46b4-a8a0-92f99b5d498c",
        "colab": {
          "base_uri": "https://localhost:8080/",
          "height": 472
        }
      },
      "source": [
        "''' Deal with missing values. Calculating the percentage of\n",
        "missing values for every column, and plot them as a bar chart'''\n",
        "\n",
        "null_vals = df_train_valid.isnull().sum()/len(df_train_valid)*100\n",
        "null_vals = pd.DataFrame(null_vals)\n",
        "null_vals.reset_index(inplace = True)\n",
        "null_vals.columns = [\"Feature\",\"Percent missing\"]\n",
        "plt.figure(figsize = (8,6))\n",
        "plt.xticks(rotation=45)\n",
        "plt.title('Features Vs Null Value')\n",
        "sns.barplot(x = \"Feature\",y =\"Percent missing\",data = null_vals)"
      ],
      "execution_count": 20,
      "outputs": [
        {
          "output_type": "execute_result",
          "data": {
            "text/plain": [
              "<matplotlib.axes._subplots.AxesSubplot at 0x7fcf8b7b9828>"
            ]
          },
          "metadata": {
            "tags": []
          },
          "execution_count": 20
        },
        {
          "output_type": "display_data",
          "data": {
            "image/png": "[encoded data removed]",
            "text/plain": [
              "<Figure size 576x432 with 1 Axes>"
            ]
          },
          "metadata": {
            "tags": []
          }
        }
      ]
    },
    {
      "cell_type": "code",
      "metadata": {
        "id": "rfDUEFBawn_3",
        "colab_type": "code",
        "colab": {}
      },
      "source": [
        "'''Dropping columns Markdown1-5 as 80% of data in these 5 columns are null '''\n",
        "df_train_valid=df_train_valid.drop([\"MarkDown1\",\"MarkDown2\",\"MarkDown3\",\"MarkDown4\",\"MarkDown5\"],axis = 1)"
      ],
      "execution_count": 0,
      "outputs": []
    },
    {
      "cell_type": "code",
      "metadata": {
        "id": "lLcWkxkbxbSJ",
        "colab_type": "code",
        "outputId": "f7377be6-9753-433a-eee7-ec9522120d67",
        "colab": {
          "base_uri": "https://localhost:8080/",
          "height": 286
        }
      },
      "source": [
        "df_train_valid.info()"
      ],
      "execution_count": 22,
      "outputs": [
        {
          "output_type": "stream",
          "text": [
            "<class 'pandas.core.frame.DataFrame'>\n",
            "Int64Index: 316177 entries, 0 to 351531\n",
            "Data columns (total 11 columns):\n",
            "Store           316177 non-null int64\n",
            "Dept            316177 non-null int64\n",
            "Date            316177 non-null datetime64[ns]\n",
            "Weekly_Sales    316177 non-null float64\n",
            "IsHoliday       316177 non-null bool\n",
            "Type            316177 non-null object\n",
            "Size            316177 non-null int64\n",
            "Temperature     316177 non-null float64\n",
            "Fuel_Price      316177 non-null float64\n",
            "CPI             316177 non-null float64\n",
            "Unemployment    316177 non-null float64\n",
            "dtypes: bool(1), datetime64[ns](1), float64(5), int64(3), object(1)\n",
            "memory usage: 26.8+ MB\n"
          ],
          "name": "stdout"
        }
      ]
    },
    {
      "cell_type": "code",
      "metadata": {
        "id": "PjUeoteX_FE4",
        "colab_type": "code",
        "colab": {}
      },
      "source": [
        "def scatter(df_train_valid, column):\n",
        "    plt.figure()\n",
        "    plt.scatter(df_train_valid[column] , df_train_valid['Weekly_Sales'])\n",
        "    plt.ylabel('weeklySales')\n",
        "    plt.xlabel(column)"
      ],
      "execution_count": 0,
      "outputs": []
    },
    {
      "cell_type": "code",
      "metadata": {
        "id": "QiNsIR0s_ZUU",
        "colab_type": "code",
        "outputId": "c3ba9568-61c9-483e-b8d6-756c56a4846d",
        "colab": {
          "base_uri": "https://localhost:8080/",
          "height": 283
        }
      },
      "source": [
        "scatter(df_train_valid, 'IsHoliday')"
      ],
      "execution_count": 24,
      "outputs": [
        {
          "output_type": "display_data",
          "data": {
            "image/png": "[encoded data removed]",
            "text/plain": [
              "<Figure size 432x288 with 1 Axes>"
            ]
          },
          "metadata": {
            "tags": []
          }
        }
      ]
    },
    {
      "cell_type": "code",
      "metadata": {
        "id": "BXtgOfaw_ZWz",
        "colab_type": "code",
        "outputId": "1fe1ba51-1df3-4326-b264-0f48b36bd4bd",
        "colab": {
          "base_uri": "https://localhost:8080/",
          "height": 34
        }
      },
      "source": [
        "'''From the graph, we can see that maximum sale occured on holiday '''"
      ],
      "execution_count": 25,
      "outputs": [
        {
          "output_type": "execute_result",
          "data": {
            "text/plain": [
              "'From the graph, we can see that maximum sale occured on holiday '"
            ]
          },
          "metadata": {
            "tags": []
          },
          "execution_count": 25
        }
      ]
    },
    {
      "cell_type": "code",
      "metadata": {
        "id": "sGGmEHuz_ZZO",
        "colab_type": "code",
        "outputId": "53c3e8f6-480d-44ac-d6d1-e7c834bc07f9",
        "colab": {
          "base_uri": "https://localhost:8080/",
          "height": 283
        }
      },
      "source": [
        "scatter(df_train_valid, 'Store')"
      ],
      "execution_count": 26,
      "outputs": [
        {
          "output_type": "display_data",
          "data": {
            "image/png": "[encoded data removed]",
            "text/plain": [
              "<Figure size 432x288 with 1 Axes>"
            ]
          },
          "metadata": {
            "tags": []
          }
        }
      ]
    },
    {
      "cell_type": "code",
      "metadata": {
        "id": "nMwSSm4G_Zcv",
        "colab_type": "code",
        "outputId": "a694800d-5f5e-4359-ce57-f2164c1bc12d",
        "colab": {
          "base_uri": "https://localhost:8080/",
          "height": 34
        }
      },
      "source": [
        "'''From the graph, we can deduct that maximum sale occurs in store 10  '''"
      ],
      "execution_count": 27,
      "outputs": [
        {
          "output_type": "execute_result",
          "data": {
            "text/plain": [
              "'From the graph, we can deduct that maximum sale occurs in store 10  '"
            ]
          },
          "metadata": {
            "tags": []
          },
          "execution_count": 27
        }
      ]
    },
    {
      "cell_type": "code",
      "metadata": {
        "id": "nkBjl2DJ_qJk",
        "colab_type": "code",
        "outputId": "d8327e94-6c00-44cc-a78e-e5f0d8f01e12",
        "colab": {
          "base_uri": "https://localhost:8080/",
          "height": 283
        }
      },
      "source": [
        "scatter(df_train_valid, 'Dept')"
      ],
      "execution_count": 28,
      "outputs": [
        {
          "output_type": "display_data",
          "data": {
            "image/png": "[encoded data removed]",
            "text/plain": [
              "<Figure size 432x288 with 1 Axes>"
            ]
          },
          "metadata": {
            "tags": []
          }
        }
      ]
    },
    {
      "cell_type": "code",
      "metadata": {
        "id": "znSglWdx_qL6",
        "colab_type": "code",
        "outputId": "adf20333-2eb3-4021-fc5f-38bd47b713a4",
        "colab": {
          "base_uri": "https://localhost:8080/",
          "height": 34
        }
      },
      "source": [
        "'''From the graph, we can deduct that maximum sale occurs in dept 72. Majority of the weekly sale is below 200000 '''"
      ],
      "execution_count": 29,
      "outputs": [
        {
          "output_type": "execute_result",
          "data": {
            "text/plain": [
              "'From the graph, we can deduct that maximum sale occurs in dept 72. Majority of the weekly sale is below 200000 '"
            ]
          },
          "metadata": {
            "tags": []
          },
          "execution_count": 29
        }
      ]
    },
    {
      "cell_type": "markdown",
      "metadata": {
        "id": "riTpbVd4_0Ki",
        "colab_type": "text"
      },
      "source": [
        "# **2. Confirming our observations**"
      ]
    },
    {
      "cell_type": "code",
      "metadata": {
        "id": "46Fb-HSD_qOi",
        "colab_type": "code",
        "outputId": "eabfb478-f52b-46b4-fb58-d2e08612ec88",
        "colab": {
          "base_uri": "https://localhost:8080/",
          "height": 168
        }
      },
      "source": [
        "'''Here we can see the maximum weekly_sale is 693099.360000. Also an interesting observation is \n",
        "that weekly_sale contains NEGATIVE VALUE which is not acceptable. So we need remove records with negative\n",
        "weekly sale from our dataframe'''\n",
        "df_train_valid[\"Weekly_Sales\"].describe()"
      ],
      "execution_count": 30,
      "outputs": [
        {
          "output_type": "execute_result",
          "data": {
            "text/plain": [
              "count    316177.000000\n",
              "mean      16037.662343\n",
              "std       22928.387599\n",
              "min       -4988.940000\n",
              "25%        2110.000000\n",
              "50%        7652.950000\n",
              "75%       20216.450000\n",
              "max      693099.360000\n",
              "Name: Weekly_Sales, dtype: float64"
            ]
          },
          "metadata": {
            "tags": []
          },
          "execution_count": 30
        }
      ]
    },
    {
      "cell_type": "code",
      "metadata": {
        "id": "xijKNRwx_qQ0",
        "colab_type": "code",
        "outputId": "1bf630ce-774d-4a09-8eb2-f3d59e08a245",
        "colab": {
          "base_uri": "https://localhost:8080/",
          "height": 77
        }
      },
      "source": [
        "max_weekly_sale = df_train_valid[df_train_valid[\"Weekly_Sales\"] == 693099.360000]\n",
        "max_weekly_sale"
      ],
      "execution_count": 31,
      "outputs": [
        {
          "output_type": "execute_result",
          "data": {
            "text/html": [
              "<div>\n",
              "<style scoped>\n",
              "    .dataframe tbody tr th:only-of-type {\n",
              "        vertical-align: middle;\n",
              "    }\n",
              "\n",
              "    .dataframe tbody tr th {\n",
              "        vertical-align: top;\n",
              "    }\n",
              "\n",
              "    .dataframe thead th {\n",
              "        text-align: right;\n",
              "    }\n",
              "</style>\n",
              "<table border=\"1\" class=\"dataframe\">\n",
              "  <thead>\n",
              "    <tr style=\"text-align: right;\">\n",
              "      <th></th>\n",
              "      <th>Store</th>\n",
              "      <th>Dept</th>\n",
              "      <th>Date</th>\n",
              "      <th>Weekly_Sales</th>\n",
              "      <th>IsHoliday</th>\n",
              "      <th>Type</th>\n",
              "      <th>Size</th>\n",
              "      <th>Temperature</th>\n",
              "      <th>Fuel_Price</th>\n",
              "      <th>CPI</th>\n",
              "      <th>Unemployment</th>\n",
              "    </tr>\n",
              "  </thead>\n",
              "  <tbody>\n",
              "    <tr>\n",
              "      <th>95373</th>\n",
              "      <td>10</td>\n",
              "      <td>72</td>\n",
              "      <td>2010-11-26</td>\n",
              "      <td>693099.36</td>\n",
              "      <td>True</td>\n",
              "      <td>B</td>\n",
              "      <td>126512</td>\n",
              "      <td>55.33</td>\n",
              "      <td>3.162</td>\n",
              "      <td>126.669267</td>\n",
              "      <td>9.003</td>\n",
              "    </tr>\n",
              "  </tbody>\n",
              "</table>\n",
              "</div>"
            ],
            "text/plain": [
              "       Store  Dept       Date  ...  Fuel_Price         CPI Unemployment\n",
              "95373     10    72 2010-11-26  ...       3.162  126.669267        9.003\n",
              "\n",
              "[1 rows x 11 columns]"
            ]
          },
          "metadata": {
            "tags": []
          },
          "execution_count": 31
        }
      ]
    },
    {
      "cell_type": "markdown",
      "metadata": {
        "id": "Z0eywmyY__1z",
        "colab_type": "text"
      },
      "source": [
        "# **3.Correlations between different variables in a dataframe:**"
      ]
    },
    {
      "cell_type": "code",
      "metadata": {
        "id": "PhzqJNp4_qUP",
        "colab_type": "code",
        "outputId": "53948a61-02b2-4bd2-9e1c-2f7ea2006efe",
        "colab": {
          "base_uri": "https://localhost:8080/",
          "height": 830
        }
      },
      "source": [
        "fig = plt.figure(figsize=(18, 14))\n",
        "corr = df_train_valid.corr()\n",
        "c = plt.pcolor(corr)\n",
        "plt.yticks(np.arange(0.5, len(corr.index), 1), corr.index)\n",
        "plt.xticks(np.arange(0.5, len(corr.columns), 1), corr.columns)\n",
        "fig.colorbar(c)"
      ],
      "execution_count": 32,
      "outputs": [
        {
          "output_type": "execute_result",
          "data": {
            "text/plain": [
              "<matplotlib.colorbar.Colorbar at 0x7fcf850c9358>"
            ]
          },
          "metadata": {
            "tags": []
          },
          "execution_count": 32
        },
        {
          "output_type": "display_data",
          "data": {
            "image/png": "[encoded data removed]",
            "text/plain": [
              "<Figure size 1296x1008 with 2 Axes>"
            ]
          },
          "metadata": {
            "tags": []
          }
        }
      ]
    },
    {
      "cell_type": "markdown",
      "metadata": {
        "id": "JacX1LicAJUT",
        "colab_type": "text"
      },
      "source": [
        "# **4.Drop records with negative weekly sale**"
      ]
    },
    {
      "cell_type": "code",
      "metadata": {
        "id": "YnUa1lsdAKt0",
        "colab_type": "code",
        "outputId": "1748a5dc-c236-43cb-9597-d366c0258b21",
        "colab": {
          "base_uri": "https://localhost:8080/",
          "height": 34
        }
      },
      "source": [
        "'''There are 937 records that contains weekly sale with negative value. Let us next check if there are any records \n",
        "with 0 weekly sale'''\n",
        "\n",
        "neg_weekly_sale=df_train_valid[df_train_valid.Weekly_Sales < 0]\n",
        "print (neg_weekly_sale.shape)"
      ],
      "execution_count": 33,
      "outputs": [
        {
          "output_type": "stream",
          "text": [
            "(937, 11)\n"
          ],
          "name": "stdout"
        }
      ]
    },
    {
      "cell_type": "code",
      "metadata": {
        "id": "qfhH_EC8AKxN",
        "colab_type": "code",
        "outputId": "5ff9d717-7b20-4f20-ace1-48eb64294ad8",
        "colab": {
          "base_uri": "https://localhost:8080/",
          "height": 34
        }
      },
      "source": [
        "'''We can see that there are 59 records with 0 weekly sale.'''\n",
        "zero_weekly_sale = df_train_valid[df_train_valid[\"Weekly_Sales\"] == 0]\n",
        "print (zero_weekly_sale.shape)"
      ],
      "execution_count": 34,
      "outputs": [
        {
          "output_type": "stream",
          "text": [
            "(59, 11)\n"
          ],
          "name": "stdout"
        }
      ]
    },
    {
      "cell_type": "code",
      "metadata": {
        "id": "GjeP9Z8sAUcM",
        "colab_type": "code",
        "outputId": "e7bb3334-4058-44a8-ffa0-c861df3d8c00",
        "colab": {
          "base_uri": "https://localhost:8080/",
          "height": 34
        }
      },
      "source": [
        "''' The negative weekly sale may be due to the misplaced negative sign while entering/inserting the weekly sale.\n",
        "Since we cannot make assumptions, we are dropping these records '''\n",
        "df_train_valid_1=df_train_valid[df_train_valid.Weekly_Sales >= 0]\n",
        "print (df_train_valid_1.shape)"
      ],
      "execution_count": 35,
      "outputs": [
        {
          "output_type": "stream",
          "text": [
            "(315240, 11)\n"
          ],
          "name": "stdout"
        }
      ]
    },
    {
      "cell_type": "code",
      "metadata": {
        "id": "szehyxB5AUej",
        "colab_type": "code",
        "outputId": "d67873ff-827b-4781-e94f-f42bd9eaa1fe",
        "colab": {
          "base_uri": "https://localhost:8080/",
          "height": 284
        }
      },
      "source": [
        "df_train_valid_1.describe()"
      ],
      "execution_count": 36,
      "outputs": [
        {
          "output_type": "execute_result",
          "data": {
            "text/html": [
              "<div>\n",
              "<style scoped>\n",
              "    .dataframe tbody tr th:only-of-type {\n",
              "        vertical-align: middle;\n",
              "    }\n",
              "\n",
              "    .dataframe tbody tr th {\n",
              "        vertical-align: top;\n",
              "    }\n",
              "\n",
              "    .dataframe thead th {\n",
              "        text-align: right;\n",
              "    }\n",
              "</style>\n",
              "<table border=\"1\" class=\"dataframe\">\n",
              "  <thead>\n",
              "    <tr style=\"text-align: right;\">\n",
              "      <th></th>\n",
              "      <th>Store</th>\n",
              "      <th>Dept</th>\n",
              "      <th>Weekly_Sales</th>\n",
              "      <th>Size</th>\n",
              "      <th>Temperature</th>\n",
              "      <th>Fuel_Price</th>\n",
              "      <th>CPI</th>\n",
              "      <th>Unemployment</th>\n",
              "    </tr>\n",
              "  </thead>\n",
              "  <tbody>\n",
              "    <tr>\n",
              "      <th>count</th>\n",
              "      <td>315240.000000</td>\n",
              "      <td>315240.000000</td>\n",
              "      <td>315240.000000</td>\n",
              "      <td>315240.000000</td>\n",
              "      <td>315240.000000</td>\n",
              "      <td>315240.000000</td>\n",
              "      <td>315240.000000</td>\n",
              "      <td>315240.000000</td>\n",
              "    </tr>\n",
              "    <tr>\n",
              "      <th>mean</th>\n",
              "      <td>22.176656</td>\n",
              "      <td>44.176367</td>\n",
              "      <td>16085.549899</td>\n",
              "      <td>136859.693675</td>\n",
              "      <td>57.642401</td>\n",
              "      <td>3.225525</td>\n",
              "      <td>169.842205</td>\n",
              "      <td>8.179939</td>\n",
              "    </tr>\n",
              "    <tr>\n",
              "      <th>std</th>\n",
              "      <td>12.782800</td>\n",
              "      <td>30.455451</td>\n",
              "      <td>22945.577760</td>\n",
              "      <td>60935.241436</td>\n",
              "      <td>19.084217</td>\n",
              "      <td>0.431991</td>\n",
              "      <td>38.599360</td>\n",
              "      <td>1.867125</td>\n",
              "    </tr>\n",
              "    <tr>\n",
              "      <th>min</th>\n",
              "      <td>1.000000</td>\n",
              "      <td>1.000000</td>\n",
              "      <td>0.000000</td>\n",
              "      <td>34875.000000</td>\n",
              "      <td>-2.060000</td>\n",
              "      <td>2.472000</td>\n",
              "      <td>126.064000</td>\n",
              "      <td>4.261000</td>\n",
              "    </tr>\n",
              "    <tr>\n",
              "      <th>25%</th>\n",
              "      <td>11.000000</td>\n",
              "      <td>18.000000</td>\n",
              "      <td>2147.567500</td>\n",
              "      <td>93638.000000</td>\n",
              "      <td>43.510000</td>\n",
              "      <td>2.826000</td>\n",
              "      <td>131.901968</td>\n",
              "      <td>7.197000</td>\n",
              "    </tr>\n",
              "    <tr>\n",
              "      <th>50%</th>\n",
              "      <td>22.000000</td>\n",
              "      <td>37.000000</td>\n",
              "      <td>7703.595000</td>\n",
              "      <td>140167.000000</td>\n",
              "      <td>58.460000</td>\n",
              "      <td>3.159000</td>\n",
              "      <td>182.120157</td>\n",
              "      <td>8.021000</td>\n",
              "    </tr>\n",
              "    <tr>\n",
              "      <th>75%</th>\n",
              "      <td>33.000000</td>\n",
              "      <td>72.000000</td>\n",
              "      <td>20276.955000</td>\n",
              "      <td>202505.000000</td>\n",
              "      <td>72.220000</td>\n",
              "      <td>3.600000</td>\n",
              "      <td>211.188693</td>\n",
              "      <td>8.625000</td>\n",
              "    </tr>\n",
              "    <tr>\n",
              "      <th>max</th>\n",
              "      <td>45.000000</td>\n",
              "      <td>99.000000</td>\n",
              "      <td>693099.360000</td>\n",
              "      <td>219622.000000</td>\n",
              "      <td>100.140000</td>\n",
              "      <td>4.211000</td>\n",
              "      <td>224.374138</td>\n",
              "      <td>14.313000</td>\n",
              "    </tr>\n",
              "  </tbody>\n",
              "</table>\n",
              "</div>"
            ],
            "text/plain": [
              "               Store           Dept  ...            CPI   Unemployment\n",
              "count  315240.000000  315240.000000  ...  315240.000000  315240.000000\n",
              "mean       22.176656      44.176367  ...     169.842205       8.179939\n",
              "std        12.782800      30.455451  ...      38.599360       1.867125\n",
              "min         1.000000       1.000000  ...     126.064000       4.261000\n",
              "25%        11.000000      18.000000  ...     131.901968       7.197000\n",
              "50%        22.000000      37.000000  ...     182.120157       8.021000\n",
              "75%        33.000000      72.000000  ...     211.188693       8.625000\n",
              "max        45.000000      99.000000  ...     224.374138      14.313000\n",
              "\n",
              "[8 rows x 8 columns]"
            ]
          },
          "metadata": {
            "tags": []
          },
          "execution_count": 36
        }
      ]
    },
    {
      "cell_type": "markdown",
      "metadata": {
        "id": "a_Qr3oH6Adb4",
        "colab_type": "text"
      },
      "source": [
        "# **5.Splitting dates and processing data**"
      ]
    },
    {
      "cell_type": "code",
      "metadata": {
        "id": "H2wMmDyVAUh9",
        "colab_type": "code",
        "colab": {}
      },
      "source": [
        "'''Define functions to preprocess data - split dates, categorize, impute'''\n",
        "\n",
        "def split_dates(df,date_column):\n",
        "    date_df = pd.DataFrame({\"year\": df[date_column].dt.year,\n",
        "              \"month\": df[date_column].dt.month,\n",
        "              \"day\": df[date_column].dt.day,\n",
        "              \"dayofyear\": df[date_column].dt.dayofyear,\n",
        "              \"week\": df[date_column].dt.week,\n",
        "              \"weekofyear\": df[date_column].dt.weekofyear,\n",
        "              \"dayofweek\": df[date_column].dt.dayofweek,\n",
        "              \"weekday\": df[date_column].dt.weekday,\n",
        "              \"quarter\": df[date_column].dt.quarter,\n",
        "             })\n",
        "    df = df.drop(date_column,axis = 1)\n",
        "    df = pd.concat([df,date_df],axis = 1)\n",
        "    return df\n",
        "\n",
        "def str_to_cat(my_df):\n",
        "    for p,q in my_df.items(): #my_df.items() is a generator in Python\n",
        "        if is_string_dtype(q): \n",
        "            my_df[p] = q.astype('category').cat.as_ordered()\n",
        "    return my_df\n",
        "def mydf_to_nums(my_df, feature, null_status):\n",
        "    if not is_numeric_dtype(feature):\n",
        "        my_df[null_status] = feature.cat.codes + 1\n",
        "        \n",
        "def mydf_imputer(my_df, feature, null_status, null_table):\n",
        "    if is_numeric_dtype(feature):\n",
        "        if pd.isnull(feature).sum() or (null_status in null_table):\n",
        "            my_df[null_status+'_na'] = pd.isnull(feature)\n",
        "            filler = null_table[null_status] if null_status in null_table else feature.median()\n",
        "            my_df[null_status] = feature.fillna(filler)\n",
        "            null_table[null_status] = filler\n",
        "    return null_table   \n",
        "\n",
        "def mydf_preprocessor(my_df, null_table):\n",
        "    '''null_table  = your table or None'''\n",
        "    \n",
        "    if null_table is None: \n",
        "        null_table = dict()\n",
        "    for p,q in my_df.items(): \n",
        "        null_table = mydf_imputer(my_df, q, p, null_table)\n",
        "    for p,q in my_df.items(): \n",
        "        mydf_to_nums(my_df, q, p)\n",
        "    my_df = pd.get_dummies(my_df, dummy_na = True)\n",
        "    res = [my_df, null_table]\n",
        "    return res"
      ],
      "execution_count": 0,
      "outputs": []
    },
    {
      "cell_type": "code",
      "metadata": {
        "id": "F2wNpfiAAaBj",
        "colab_type": "code",
        "outputId": "a7d8cc52-3c43-43eb-e873-974c3ccb5235",
        "colab": {
          "base_uri": "https://localhost:8080/",
          "height": 34
        }
      },
      "source": [
        "# Splitting dates\n",
        "df_train_valid_2 = split_dates(df_train_valid_1,\"Date\")\n",
        "print(df_train_valid_2.shape)"
      ],
      "execution_count": 38,
      "outputs": [
        {
          "output_type": "stream",
          "text": [
            "(315240, 19)\n"
          ],
          "name": "stdout"
        }
      ]
    },
    {
      "cell_type": "code",
      "metadata": {
        "id": "XpS41-yQtWqP",
        "colab_type": "code",
        "outputId": "e7cc827f-bb6a-477f-9264-470bf8bd5309",
        "colab": {
          "base_uri": "https://localhost:8080/",
          "height": 420
        }
      },
      "source": [
        "df_train_valid_2.info()"
      ],
      "execution_count": 39,
      "outputs": [
        {
          "output_type": "stream",
          "text": [
            "<class 'pandas.core.frame.DataFrame'>\n",
            "Int64Index: 315240 entries, 0 to 351531\n",
            "Data columns (total 19 columns):\n",
            "Store           315240 non-null int64\n",
            "Dept            315240 non-null int64\n",
            "Weekly_Sales    315240 non-null float64\n",
            "IsHoliday       315240 non-null bool\n",
            "Type            315240 non-null object\n",
            "Size            315240 non-null int64\n",
            "Temperature     315240 non-null float64\n",
            "Fuel_Price      315240 non-null float64\n",
            "CPI             315240 non-null float64\n",
            "Unemployment    315240 non-null float64\n",
            "year            315240 non-null int64\n",
            "month           315240 non-null int64\n",
            "day             315240 non-null int64\n",
            "dayofyear       315240 non-null int64\n",
            "week            315240 non-null int64\n",
            "weekofyear      315240 non-null int64\n",
            "dayofweek       315240 non-null int64\n",
            "weekday         315240 non-null int64\n",
            "quarter         315240 non-null int64\n",
            "dtypes: bool(1), float64(5), int64(12), object(1)\n",
            "memory usage: 46.0+ MB\n"
          ],
          "name": "stdout"
        }
      ]
    },
    {
      "cell_type": "code",
      "metadata": {
        "id": "Z0Bkc_oLAaD9",
        "colab_type": "code",
        "outputId": "5a9200cf-1d46-4eba-ad8e-ab6601251022",
        "colab": {
          "base_uri": "https://localhost:8080/",
          "height": 173
        }
      },
      "source": [
        "# Converting string to category\n",
        "df_train_valid_3 = str_to_cat(df_train_valid_2)\n",
        "print(df_train_valid_3.shape)\n",
        "df_train_valid_3.head(3)"
      ],
      "execution_count": 40,
      "outputs": [
        {
          "output_type": "stream",
          "text": [
            "(315240, 19)\n"
          ],
          "name": "stdout"
        },
        {
          "output_type": "execute_result",
          "data": {
            "text/html": [
              "<div>\n",
              "<style scoped>\n",
              "    .dataframe tbody tr th:only-of-type {\n",
              "        vertical-align: middle;\n",
              "    }\n",
              "\n",
              "    .dataframe tbody tr th {\n",
              "        vertical-align: top;\n",
              "    }\n",
              "\n",
              "    .dataframe thead th {\n",
              "        text-align: right;\n",
              "    }\n",
              "</style>\n",
              "<table border=\"1\" class=\"dataframe\">\n",
              "  <thead>\n",
              "    <tr style=\"text-align: right;\">\n",
              "      <th></th>\n",
              "      <th>Store</th>\n",
              "      <th>Dept</th>\n",
              "      <th>Weekly_Sales</th>\n",
              "      <th>IsHoliday</th>\n",
              "      <th>Type</th>\n",
              "      <th>Size</th>\n",
              "      <th>Temperature</th>\n",
              "      <th>Fuel_Price</th>\n",
              "      <th>CPI</th>\n",
              "      <th>Unemployment</th>\n",
              "      <th>year</th>\n",
              "      <th>month</th>\n",
              "      <th>day</th>\n",
              "      <th>dayofyear</th>\n",
              "      <th>week</th>\n",
              "      <th>weekofyear</th>\n",
              "      <th>dayofweek</th>\n",
              "      <th>weekday</th>\n",
              "      <th>quarter</th>\n",
              "    </tr>\n",
              "  </thead>\n",
              "  <tbody>\n",
              "    <tr>\n",
              "      <th>0</th>\n",
              "      <td>1</td>\n",
              "      <td>1</td>\n",
              "      <td>24924.50</td>\n",
              "      <td>False</td>\n",
              "      <td>A</td>\n",
              "      <td>151315</td>\n",
              "      <td>42.31</td>\n",
              "      <td>2.572</td>\n",
              "      <td>211.096358</td>\n",
              "      <td>8.106</td>\n",
              "      <td>2010</td>\n",
              "      <td>2</td>\n",
              "      <td>5</td>\n",
              "      <td>36</td>\n",
              "      <td>5</td>\n",
              "      <td>5</td>\n",
              "      <td>4</td>\n",
              "      <td>4</td>\n",
              "      <td>1</td>\n",
              "    </tr>\n",
              "    <tr>\n",
              "      <th>277665</th>\n",
              "      <td>29</td>\n",
              "      <td>5</td>\n",
              "      <td>15552.08</td>\n",
              "      <td>False</td>\n",
              "      <td>B</td>\n",
              "      <td>93638</td>\n",
              "      <td>24.36</td>\n",
              "      <td>2.788</td>\n",
              "      <td>131.527903</td>\n",
              "      <td>10.064</td>\n",
              "      <td>2010</td>\n",
              "      <td>2</td>\n",
              "      <td>5</td>\n",
              "      <td>36</td>\n",
              "      <td>5</td>\n",
              "      <td>5</td>\n",
              "      <td>4</td>\n",
              "      <td>4</td>\n",
              "      <td>1</td>\n",
              "    </tr>\n",
              "    <tr>\n",
              "      <th>277808</th>\n",
              "      <td>29</td>\n",
              "      <td>6</td>\n",
              "      <td>3200.22</td>\n",
              "      <td>False</td>\n",
              "      <td>B</td>\n",
              "      <td>93638</td>\n",
              "      <td>24.36</td>\n",
              "      <td>2.788</td>\n",
              "      <td>131.527903</td>\n",
              "      <td>10.064</td>\n",
              "      <td>2010</td>\n",
              "      <td>2</td>\n",
              "      <td>5</td>\n",
              "      <td>36</td>\n",
              "      <td>5</td>\n",
              "      <td>5</td>\n",
              "      <td>4</td>\n",
              "      <td>4</td>\n",
              "      <td>1</td>\n",
              "    </tr>\n",
              "  </tbody>\n",
              "</table>\n",
              "</div>"
            ],
            "text/plain": [
              "        Store  Dept  Weekly_Sales  ...  dayofweek weekday  quarter\n",
              "0           1     1      24924.50  ...          4       4        1\n",
              "277665     29     5      15552.08  ...          4       4        1\n",
              "277808     29     6       3200.22  ...          4       4        1\n",
              "\n",
              "[3 rows x 19 columns]"
            ]
          },
          "metadata": {
            "tags": []
          },
          "execution_count": 40
        }
      ]
    },
    {
      "cell_type": "code",
      "metadata": {
        "id": "VvqFyUBotRjt",
        "colab_type": "code",
        "outputId": "15b2bfd4-6c52-4013-a287-7303d981d57d",
        "colab": {
          "base_uri": "https://localhost:8080/",
          "height": 420
        }
      },
      "source": [
        "df_train_valid_3.info()"
      ],
      "execution_count": 41,
      "outputs": [
        {
          "output_type": "stream",
          "text": [
            "<class 'pandas.core.frame.DataFrame'>\n",
            "Int64Index: 315240 entries, 0 to 351531\n",
            "Data columns (total 19 columns):\n",
            "Store           315240 non-null int64\n",
            "Dept            315240 non-null int64\n",
            "Weekly_Sales    315240 non-null float64\n",
            "IsHoliday       315240 non-null bool\n",
            "Type            315240 non-null category\n",
            "Size            315240 non-null int64\n",
            "Temperature     315240 non-null float64\n",
            "Fuel_Price      315240 non-null float64\n",
            "CPI             315240 non-null float64\n",
            "Unemployment    315240 non-null float64\n",
            "year            315240 non-null int64\n",
            "month           315240 non-null int64\n",
            "day             315240 non-null int64\n",
            "dayofyear       315240 non-null int64\n",
            "week            315240 non-null int64\n",
            "weekofyear      315240 non-null int64\n",
            "dayofweek       315240 non-null int64\n",
            "weekday         315240 non-null int64\n",
            "quarter         315240 non-null int64\n",
            "dtypes: bool(1), category(1), float64(5), int64(12)\n",
            "memory usage: 43.9 MB\n"
          ],
          "name": "stdout"
        }
      ]
    },
    {
      "cell_type": "code",
      "metadata": {
        "id": "Pn0r1aYxAaGW",
        "colab_type": "code",
        "outputId": "ffb1e011-70f2-4d12-b8ba-29b33e9711fe",
        "colab": {
          "base_uri": "https://localhost:8080/",
          "height": 173
        }
      },
      "source": [
        "# Imputing null values. The output from the above line of code indicates that there are no null values in the train dataframe.\n",
        "train_processed,my_table = mydf_preprocessor(df_train_valid_3,null_table = None)\n",
        "print(train_processed.shape)\n",
        "train_processed.head(3)"
      ],
      "execution_count": 42,
      "outputs": [
        {
          "output_type": "stream",
          "text": [
            "(315240, 19)\n"
          ],
          "name": "stdout"
        },
        {
          "output_type": "execute_result",
          "data": {
            "text/html": [
              "<div>\n",
              "<style scoped>\n",
              "    .dataframe tbody tr th:only-of-type {\n",
              "        vertical-align: middle;\n",
              "    }\n",
              "\n",
              "    .dataframe tbody tr th {\n",
              "        vertical-align: top;\n",
              "    }\n",
              "\n",
              "    .dataframe thead th {\n",
              "        text-align: right;\n",
              "    }\n",
              "</style>\n",
              "<table border=\"1\" class=\"dataframe\">\n",
              "  <thead>\n",
              "    <tr style=\"text-align: right;\">\n",
              "      <th></th>\n",
              "      <th>Store</th>\n",
              "      <th>Dept</th>\n",
              "      <th>Weekly_Sales</th>\n",
              "      <th>IsHoliday</th>\n",
              "      <th>Type</th>\n",
              "      <th>Size</th>\n",
              "      <th>Temperature</th>\n",
              "      <th>Fuel_Price</th>\n",
              "      <th>CPI</th>\n",
              "      <th>Unemployment</th>\n",
              "      <th>year</th>\n",
              "      <th>month</th>\n",
              "      <th>day</th>\n",
              "      <th>dayofyear</th>\n",
              "      <th>week</th>\n",
              "      <th>weekofyear</th>\n",
              "      <th>dayofweek</th>\n",
              "      <th>weekday</th>\n",
              "      <th>quarter</th>\n",
              "    </tr>\n",
              "  </thead>\n",
              "  <tbody>\n",
              "    <tr>\n",
              "      <th>0</th>\n",
              "      <td>1</td>\n",
              "      <td>1</td>\n",
              "      <td>24924.50</td>\n",
              "      <td>False</td>\n",
              "      <td>1</td>\n",
              "      <td>151315</td>\n",
              "      <td>42.31</td>\n",
              "      <td>2.572</td>\n",
              "      <td>211.096358</td>\n",
              "      <td>8.106</td>\n",
              "      <td>2010</td>\n",
              "      <td>2</td>\n",
              "      <td>5</td>\n",
              "      <td>36</td>\n",
              "      <td>5</td>\n",
              "      <td>5</td>\n",
              "      <td>4</td>\n",
              "      <td>4</td>\n",
              "      <td>1</td>\n",
              "    </tr>\n",
              "    <tr>\n",
              "      <th>277665</th>\n",
              "      <td>29</td>\n",
              "      <td>5</td>\n",
              "      <td>15552.08</td>\n",
              "      <td>False</td>\n",
              "      <td>2</td>\n",
              "      <td>93638</td>\n",
              "      <td>24.36</td>\n",
              "      <td>2.788</td>\n",
              "      <td>131.527903</td>\n",
              "      <td>10.064</td>\n",
              "      <td>2010</td>\n",
              "      <td>2</td>\n",
              "      <td>5</td>\n",
              "      <td>36</td>\n",
              "      <td>5</td>\n",
              "      <td>5</td>\n",
              "      <td>4</td>\n",
              "      <td>4</td>\n",
              "      <td>1</td>\n",
              "    </tr>\n",
              "    <tr>\n",
              "      <th>277808</th>\n",
              "      <td>29</td>\n",
              "      <td>6</td>\n",
              "      <td>3200.22</td>\n",
              "      <td>False</td>\n",
              "      <td>2</td>\n",
              "      <td>93638</td>\n",
              "      <td>24.36</td>\n",
              "      <td>2.788</td>\n",
              "      <td>131.527903</td>\n",
              "      <td>10.064</td>\n",
              "      <td>2010</td>\n",
              "      <td>2</td>\n",
              "      <td>5</td>\n",
              "      <td>36</td>\n",
              "      <td>5</td>\n",
              "      <td>5</td>\n",
              "      <td>4</td>\n",
              "      <td>4</td>\n",
              "      <td>1</td>\n",
              "    </tr>\n",
              "  </tbody>\n",
              "</table>\n",
              "</div>"
            ],
            "text/plain": [
              "        Store  Dept  Weekly_Sales  ...  dayofweek  weekday  quarter\n",
              "0           1     1      24924.50  ...          4        4        1\n",
              "277665     29     5      15552.08  ...          4        4        1\n",
              "277808     29     6       3200.22  ...          4        4        1\n",
              "\n",
              "[3 rows x 19 columns]"
            ]
          },
          "metadata": {
            "tags": []
          },
          "execution_count": 42
        }
      ]
    },
    {
      "cell_type": "code",
      "metadata": {
        "id": "5baLZqfPAaJx",
        "colab_type": "code",
        "outputId": "7f0db4c8-7cce-42d7-d682-9594d3922cca",
        "colab": {
          "base_uri": "https://localhost:8080/",
          "height": 420
        }
      },
      "source": [
        "train_processed.info()"
      ],
      "execution_count": 43,
      "outputs": [
        {
          "output_type": "stream",
          "text": [
            "<class 'pandas.core.frame.DataFrame'>\n",
            "Int64Index: 315240 entries, 0 to 351531\n",
            "Data columns (total 19 columns):\n",
            "Store           315240 non-null int64\n",
            "Dept            315240 non-null int64\n",
            "Weekly_Sales    315240 non-null float64\n",
            "IsHoliday       315240 non-null bool\n",
            "Type            315240 non-null int8\n",
            "Size            315240 non-null int64\n",
            "Temperature     315240 non-null float64\n",
            "Fuel_Price      315240 non-null float64\n",
            "CPI             315240 non-null float64\n",
            "Unemployment    315240 non-null float64\n",
            "year            315240 non-null int64\n",
            "month           315240 non-null int64\n",
            "day             315240 non-null int64\n",
            "dayofyear       315240 non-null int64\n",
            "week            315240 non-null int64\n",
            "weekofyear      315240 non-null int64\n",
            "dayofweek       315240 non-null int64\n",
            "weekday         315240 non-null int64\n",
            "quarter         315240 non-null int64\n",
            "dtypes: bool(1), float64(5), int64(12), int8(1)\n",
            "memory usage: 43.9 MB\n"
          ],
          "name": "stdout"
        }
      ]
    },
    {
      "cell_type": "code",
      "metadata": {
        "id": "Gyu04OUuAyfh",
        "colab_type": "code",
        "outputId": "2874b994-771a-473e-9218-51e87050b937",
        "colab": {
          "base_uri": "https://localhost:8080/",
          "height": 34
        }
      },
      "source": [
        "my_table"
      ],
      "execution_count": 44,
      "outputs": [
        {
          "output_type": "execute_result",
          "data": {
            "text/plain": [
              "{}"
            ]
          },
          "metadata": {
            "tags": []
          },
          "execution_count": 44
        }
      ]
    },
    {
      "cell_type": "code",
      "metadata": {
        "id": "Jppr0ACjReUP",
        "colab_type": "code",
        "outputId": "2450ff8c-8c75-4434-874a-4a96b75cee65",
        "colab": {
          "base_uri": "https://localhost:8080/",
          "height": 420
        }
      },
      "source": [
        "train_processed.info()"
      ],
      "execution_count": 45,
      "outputs": [
        {
          "output_type": "stream",
          "text": [
            "<class 'pandas.core.frame.DataFrame'>\n",
            "Int64Index: 315240 entries, 0 to 351531\n",
            "Data columns (total 19 columns):\n",
            "Store           315240 non-null int64\n",
            "Dept            315240 non-null int64\n",
            "Weekly_Sales    315240 non-null float64\n",
            "IsHoliday       315240 non-null bool\n",
            "Type            315240 non-null int8\n",
            "Size            315240 non-null int64\n",
            "Temperature     315240 non-null float64\n",
            "Fuel_Price      315240 non-null float64\n",
            "CPI             315240 non-null float64\n",
            "Unemployment    315240 non-null float64\n",
            "year            315240 non-null int64\n",
            "month           315240 non-null int64\n",
            "day             315240 non-null int64\n",
            "dayofyear       315240 non-null int64\n",
            "week            315240 non-null int64\n",
            "weekofyear      315240 non-null int64\n",
            "dayofweek       315240 non-null int64\n",
            "weekday         315240 non-null int64\n",
            "quarter         315240 non-null int64\n",
            "dtypes: bool(1), float64(5), int64(12), int8(1)\n",
            "memory usage: 43.9 MB\n"
          ],
          "name": "stdout"
        }
      ]
    },
    {
      "cell_type": "markdown",
      "metadata": {
        "id": "IzBjbJlIZI7O",
        "colab_type": "text"
      },
      "source": [
        "**Creating new column based on weight**"
      ]
    },
    {
      "cell_type": "code",
      "metadata": {
        "id": "KPWvLHW8ZO8e",
        "colab_type": "code",
        "colab": {}
      },
      "source": [
        "''' Creating new column \"IsHoliday_weight\" based on weight assigned on column \"IsHoliday\".\n",
        "If the value in IsHoliday column is true, assign 5 else assign 1'''\n",
        "train_processed['IsHoliday_weight']=train_processed['IsHoliday'].replace(True, 5).replace(False, 1)"
      ],
      "execution_count": 0,
      "outputs": []
    },
    {
      "cell_type": "code",
      "metadata": {
        "id": "Ikxolrl-ZPGv",
        "colab_type": "code",
        "colab": {}
      },
      "source": [
        "'''Converting to int datatype'''\n",
        "train_processed.IsHoliday_weight = train_processed.IsHoliday_weight.astype(int)"
      ],
      "execution_count": 0,
      "outputs": []
    },
    {
      "cell_type": "code",
      "metadata": {
        "id": "lwfh57RYAyiJ",
        "colab_type": "code",
        "outputId": "e0aa44ef-320c-46e4-9800-44d9d84e4048",
        "colab": {
          "base_uri": "https://localhost:8080/",
          "height": 215
        }
      },
      "source": [
        "train_processed.head()"
      ],
      "execution_count": 48,
      "outputs": [
        {
          "output_type": "execute_result",
          "data": {
            "text/html": [
              "<div>\n",
              "<style scoped>\n",
              "    .dataframe tbody tr th:only-of-type {\n",
              "        vertical-align: middle;\n",
              "    }\n",
              "\n",
              "    .dataframe tbody tr th {\n",
              "        vertical-align: top;\n",
              "    }\n",
              "\n",
              "    .dataframe thead th {\n",
              "        text-align: right;\n",
              "    }\n",
              "</style>\n",
              "<table border=\"1\" class=\"dataframe\">\n",
              "  <thead>\n",
              "    <tr style=\"text-align: right;\">\n",
              "      <th></th>\n",
              "      <th>Store</th>\n",
              "      <th>Dept</th>\n",
              "      <th>Weekly_Sales</th>\n",
              "      <th>IsHoliday</th>\n",
              "      <th>Type</th>\n",
              "      <th>Size</th>\n",
              "      <th>Temperature</th>\n",
              "      <th>Fuel_Price</th>\n",
              "      <th>CPI</th>\n",
              "      <th>Unemployment</th>\n",
              "      <th>year</th>\n",
              "      <th>month</th>\n",
              "      <th>day</th>\n",
              "      <th>dayofyear</th>\n",
              "      <th>week</th>\n",
              "      <th>weekofyear</th>\n",
              "      <th>dayofweek</th>\n",
              "      <th>weekday</th>\n",
              "      <th>quarter</th>\n",
              "      <th>IsHoliday_weight</th>\n",
              "    </tr>\n",
              "  </thead>\n",
              "  <tbody>\n",
              "    <tr>\n",
              "      <th>0</th>\n",
              "      <td>1</td>\n",
              "      <td>1</td>\n",
              "      <td>24924.50</td>\n",
              "      <td>False</td>\n",
              "      <td>1</td>\n",
              "      <td>151315</td>\n",
              "      <td>42.31</td>\n",
              "      <td>2.572</td>\n",
              "      <td>211.096358</td>\n",
              "      <td>8.106</td>\n",
              "      <td>2010</td>\n",
              "      <td>2</td>\n",
              "      <td>5</td>\n",
              "      <td>36</td>\n",
              "      <td>5</td>\n",
              "      <td>5</td>\n",
              "      <td>4</td>\n",
              "      <td>4</td>\n",
              "      <td>1</td>\n",
              "      <td>1</td>\n",
              "    </tr>\n",
              "    <tr>\n",
              "      <th>277665</th>\n",
              "      <td>29</td>\n",
              "      <td>5</td>\n",
              "      <td>15552.08</td>\n",
              "      <td>False</td>\n",
              "      <td>2</td>\n",
              "      <td>93638</td>\n",
              "      <td>24.36</td>\n",
              "      <td>2.788</td>\n",
              "      <td>131.527903</td>\n",
              "      <td>10.064</td>\n",
              "      <td>2010</td>\n",
              "      <td>2</td>\n",
              "      <td>5</td>\n",
              "      <td>36</td>\n",
              "      <td>5</td>\n",
              "      <td>5</td>\n",
              "      <td>4</td>\n",
              "      <td>4</td>\n",
              "      <td>1</td>\n",
              "      <td>1</td>\n",
              "    </tr>\n",
              "    <tr>\n",
              "      <th>277808</th>\n",
              "      <td>29</td>\n",
              "      <td>6</td>\n",
              "      <td>3200.22</td>\n",
              "      <td>False</td>\n",
              "      <td>2</td>\n",
              "      <td>93638</td>\n",
              "      <td>24.36</td>\n",
              "      <td>2.788</td>\n",
              "      <td>131.527903</td>\n",
              "      <td>10.064</td>\n",
              "      <td>2010</td>\n",
              "      <td>2</td>\n",
              "      <td>5</td>\n",
              "      <td>36</td>\n",
              "      <td>5</td>\n",
              "      <td>5</td>\n",
              "      <td>4</td>\n",
              "      <td>4</td>\n",
              "      <td>1</td>\n",
              "      <td>1</td>\n",
              "    </tr>\n",
              "    <tr>\n",
              "      <th>277951</th>\n",
              "      <td>29</td>\n",
              "      <td>7</td>\n",
              "      <td>10820.05</td>\n",
              "      <td>False</td>\n",
              "      <td>2</td>\n",
              "      <td>93638</td>\n",
              "      <td>24.36</td>\n",
              "      <td>2.788</td>\n",
              "      <td>131.527903</td>\n",
              "      <td>10.064</td>\n",
              "      <td>2010</td>\n",
              "      <td>2</td>\n",
              "      <td>5</td>\n",
              "      <td>36</td>\n",
              "      <td>5</td>\n",
              "      <td>5</td>\n",
              "      <td>4</td>\n",
              "      <td>4</td>\n",
              "      <td>1</td>\n",
              "      <td>1</td>\n",
              "    </tr>\n",
              "    <tr>\n",
              "      <th>278094</th>\n",
              "      <td>29</td>\n",
              "      <td>8</td>\n",
              "      <td>20055.64</td>\n",
              "      <td>False</td>\n",
              "      <td>2</td>\n",
              "      <td>93638</td>\n",
              "      <td>24.36</td>\n",
              "      <td>2.788</td>\n",
              "      <td>131.527903</td>\n",
              "      <td>10.064</td>\n",
              "      <td>2010</td>\n",
              "      <td>2</td>\n",
              "      <td>5</td>\n",
              "      <td>36</td>\n",
              "      <td>5</td>\n",
              "      <td>5</td>\n",
              "      <td>4</td>\n",
              "      <td>4</td>\n",
              "      <td>1</td>\n",
              "      <td>1</td>\n",
              "    </tr>\n",
              "  </tbody>\n",
              "</table>\n",
              "</div>"
            ],
            "text/plain": [
              "        Store  Dept  Weekly_Sales  ...  weekday  quarter  IsHoliday_weight\n",
              "0           1     1      24924.50  ...        4        1                 1\n",
              "277665     29     5      15552.08  ...        4        1                 1\n",
              "277808     29     6       3200.22  ...        4        1                 1\n",
              "277951     29     7      10820.05  ...        4        1                 1\n",
              "278094     29     8      20055.64  ...        4        1                 1\n",
              "\n",
              "[5 rows x 20 columns]"
            ]
          },
          "metadata": {
            "tags": []
          },
          "execution_count": 48
        }
      ]
    },
    {
      "cell_type": "code",
      "metadata": {
        "id": "sK_Dn6UYAyka",
        "colab_type": "code",
        "colab": {}
      },
      "source": [
        "'''Separating target variable and input variable'''\n",
        "Y = train_processed[\"Weekly_Sales\"]\n",
        "X = train_processed.drop([\"Weekly_Sales\"],axis = 1)"
      ],
      "execution_count": 0,
      "outputs": []
    },
    {
      "cell_type": "code",
      "metadata": {
        "id": "-PuCGyIqXeMN",
        "colab_type": "code",
        "outputId": "73727c11-2b73-46a3-911b-eb1bc35948dd",
        "colab": {
          "base_uri": "https://localhost:8080/",
          "height": 420
        }
      },
      "source": [
        "X.info()"
      ],
      "execution_count": 50,
      "outputs": [
        {
          "output_type": "stream",
          "text": [
            "<class 'pandas.core.frame.DataFrame'>\n",
            "Int64Index: 315240 entries, 0 to 351531\n",
            "Data columns (total 19 columns):\n",
            "Store               315240 non-null int64\n",
            "Dept                315240 non-null int64\n",
            "IsHoliday           315240 non-null bool\n",
            "Type                315240 non-null int8\n",
            "Size                315240 non-null int64\n",
            "Temperature         315240 non-null float64\n",
            "Fuel_Price          315240 non-null float64\n",
            "CPI                 315240 non-null float64\n",
            "Unemployment        315240 non-null float64\n",
            "year                315240 non-null int64\n",
            "month               315240 non-null int64\n",
            "day                 315240 non-null int64\n",
            "dayofyear           315240 non-null int64\n",
            "week                315240 non-null int64\n",
            "weekofyear          315240 non-null int64\n",
            "dayofweek           315240 non-null int64\n",
            "weekday             315240 non-null int64\n",
            "quarter             315240 non-null int64\n",
            "IsHoliday_weight    315240 non-null int64\n",
            "dtypes: bool(1), float64(4), int64(13), int8(1)\n",
            "memory usage: 43.9 MB\n"
          ],
          "name": "stdout"
        }
      ]
    },
    {
      "cell_type": "markdown",
      "metadata": {
        "id": "ykKjAyH-Wa5V",
        "colab_type": "text"
      },
      "source": [
        "**Data Scaling**"
      ]
    },
    {
      "cell_type": "code",
      "metadata": {
        "id": "2lrlRFhjZmIc",
        "colab_type": "code",
        "outputId": "5a82323c-6d25-4218-9288-d252ddd9769d",
        "colab": {
          "base_uri": "https://localhost:8080/",
          "height": 34
        }
      },
      "source": [
        "'''Splitting continuous and categorical columns'''\n",
        "X_con = X[['Size','Temperature','Fuel_Price','CPI','Unemployment']]\n",
        "X_cat = X.drop(X_con,axis = 1)\n",
        "print(X_cat.shape,X_con.shape)"
      ],
      "execution_count": 51,
      "outputs": [
        {
          "output_type": "stream",
          "text": [
            "(315240, 14) (315240, 5)\n"
          ],
          "name": "stdout"
        }
      ]
    },
    {
      "cell_type": "code",
      "metadata": {
        "id": "qKxb0kIuVVdA",
        "colab_type": "code",
        "outputId": "7b9b0125-5d9c-4515-95e8-1e2efcefd8d9",
        "colab": {
          "base_uri": "https://localhost:8080/",
          "height": 106
        }
      },
      "source": [
        "'''Scaling data'''\n",
        "scaler = preprocessing.StandardScaler().fit(X_con)\n",
        "X_scaled = pd.DataFrame(scaler.transform(X_con))\n",
        "X_scaled.columns = [\"Size\",\"Temperature\",\"Fuel_Price\",\"CPI\",\"Unemployment\"]\n",
        "X_scaled.head(2)\n"
      ],
      "execution_count": 52,
      "outputs": [
        {
          "output_type": "execute_result",
          "data": {
            "text/html": [
              "<div>\n",
              "<style scoped>\n",
              "    .dataframe tbody tr th:only-of-type {\n",
              "        vertical-align: middle;\n",
              "    }\n",
              "\n",
              "    .dataframe tbody tr th {\n",
              "        vertical-align: top;\n",
              "    }\n",
              "\n",
              "    .dataframe thead th {\n",
              "        text-align: right;\n",
              "    }\n",
              "</style>\n",
              "<table border=\"1\" class=\"dataframe\">\n",
              "  <thead>\n",
              "    <tr style=\"text-align: right;\">\n",
              "      <th></th>\n",
              "      <th>Size</th>\n",
              "      <th>Temperature</th>\n",
              "      <th>Fuel_Price</th>\n",
              "      <th>CPI</th>\n",
              "      <th>Unemployment</th>\n",
              "    </tr>\n",
              "  </thead>\n",
              "  <tbody>\n",
              "    <tr>\n",
              "      <th>0</th>\n",
              "      <td>0.237224</td>\n",
              "      <td>-0.803409</td>\n",
              "      <td>-1.512824</td>\n",
              "      <td>1.068780</td>\n",
              "      <td>-0.039600</td>\n",
              "    </tr>\n",
              "    <tr>\n",
              "      <th>1</th>\n",
              "      <td>-0.709306</td>\n",
              "      <td>-1.743978</td>\n",
              "      <td>-1.012812</td>\n",
              "      <td>-0.992617</td>\n",
              "      <td>1.009073</td>\n",
              "    </tr>\n",
              "  </tbody>\n",
              "</table>\n",
              "</div>"
            ],
            "text/plain": [
              "       Size  Temperature  Fuel_Price       CPI  Unemployment\n",
              "0  0.237224    -0.803409   -1.512824  1.068780     -0.039600\n",
              "1 -0.709306    -1.743978   -1.012812 -0.992617      1.009073"
            ]
          },
          "metadata": {
            "tags": []
          },
          "execution_count": 52
        }
      ]
    },
    {
      "cell_type": "code",
      "metadata": {
        "id": "FyBDf70Pmk9Z",
        "colab_type": "code",
        "outputId": "b3877406-51f7-41de-c806-1bb8fd9cf986",
        "colab": {
          "base_uri": "https://localhost:8080/",
          "height": 195
        }
      },
      "source": [
        "#Re-index before merging\n",
        "X_cat.reset_index(inplace = True,drop = False)\n",
        "X_cat.head()"
      ],
      "execution_count": 53,
      "outputs": [
        {
          "output_type": "execute_result",
          "data": {
            "text/html": [
              "<div>\n",
              "<style scoped>\n",
              "    .dataframe tbody tr th:only-of-type {\n",
              "        vertical-align: middle;\n",
              "    }\n",
              "\n",
              "    .dataframe tbody tr th {\n",
              "        vertical-align: top;\n",
              "    }\n",
              "\n",
              "    .dataframe thead th {\n",
              "        text-align: right;\n",
              "    }\n",
              "</style>\n",
              "<table border=\"1\" class=\"dataframe\">\n",
              "  <thead>\n",
              "    <tr style=\"text-align: right;\">\n",
              "      <th></th>\n",
              "      <th>index</th>\n",
              "      <th>Store</th>\n",
              "      <th>Dept</th>\n",
              "      <th>IsHoliday</th>\n",
              "      <th>Type</th>\n",
              "      <th>year</th>\n",
              "      <th>month</th>\n",
              "      <th>day</th>\n",
              "      <th>dayofyear</th>\n",
              "      <th>week</th>\n",
              "      <th>weekofyear</th>\n",
              "      <th>dayofweek</th>\n",
              "      <th>weekday</th>\n",
              "      <th>quarter</th>\n",
              "      <th>IsHoliday_weight</th>\n",
              "    </tr>\n",
              "  </thead>\n",
              "  <tbody>\n",
              "    <tr>\n",
              "      <th>0</th>\n",
              "      <td>0</td>\n",
              "      <td>1</td>\n",
              "      <td>1</td>\n",
              "      <td>False</td>\n",
              "      <td>1</td>\n",
              "      <td>2010</td>\n",
              "      <td>2</td>\n",
              "      <td>5</td>\n",
              "      <td>36</td>\n",
              "      <td>5</td>\n",
              "      <td>5</td>\n",
              "      <td>4</td>\n",
              "      <td>4</td>\n",
              "      <td>1</td>\n",
              "      <td>1</td>\n",
              "    </tr>\n",
              "    <tr>\n",
              "      <th>1</th>\n",
              "      <td>277665</td>\n",
              "      <td>29</td>\n",
              "      <td>5</td>\n",
              "      <td>False</td>\n",
              "      <td>2</td>\n",
              "      <td>2010</td>\n",
              "      <td>2</td>\n",
              "      <td>5</td>\n",
              "      <td>36</td>\n",
              "      <td>5</td>\n",
              "      <td>5</td>\n",
              "      <td>4</td>\n",
              "      <td>4</td>\n",
              "      <td>1</td>\n",
              "      <td>1</td>\n",
              "    </tr>\n",
              "    <tr>\n",
              "      <th>2</th>\n",
              "      <td>277808</td>\n",
              "      <td>29</td>\n",
              "      <td>6</td>\n",
              "      <td>False</td>\n",
              "      <td>2</td>\n",
              "      <td>2010</td>\n",
              "      <td>2</td>\n",
              "      <td>5</td>\n",
              "      <td>36</td>\n",
              "      <td>5</td>\n",
              "      <td>5</td>\n",
              "      <td>4</td>\n",
              "      <td>4</td>\n",
              "      <td>1</td>\n",
              "      <td>1</td>\n",
              "    </tr>\n",
              "    <tr>\n",
              "      <th>3</th>\n",
              "      <td>277951</td>\n",
              "      <td>29</td>\n",
              "      <td>7</td>\n",
              "      <td>False</td>\n",
              "      <td>2</td>\n",
              "      <td>2010</td>\n",
              "      <td>2</td>\n",
              "      <td>5</td>\n",
              "      <td>36</td>\n",
              "      <td>5</td>\n",
              "      <td>5</td>\n",
              "      <td>4</td>\n",
              "      <td>4</td>\n",
              "      <td>1</td>\n",
              "      <td>1</td>\n",
              "    </tr>\n",
              "    <tr>\n",
              "      <th>4</th>\n",
              "      <td>278094</td>\n",
              "      <td>29</td>\n",
              "      <td>8</td>\n",
              "      <td>False</td>\n",
              "      <td>2</td>\n",
              "      <td>2010</td>\n",
              "      <td>2</td>\n",
              "      <td>5</td>\n",
              "      <td>36</td>\n",
              "      <td>5</td>\n",
              "      <td>5</td>\n",
              "      <td>4</td>\n",
              "      <td>4</td>\n",
              "      <td>1</td>\n",
              "      <td>1</td>\n",
              "    </tr>\n",
              "  </tbody>\n",
              "</table>\n",
              "</div>"
            ],
            "text/plain": [
              "    index  Store  Dept  ...  weekday  quarter  IsHoliday_weight\n",
              "0       0      1     1  ...        4        1                 1\n",
              "1  277665     29     5  ...        4        1                 1\n",
              "2  277808     29     6  ...        4        1                 1\n",
              "3  277951     29     7  ...        4        1                 1\n",
              "4  278094     29     8  ...        4        1                 1\n",
              "\n",
              "[5 rows x 15 columns]"
            ]
          },
          "metadata": {
            "tags": []
          },
          "execution_count": 53
        }
      ]
    },
    {
      "cell_type": "code",
      "metadata": {
        "id": "qLRnhVX1m4Lk",
        "colab_type": "code",
        "outputId": "fcfa1f7d-8f63-4968-ff2a-7f52dde6aea3",
        "colab": {
          "base_uri": "https://localhost:8080/",
          "height": 106
        }
      },
      "source": [
        "X_cat.drop(\"index\",inplace = True,axis = 1)\n",
        "X_cat.head(2)"
      ],
      "execution_count": 54,
      "outputs": [
        {
          "output_type": "execute_result",
          "data": {
            "text/html": [
              "<div>\n",
              "<style scoped>\n",
              "    .dataframe tbody tr th:only-of-type {\n",
              "        vertical-align: middle;\n",
              "    }\n",
              "\n",
              "    .dataframe tbody tr th {\n",
              "        vertical-align: top;\n",
              "    }\n",
              "\n",
              "    .dataframe thead th {\n",
              "        text-align: right;\n",
              "    }\n",
              "</style>\n",
              "<table border=\"1\" class=\"dataframe\">\n",
              "  <thead>\n",
              "    <tr style=\"text-align: right;\">\n",
              "      <th></th>\n",
              "      <th>Store</th>\n",
              "      <th>Dept</th>\n",
              "      <th>IsHoliday</th>\n",
              "      <th>Type</th>\n",
              "      <th>year</th>\n",
              "      <th>month</th>\n",
              "      <th>day</th>\n",
              "      <th>dayofyear</th>\n",
              "      <th>week</th>\n",
              "      <th>weekofyear</th>\n",
              "      <th>dayofweek</th>\n",
              "      <th>weekday</th>\n",
              "      <th>quarter</th>\n",
              "      <th>IsHoliday_weight</th>\n",
              "    </tr>\n",
              "  </thead>\n",
              "  <tbody>\n",
              "    <tr>\n",
              "      <th>0</th>\n",
              "      <td>1</td>\n",
              "      <td>1</td>\n",
              "      <td>False</td>\n",
              "      <td>1</td>\n",
              "      <td>2010</td>\n",
              "      <td>2</td>\n",
              "      <td>5</td>\n",
              "      <td>36</td>\n",
              "      <td>5</td>\n",
              "      <td>5</td>\n",
              "      <td>4</td>\n",
              "      <td>4</td>\n",
              "      <td>1</td>\n",
              "      <td>1</td>\n",
              "    </tr>\n",
              "    <tr>\n",
              "      <th>1</th>\n",
              "      <td>29</td>\n",
              "      <td>5</td>\n",
              "      <td>False</td>\n",
              "      <td>2</td>\n",
              "      <td>2010</td>\n",
              "      <td>2</td>\n",
              "      <td>5</td>\n",
              "      <td>36</td>\n",
              "      <td>5</td>\n",
              "      <td>5</td>\n",
              "      <td>4</td>\n",
              "      <td>4</td>\n",
              "      <td>1</td>\n",
              "      <td>1</td>\n",
              "    </tr>\n",
              "  </tbody>\n",
              "</table>\n",
              "</div>"
            ],
            "text/plain": [
              "   Store  Dept  IsHoliday  Type  ...  dayofweek  weekday  quarter  IsHoliday_weight\n",
              "0      1     1      False     1  ...          4        4        1                 1\n",
              "1     29     5      False     2  ...          4        4        1                 1\n",
              "\n",
              "[2 rows x 14 columns]"
            ]
          },
          "metadata": {
            "tags": []
          },
          "execution_count": 54
        }
      ]
    },
    {
      "cell_type": "code",
      "metadata": {
        "id": "AzW9z5_0mlKp",
        "colab_type": "code",
        "outputId": "7c07506e-44c7-42b3-e08f-36017864fc4e",
        "colab": {
          "base_uri": "https://localhost:8080/",
          "height": 143
        }
      },
      "source": [
        "df_list = [X_cat,X_scaled]\n",
        "X_full = pd.concat(df_list,axis = 1)\n",
        "print(X_full.shape)\n",
        "X_full.head(2)"
      ],
      "execution_count": 55,
      "outputs": [
        {
          "output_type": "stream",
          "text": [
            "(315240, 19)\n"
          ],
          "name": "stdout"
        },
        {
          "output_type": "execute_result",
          "data": {
            "text/html": [
              "<div>\n",
              "<style scoped>\n",
              "    .dataframe tbody tr th:only-of-type {\n",
              "        vertical-align: middle;\n",
              "    }\n",
              "\n",
              "    .dataframe tbody tr th {\n",
              "        vertical-align: top;\n",
              "    }\n",
              "\n",
              "    .dataframe thead th {\n",
              "        text-align: right;\n",
              "    }\n",
              "</style>\n",
              "<table border=\"1\" class=\"dataframe\">\n",
              "  <thead>\n",
              "    <tr style=\"text-align: right;\">\n",
              "      <th></th>\n",
              "      <th>Store</th>\n",
              "      <th>Dept</th>\n",
              "      <th>IsHoliday</th>\n",
              "      <th>Type</th>\n",
              "      <th>year</th>\n",
              "      <th>month</th>\n",
              "      <th>day</th>\n",
              "      <th>dayofyear</th>\n",
              "      <th>week</th>\n",
              "      <th>weekofyear</th>\n",
              "      <th>dayofweek</th>\n",
              "      <th>weekday</th>\n",
              "      <th>quarter</th>\n",
              "      <th>IsHoliday_weight</th>\n",
              "      <th>Size</th>\n",
              "      <th>Temperature</th>\n",
              "      <th>Fuel_Price</th>\n",
              "      <th>CPI</th>\n",
              "      <th>Unemployment</th>\n",
              "    </tr>\n",
              "  </thead>\n",
              "  <tbody>\n",
              "    <tr>\n",
              "      <th>0</th>\n",
              "      <td>1</td>\n",
              "      <td>1</td>\n",
              "      <td>False</td>\n",
              "      <td>1</td>\n",
              "      <td>2010</td>\n",
              "      <td>2</td>\n",
              "      <td>5</td>\n",
              "      <td>36</td>\n",
              "      <td>5</td>\n",
              "      <td>5</td>\n",
              "      <td>4</td>\n",
              "      <td>4</td>\n",
              "      <td>1</td>\n",
              "      <td>1</td>\n",
              "      <td>0.237224</td>\n",
              "      <td>-0.803409</td>\n",
              "      <td>-1.512824</td>\n",
              "      <td>1.068780</td>\n",
              "      <td>-0.039600</td>\n",
              "    </tr>\n",
              "    <tr>\n",
              "      <th>1</th>\n",
              "      <td>29</td>\n",
              "      <td>5</td>\n",
              "      <td>False</td>\n",
              "      <td>2</td>\n",
              "      <td>2010</td>\n",
              "      <td>2</td>\n",
              "      <td>5</td>\n",
              "      <td>36</td>\n",
              "      <td>5</td>\n",
              "      <td>5</td>\n",
              "      <td>4</td>\n",
              "      <td>4</td>\n",
              "      <td>1</td>\n",
              "      <td>1</td>\n",
              "      <td>-0.709306</td>\n",
              "      <td>-1.743978</td>\n",
              "      <td>-1.012812</td>\n",
              "      <td>-0.992617</td>\n",
              "      <td>1.009073</td>\n",
              "    </tr>\n",
              "  </tbody>\n",
              "</table>\n",
              "</div>"
            ],
            "text/plain": [
              "   Store  Dept  IsHoliday  ...  Fuel_Price       CPI  Unemployment\n",
              "0      1     1      False  ...   -1.512824  1.068780     -0.039600\n",
              "1     29     5      False  ...   -1.012812 -0.992617      1.009073\n",
              "\n",
              "[2 rows x 19 columns]"
            ]
          },
          "metadata": {
            "tags": []
          },
          "execution_count": 55
        }
      ]
    },
    {
      "cell_type": "code",
      "metadata": {
        "id": "moPGOI8pAymn",
        "colab_type": "code",
        "outputId": "2110c53d-d81f-4591-f69a-348d7d5e76c3",
        "colab": {
          "base_uri": "https://localhost:8080/",
          "height": 34
        }
      },
      "source": [
        "'''Split into train and valid sets for model building \n",
        "and hyperparameter tuning, respectively'''\n",
        "\n",
        "x_train,x_valid = split_df(X_full,268750)\n",
        "Y_train,Y_valid = split_df(Y,268750)\n",
        "\n",
        "print(x_train.shape,x_valid.shape,Y_train.shape,Y_valid.shape)"
      ],
      "execution_count": 57,
      "outputs": [
        {
          "output_type": "stream",
          "text": [
            "(268750, 19) (46490, 19) (268750,) (46490,)\n"
          ],
          "name": "stdout"
        }
      ]
    },
    {
      "cell_type": "code",
      "metadata": {
        "id": "5R93hqFrZPKD",
        "colab_type": "code",
        "colab": {}
      },
      "source": [
        "'''Dropping the column IsHoliday and IsHoliday_weight '''\n",
        "\n",
        "X_train=x_train.drop([\"IsHoliday\",\"IsHoliday_weight\"],axis = 1)\n",
        "X_valid=x_valid.drop([\"IsHoliday\",\"IsHoliday_weight\"],axis = 1)"
      ],
      "execution_count": 0,
      "outputs": []
    },
    {
      "cell_type": "code",
      "metadata": {
        "id": "bYZH2arqaZ0w",
        "colab_type": "code",
        "outputId": "a85b9250-28dd-4ee2-d091-205d61377542",
        "colab": {
          "base_uri": "https://localhost:8080/",
          "height": 34
        }
      },
      "source": [
        "'''Calculating sum of weights in IsHoliday_weight column in train dataset'''\n",
        "sum_result_train = x_train.sum(axis = 0, skipna = True) \n",
        "sum_result_train.IsHoliday_weight"
      ],
      "execution_count": 59,
      "outputs": [
        {
          "output_type": "execute_result",
          "data": {
            "text/plain": [
              "339194.0"
            ]
          },
          "metadata": {
            "tags": []
          },
          "execution_count": 59
        }
      ]
    },
    {
      "cell_type": "code",
      "metadata": {
        "id": "5kR3CJ02aaAS",
        "colab_type": "code",
        "outputId": "7b1454ca-ceef-4577-ccda-4b0c724f9535",
        "colab": {
          "base_uri": "https://localhost:8080/",
          "height": 34
        }
      },
      "source": [
        "'''Calculating sum of weights in IsHoliday_weight column in validation dataset'''\n",
        "sum_result_valid = x_valid.sum(axis = 0, skipna = True) \n",
        "sum_result_valid.IsHoliday_weight"
      ],
      "execution_count": 60,
      "outputs": [
        {
          "output_type": "execute_result",
          "data": {
            "text/plain": [
              "82470.0"
            ]
          },
          "metadata": {
            "tags": []
          },
          "execution_count": 60
        }
      ]
    },
    {
      "cell_type": "markdown",
      "metadata": {
        "id": "TWn5GgCCBH8I",
        "colab_type": "text"
      },
      "source": [
        "# **TEST DATASET**"
      ]
    },
    {
      "cell_type": "markdown",
      "metadata": {
        "id": "l3WaeJvgdoNH",
        "colab_type": "text"
      },
      "source": [
        "# **1.Exploring Test data**"
      ]
    },
    {
      "cell_type": "code",
      "metadata": {
        "id": "xG0sRDrEAyow",
        "colab_type": "code",
        "outputId": "867539fb-f666-4357-a2a0-3c3b7f2c3950",
        "colab": {
          "base_uri": "https://localhost:8080/",
          "height": 472
        }
      },
      "source": [
        "''' Deal with missing values. Calculating the percentage of\n",
        "missing values for every column, and plot them as a bar chart'''\n",
        "\n",
        "null_vals = df_test.isnull().sum()/len(df_test)*100\n",
        "null_vals = pd.DataFrame(null_vals)\n",
        "null_vals.reset_index(inplace = True)\n",
        "null_vals.columns = [\"Feature\",\"Percent missing\"]\n",
        "plt.figure(figsize = (8,6))\n",
        "plt.xticks(rotation=45)\n",
        "plt.title('Features Vs Null Value')\n",
        "sns.barplot(x = \"Feature\",y =\"Percent missing\",data = null_vals)"
      ],
      "execution_count": 61,
      "outputs": [
        {
          "output_type": "execute_result",
          "data": {
            "text/plain": [
              "<matplotlib.axes._subplots.AxesSubplot at 0x7fcf850ed390>"
            ]
          },
          "metadata": {
            "tags": []
          },
          "execution_count": 61
        },
        {
          "output_type": "display_data",
          "data": {
            "image/png": "[encoded data removed]",
            "text/plain": [
              "<Figure size 576x432 with 1 Axes>"
            ]
          },
          "metadata": {
            "tags": []
          }
        }
      ]
    },
    {
      "cell_type": "code",
      "metadata": {
        "id": "VW1TVjgKxkmx",
        "colab_type": "code",
        "colab": {}
      },
      "source": [
        "'''Dropping column'''\n",
        "df_test=df_test.drop([\"MarkDown1\",\"MarkDown2\",\"MarkDown3\",\"MarkDown4\",\"MarkDown5\"],axis = 1)"
      ],
      "execution_count": 0,
      "outputs": []
    },
    {
      "cell_type": "code",
      "metadata": {
        "id": "ui1RuqaNAyra",
        "colab_type": "code",
        "outputId": "b41b724c-7541-4a28-fe87-621a6a6107f6",
        "colab": {
          "base_uri": "https://localhost:8080/",
          "height": 283
        }
      },
      "source": [
        "scatter(df_test, 'IsHoliday')"
      ],
      "execution_count": 201,
      "outputs": [
        {
          "output_type": "display_data",
          "data": {
            "image/png": "[encoded data removed]",
            "text/plain": [
              "<Figure size 432x288 with 1 Axes>"
            ]
          },
          "metadata": {
            "tags": []
          }
        }
      ]
    },
    {
      "cell_type": "code",
      "metadata": {
        "id": "Zuio4n6mAyt5",
        "colab_type": "code",
        "outputId": "e9f43f73-52c1-44e4-982b-6f6c5f8d80d4",
        "colab": {
          "base_uri": "https://localhost:8080/",
          "height": 34
        }
      },
      "source": [
        "'''From the graph, we can see that maximum sale occured on non  holiday. \n",
        "This graph is disimilar from train dataset. '''"
      ],
      "execution_count": 202,
      "outputs": [
        {
          "output_type": "execute_result",
          "data": {
            "text/plain": [
              "'From the graph, we can see that maximum sale occured on non  holiday. \\nThis graph is disimilar from train dataset. '"
            ]
          },
          "metadata": {
            "tags": []
          },
          "execution_count": 202
        }
      ]
    },
    {
      "cell_type": "code",
      "metadata": {
        "id": "EkAZRp46AyxD",
        "colab_type": "code",
        "outputId": "49279609-c0c6-4765-d96e-5279a4120064",
        "colab": {
          "base_uri": "https://localhost:8080/",
          "height": 283
        }
      },
      "source": [
        "scatter(df_test, 'Store')"
      ],
      "execution_count": 65,
      "outputs": [
        {
          "output_type": "display_data",
          "data": {
            "image/png": "[encoded data removed]",
            "text/plain": [
              "<Figure size 432x288 with 1 Axes>"
            ]
          },
          "metadata": {
            "tags": []
          }
        }
      ]
    },
    {
      "cell_type": "code",
      "metadata": {
        "id": "FxkHuFWNBRMy",
        "colab_type": "code",
        "outputId": "88fe544e-9859-4ddd-c517-8aab6b288cd5",
        "colab": {
          "base_uri": "https://localhost:8080/",
          "height": 34
        }
      },
      "source": [
        "'''From the graph, we can deduct that maximum sale occured in store 14 which is same as the train data.\n",
        "And the majority of weekly sale is below 200000'''"
      ],
      "execution_count": 203,
      "outputs": [
        {
          "output_type": "execute_result",
          "data": {
            "text/plain": [
              "'From the graph, we can deduct that maximum sale occured in store 14 which is same as the train data.\\nAnd the majority of weekly sale is below 200000'"
            ]
          },
          "metadata": {
            "tags": []
          },
          "execution_count": 203
        }
      ]
    },
    {
      "cell_type": "code",
      "metadata": {
        "id": "QH3dDdysBRPJ",
        "colab_type": "code",
        "outputId": "c58a4868-4d72-4992-bd3b-367505c7cedd",
        "colab": {
          "base_uri": "https://localhost:8080/",
          "height": 283
        }
      },
      "source": [
        "scatter(df_test, 'Dept')"
      ],
      "execution_count": 67,
      "outputs": [
        {
          "output_type": "display_data",
          "data": {
            "image/png": "[encoded data removed]",
            "text/plain": [
              "<Figure size 432x288 with 1 Axes>"
            ]
          },
          "metadata": {
            "tags": []
          }
        }
      ]
    },
    {
      "cell_type": "code",
      "metadata": {
        "id": "5PO_YC66BRT3",
        "colab_type": "code",
        "outputId": "fedd005e-175e-4ef9-95cc-bf310d5a094e",
        "colab": {
          "base_uri": "https://localhost:8080/",
          "height": 34
        }
      },
      "source": [
        "'''From the graph, we can deduct that maximum sale occurs in dept 92 which is same as train dataset. '''"
      ],
      "execution_count": 204,
      "outputs": [
        {
          "output_type": "execute_result",
          "data": {
            "text/plain": [
              "'From the graph, we can deduct that maximum sale occurs in dept 92 which is same as train dataset. '"
            ]
          },
          "metadata": {
            "tags": []
          },
          "execution_count": 204
        }
      ]
    },
    {
      "cell_type": "markdown",
      "metadata": {
        "id": "UEUGdFSQBkq4",
        "colab_type": "text"
      },
      "source": [
        "# **2.Confirming our observations**"
      ]
    },
    {
      "cell_type": "code",
      "metadata": {
        "id": "xmchT30bBRXQ",
        "colab_type": "code",
        "outputId": "216b5142-3c4c-403d-d3c7-10a4505a4ae5",
        "colab": {
          "base_uri": "https://localhost:8080/",
          "height": 168
        }
      },
      "source": [
        "'''Here we can see the maximum weekly_sale is 224917.940000. Also an interesting observation is \n",
        "that weekly_sale contains NEGATIVE VALUE which is not acceptable. So we need remove records with negative\n",
        "weekly sale from our dataframe'''\n",
        "df_test[\"Weekly_Sales\"].describe()"
      ],
      "execution_count": 69,
      "outputs": [
        {
          "output_type": "execute_result",
          "data": {
            "text/plain": [
              "count    105393.000000\n",
              "mean      15812.046536\n",
              "std       22045.980827\n",
              "min       -1699.000000\n",
              "25%        1987.780000\n",
              "50%        7494.340000\n",
              "75%       20174.360000\n",
              "max      224917.940000\n",
              "Name: Weekly_Sales, dtype: float64"
            ]
          },
          "metadata": {
            "tags": []
          },
          "execution_count": 69
        }
      ]
    },
    {
      "cell_type": "code",
      "metadata": {
        "id": "QF1tDC3SBRRj",
        "colab_type": "code",
        "outputId": "65c5c6c5-a7c2-471b-be45-eaa840bde8bc",
        "colab": {
          "base_uri": "https://localhost:8080/",
          "height": 77
        }
      },
      "source": [
        "max_weekly_sale_test = df_test[df_test[\"Weekly_Sales\"] == 224917.940000]\n",
        "max_weekly_sale_test"
      ],
      "execution_count": 70,
      "outputs": [
        {
          "output_type": "execute_result",
          "data": {
            "text/html": [
              "<div>\n",
              "<style scoped>\n",
              "    .dataframe tbody tr th:only-of-type {\n",
              "        vertical-align: middle;\n",
              "    }\n",
              "\n",
              "    .dataframe tbody tr th {\n",
              "        vertical-align: top;\n",
              "    }\n",
              "\n",
              "    .dataframe thead th {\n",
              "        text-align: right;\n",
              "    }\n",
              "</style>\n",
              "<table border=\"1\" class=\"dataframe\">\n",
              "  <thead>\n",
              "    <tr style=\"text-align: right;\">\n",
              "      <th></th>\n",
              "      <th>Store</th>\n",
              "      <th>Dept</th>\n",
              "      <th>Date</th>\n",
              "      <th>Weekly_Sales</th>\n",
              "      <th>IsHoliday</th>\n",
              "      <th>Type</th>\n",
              "      <th>Size</th>\n",
              "      <th>Temperature</th>\n",
              "      <th>Fuel_Price</th>\n",
              "      <th>CPI</th>\n",
              "      <th>Unemployment</th>\n",
              "    </tr>\n",
              "  </thead>\n",
              "  <tbody>\n",
              "    <tr>\n",
              "      <th>137319</th>\n",
              "      <td>14</td>\n",
              "      <td>92</td>\n",
              "      <td>2012-04-06</td>\n",
              "      <td>224917.94</td>\n",
              "      <td>False</td>\n",
              "      <td>A</td>\n",
              "      <td>200898</td>\n",
              "      <td>49.73</td>\n",
              "      <td>3.996</td>\n",
              "      <td>190.685171</td>\n",
              "      <td>8.567</td>\n",
              "    </tr>\n",
              "  </tbody>\n",
              "</table>\n",
              "</div>"
            ],
            "text/plain": [
              "        Store  Dept       Date  ...  Fuel_Price         CPI Unemployment\n",
              "137319     14    92 2012-04-06  ...       3.996  190.685171        8.567\n",
              "\n",
              "[1 rows x 11 columns]"
            ]
          },
          "metadata": {
            "tags": []
          },
          "execution_count": 70
        }
      ]
    },
    {
      "cell_type": "markdown",
      "metadata": {
        "id": "VjKL0YVtBw3z",
        "colab_type": "text"
      },
      "source": [
        "# **3.Correlations between different variables in a dataframe:**"
      ]
    },
    {
      "cell_type": "code",
      "metadata": {
        "id": "7SemZx7yBs78",
        "colab_type": "code",
        "outputId": "1fef854c-751a-4d39-bd63-618653397ce0",
        "colab": {
          "base_uri": "https://localhost:8080/",
          "height": 830
        }
      },
      "source": [
        "'''The correlation between variables in test dataset is similar to train dataset'''\n",
        "fig = plt.figure(figsize=(18, 14))\n",
        "corr = df_test.corr()\n",
        "c = plt.pcolor(corr)\n",
        "plt.yticks(np.arange(0.5, len(corr.index), 1), corr.index)\n",
        "plt.xticks(np.arange(0.5, len(corr.columns), 1), corr.columns)\n",
        "fig.colorbar(c)"
      ],
      "execution_count": 71,
      "outputs": [
        {
          "output_type": "execute_result",
          "data": {
            "text/plain": [
              "<matplotlib.colorbar.Colorbar at 0x7fcf848c8668>"
            ]
          },
          "metadata": {
            "tags": []
          },
          "execution_count": 71
        },
        {
          "output_type": "display_data",
          "data": {
            "image/png": "[encoded data removed]",
            "text/plain": [
              "<Figure size 1296x1008 with 2 Axes>"
            ]
          },
          "metadata": {
            "tags": []
          }
        }
      ]
    },
    {
      "cell_type": "markdown",
      "metadata": {
        "id": "3N5-yPC9B3wC",
        "colab_type": "text"
      },
      "source": [
        "# **4.Drop records with negative weekly sale from Test data**"
      ]
    },
    {
      "cell_type": "code",
      "metadata": {
        "id": "iPhdGLtxBs-g",
        "colab_type": "code",
        "outputId": "46d5889c-0ad2-4a8d-de71-fbdbd0dc5569",
        "colab": {
          "base_uri": "https://localhost:8080/",
          "height": 34
        }
      },
      "source": [
        "'''There are 348 records that contains weekly sale with negative value. Let us next check if there are any records \n",
        "with 0 weekly sale'''\n",
        "\n",
        "neg_weekly_sale_test=df_test[df_test.Weekly_Sales < 0]\n",
        "print (neg_weekly_sale_test.shape)"
      ],
      "execution_count": 72,
      "outputs": [
        {
          "output_type": "stream",
          "text": [
            "(348, 11)\n"
          ],
          "name": "stdout"
        }
      ]
    },
    {
      "cell_type": "code",
      "metadata": {
        "id": "wSBSGv5kBtA4",
        "colab_type": "code",
        "outputId": "15e8c814-c577-4178-fd82-cfe04e10cecf",
        "colab": {
          "base_uri": "https://localhost:8080/",
          "height": 34
        }
      },
      "source": [
        "'''We can see that there are 14 records with 0 weekly sale.'''\n",
        "zero_weekly_sale_test = df_test[df_test[\"Weekly_Sales\"] == 0]\n",
        "print (zero_weekly_sale_test.shape)"
      ],
      "execution_count": 73,
      "outputs": [
        {
          "output_type": "stream",
          "text": [
            "(14, 11)\n"
          ],
          "name": "stdout"
        }
      ]
    },
    {
      "cell_type": "code",
      "metadata": {
        "id": "u4vkJoF1BtDk",
        "colab_type": "code",
        "outputId": "1b81a8ab-d604-4c78-b37e-95305ecd6350",
        "colab": {
          "base_uri": "https://localhost:8080/",
          "height": 34
        }
      },
      "source": [
        "''' The negative weekly sale may be due to the misplaced negative sign while entering/inserting the weekly sale.\n",
        "Since we cannot make assumptions, we are dropping these records '''\n",
        "df_test_1=df_test[df_test.Weekly_Sales >= 0]\n",
        "print (df_test_1.shape)"
      ],
      "execution_count": 74,
      "outputs": [
        {
          "output_type": "stream",
          "text": [
            "(105045, 11)\n"
          ],
          "name": "stdout"
        }
      ]
    },
    {
      "cell_type": "code",
      "metadata": {
        "id": "8CBNMallBtFx",
        "colab_type": "code",
        "outputId": "e3cb20eb-3d65-489a-bff6-7ca55769c63a",
        "colab": {
          "base_uri": "https://localhost:8080/",
          "height": 284
        }
      },
      "source": [
        "df_test_1.describe()"
      ],
      "execution_count": 75,
      "outputs": [
        {
          "output_type": "execute_result",
          "data": {
            "text/html": [
              "<div>\n",
              "<style scoped>\n",
              "    .dataframe tbody tr th:only-of-type {\n",
              "        vertical-align: middle;\n",
              "    }\n",
              "\n",
              "    .dataframe tbody tr th {\n",
              "        vertical-align: top;\n",
              "    }\n",
              "\n",
              "    .dataframe thead th {\n",
              "        text-align: right;\n",
              "    }\n",
              "</style>\n",
              "<table border=\"1\" class=\"dataframe\">\n",
              "  <thead>\n",
              "    <tr style=\"text-align: right;\">\n",
              "      <th></th>\n",
              "      <th>Store</th>\n",
              "      <th>Dept</th>\n",
              "      <th>Weekly_Sales</th>\n",
              "      <th>Size</th>\n",
              "      <th>Temperature</th>\n",
              "      <th>Fuel_Price</th>\n",
              "      <th>CPI</th>\n",
              "      <th>Unemployment</th>\n",
              "    </tr>\n",
              "  </thead>\n",
              "  <tbody>\n",
              "    <tr>\n",
              "      <th>count</th>\n",
              "      <td>105045.000000</td>\n",
              "      <td>105045.000000</td>\n",
              "      <td>105045.000000</td>\n",
              "      <td>105045.000000</td>\n",
              "      <td>105045.000000</td>\n",
              "      <td>105045.000000</td>\n",
              "      <td>105045.000000</td>\n",
              "      <td>105045.000000</td>\n",
              "    </tr>\n",
              "    <tr>\n",
              "      <th>mean</th>\n",
              "      <td>22.251959</td>\n",
              "      <td>44.442049</td>\n",
              "      <td>15864.614198</td>\n",
              "      <td>136419.085601</td>\n",
              "      <td>67.437142</td>\n",
              "      <td>3.767113</td>\n",
              "      <td>175.323361</td>\n",
              "      <td>7.300272</td>\n",
              "    </tr>\n",
              "    <tr>\n",
              "      <th>std</th>\n",
              "      <td>12.800344</td>\n",
              "      <td>30.661242</td>\n",
              "      <td>22063.509815</td>\n",
              "      <td>61163.863702</td>\n",
              "      <td>14.026784</td>\n",
              "      <td>0.247268</td>\n",
              "      <td>40.528132</td>\n",
              "      <td>1.690337</td>\n",
              "    </tr>\n",
              "    <tr>\n",
              "      <th>min</th>\n",
              "      <td>1.000000</td>\n",
              "      <td>1.000000</td>\n",
              "      <td>0.000000</td>\n",
              "      <td>34875.000000</td>\n",
              "      <td>21.640000</td>\n",
              "      <td>3.129000</td>\n",
              "      <td>130.550207</td>\n",
              "      <td>3.879000</td>\n",
              "    </tr>\n",
              "    <tr>\n",
              "      <th>25%</th>\n",
              "      <td>11.000000</td>\n",
              "      <td>18.000000</td>\n",
              "      <td>2030.000000</td>\n",
              "      <td>93638.000000</td>\n",
              "      <td>58.200000</td>\n",
              "      <td>3.603000</td>\n",
              "      <td>137.584387</td>\n",
              "      <td>6.170000</td>\n",
              "    </tr>\n",
              "    <tr>\n",
              "      <th>50%</th>\n",
              "      <td>22.000000</td>\n",
              "      <td>37.000000</td>\n",
              "      <td>7543.490000</td>\n",
              "      <td>140167.000000</td>\n",
              "      <td>69.110000</td>\n",
              "      <td>3.759000</td>\n",
              "      <td>190.610746</td>\n",
              "      <td>7.143000</td>\n",
              "    </tr>\n",
              "    <tr>\n",
              "      <th>75%</th>\n",
              "      <td>33.000000</td>\n",
              "      <td>74.000000</td>\n",
              "      <td>20242.490000</td>\n",
              "      <td>202505.000000</td>\n",
              "      <td>78.110000</td>\n",
              "      <td>3.927000</td>\n",
              "      <td>220.924486</td>\n",
              "      <td>8.253000</td>\n",
              "    </tr>\n",
              "    <tr>\n",
              "      <th>max</th>\n",
              "      <td>45.000000</td>\n",
              "      <td>99.000000</td>\n",
              "      <td>224917.940000</td>\n",
              "      <td>219622.000000</td>\n",
              "      <td>100.070000</td>\n",
              "      <td>4.468000</td>\n",
              "      <td>227.232807</td>\n",
              "      <td>12.187000</td>\n",
              "    </tr>\n",
              "  </tbody>\n",
              "</table>\n",
              "</div>"
            ],
            "text/plain": [
              "               Store           Dept  ...            CPI   Unemployment\n",
              "count  105045.000000  105045.000000  ...  105045.000000  105045.000000\n",
              "mean       22.251959      44.442049  ...     175.323361       7.300272\n",
              "std        12.800344      30.661242  ...      40.528132       1.690337\n",
              "min         1.000000       1.000000  ...     130.550207       3.879000\n",
              "25%        11.000000      18.000000  ...     137.584387       6.170000\n",
              "50%        22.000000      37.000000  ...     190.610746       7.143000\n",
              "75%        33.000000      74.000000  ...     220.924486       8.253000\n",
              "max        45.000000      99.000000  ...     227.232807      12.187000\n",
              "\n",
              "[8 rows x 8 columns]"
            ]
          },
          "metadata": {
            "tags": []
          },
          "execution_count": 75
        }
      ]
    },
    {
      "cell_type": "markdown",
      "metadata": {
        "id": "msQxAOptbJvD",
        "colab_type": "text"
      },
      "source": [
        "# **5.Splitting dates and processing Test data**"
      ]
    },
    {
      "cell_type": "code",
      "metadata": {
        "id": "Vt74biPkBtIv",
        "colab_type": "code",
        "outputId": "7968967d-6671-434a-e518-877e87a8cf91",
        "colab": {
          "base_uri": "https://localhost:8080/",
          "height": 34
        }
      },
      "source": [
        "# Splitting dates\n",
        "df_test_2 = split_dates(df_test_1,\"Date\")\n",
        "print(df_test_2.shape)"
      ],
      "execution_count": 76,
      "outputs": [
        {
          "output_type": "stream",
          "text": [
            "(105045, 19)\n"
          ],
          "name": "stdout"
        }
      ]
    },
    {
      "cell_type": "code",
      "metadata": {
        "id": "frKzEHMeBtLH",
        "colab_type": "code",
        "outputId": "8f2ccfa5-cc8b-458b-9109-2e40bd2955cd",
        "colab": {
          "base_uri": "https://localhost:8080/",
          "height": 173
        }
      },
      "source": [
        "# Converting string to category\n",
        "df_test_3 = str_to_cat(df_test_2)\n",
        "print(df_test_3.shape)\n",
        "df_test_3.head(3)"
      ],
      "execution_count": 77,
      "outputs": [
        {
          "output_type": "stream",
          "text": [
            "(105045, 19)\n"
          ],
          "name": "stdout"
        },
        {
          "output_type": "execute_result",
          "data": {
            "text/html": [
              "<div>\n",
              "<style scoped>\n",
              "    .dataframe tbody tr th:only-of-type {\n",
              "        vertical-align: middle;\n",
              "    }\n",
              "\n",
              "    .dataframe tbody tr th {\n",
              "        vertical-align: top;\n",
              "    }\n",
              "\n",
              "    .dataframe thead th {\n",
              "        text-align: right;\n",
              "    }\n",
              "</style>\n",
              "<table border=\"1\" class=\"dataframe\">\n",
              "  <thead>\n",
              "    <tr style=\"text-align: right;\">\n",
              "      <th></th>\n",
              "      <th>Store</th>\n",
              "      <th>Dept</th>\n",
              "      <th>Weekly_Sales</th>\n",
              "      <th>IsHoliday</th>\n",
              "      <th>Type</th>\n",
              "      <th>Size</th>\n",
              "      <th>Temperature</th>\n",
              "      <th>Fuel_Price</th>\n",
              "      <th>CPI</th>\n",
              "      <th>Unemployment</th>\n",
              "      <th>year</th>\n",
              "      <th>month</th>\n",
              "      <th>day</th>\n",
              "      <th>dayofyear</th>\n",
              "      <th>week</th>\n",
              "      <th>weekofyear</th>\n",
              "      <th>dayofweek</th>\n",
              "      <th>weekday</th>\n",
              "      <th>quarter</th>\n",
              "    </tr>\n",
              "  </thead>\n",
              "  <tbody>\n",
              "    <tr>\n",
              "      <th>379899</th>\n",
              "      <td>40</td>\n",
              "      <td>91</td>\n",
              "      <td>45375.31</td>\n",
              "      <td>False</td>\n",
              "      <td>A</td>\n",
              "      <td>155083</td>\n",
              "      <td>29.88</td>\n",
              "      <td>3.751</td>\n",
              "      <td>137.341103</td>\n",
              "      <td>4.261</td>\n",
              "      <td>2012</td>\n",
              "      <td>2</td>\n",
              "      <td>24</td>\n",
              "      <td>55</td>\n",
              "      <td>8</td>\n",
              "      <td>8</td>\n",
              "      <td>4</td>\n",
              "      <td>4</td>\n",
              "      <td>1</td>\n",
              "    </tr>\n",
              "    <tr>\n",
              "      <th>123518</th>\n",
              "      <td>13</td>\n",
              "      <td>45</td>\n",
              "      <td>35.88</td>\n",
              "      <td>False</td>\n",
              "      <td>A</td>\n",
              "      <td>219622</td>\n",
              "      <td>35.38</td>\n",
              "      <td>3.145</td>\n",
              "      <td>130.550207</td>\n",
              "      <td>6.104</td>\n",
              "      <td>2012</td>\n",
              "      <td>2</td>\n",
              "      <td>24</td>\n",
              "      <td>55</td>\n",
              "      <td>8</td>\n",
              "      <td>8</td>\n",
              "      <td>4</td>\n",
              "      <td>4</td>\n",
              "      <td>1</td>\n",
              "    </tr>\n",
              "    <tr>\n",
              "      <th>47671</th>\n",
              "      <td>5</td>\n",
              "      <td>85</td>\n",
              "      <td>649.08</td>\n",
              "      <td>False</td>\n",
              "      <td>B</td>\n",
              "      <td>34875</td>\n",
              "      <td>57.75</td>\n",
              "      <td>3.555</td>\n",
              "      <td>221.222424</td>\n",
              "      <td>5.943</td>\n",
              "      <td>2012</td>\n",
              "      <td>2</td>\n",
              "      <td>24</td>\n",
              "      <td>55</td>\n",
              "      <td>8</td>\n",
              "      <td>8</td>\n",
              "      <td>4</td>\n",
              "      <td>4</td>\n",
              "      <td>1</td>\n",
              "    </tr>\n",
              "  </tbody>\n",
              "</table>\n",
              "</div>"
            ],
            "text/plain": [
              "        Store  Dept  Weekly_Sales  ...  dayofweek weekday  quarter\n",
              "379899     40    91      45375.31  ...          4       4        1\n",
              "123518     13    45         35.88  ...          4       4        1\n",
              "47671       5    85        649.08  ...          4       4        1\n",
              "\n",
              "[3 rows x 19 columns]"
            ]
          },
          "metadata": {
            "tags": []
          },
          "execution_count": 77
        }
      ]
    },
    {
      "cell_type": "code",
      "metadata": {
        "id": "wMUVs2u-BtOA",
        "colab_type": "code",
        "outputId": "654a3c30-d30c-4047-df26-f1068b01e182",
        "colab": {
          "base_uri": "https://localhost:8080/",
          "height": 173
        }
      },
      "source": [
        "#Imputing null values based on entry in my_table.(my_table is null as  there were no null values in train dataset )\n",
        "test_processed,my_table = mydf_preprocessor(df_test_3,null_table = my_table)\n",
        "print(test_processed.shape)\n",
        "test_processed.head(3)"
      ],
      "execution_count": 78,
      "outputs": [
        {
          "output_type": "stream",
          "text": [
            "(105045, 19)\n"
          ],
          "name": "stdout"
        },
        {
          "output_type": "execute_result",
          "data": {
            "text/html": [
              "<div>\n",
              "<style scoped>\n",
              "    .dataframe tbody tr th:only-of-type {\n",
              "        vertical-align: middle;\n",
              "    }\n",
              "\n",
              "    .dataframe tbody tr th {\n",
              "        vertical-align: top;\n",
              "    }\n",
              "\n",
              "    .dataframe thead th {\n",
              "        text-align: right;\n",
              "    }\n",
              "</style>\n",
              "<table border=\"1\" class=\"dataframe\">\n",
              "  <thead>\n",
              "    <tr style=\"text-align: right;\">\n",
              "      <th></th>\n",
              "      <th>Store</th>\n",
              "      <th>Dept</th>\n",
              "      <th>Weekly_Sales</th>\n",
              "      <th>IsHoliday</th>\n",
              "      <th>Type</th>\n",
              "      <th>Size</th>\n",
              "      <th>Temperature</th>\n",
              "      <th>Fuel_Price</th>\n",
              "      <th>CPI</th>\n",
              "      <th>Unemployment</th>\n",
              "      <th>year</th>\n",
              "      <th>month</th>\n",
              "      <th>day</th>\n",
              "      <th>dayofyear</th>\n",
              "      <th>week</th>\n",
              "      <th>weekofyear</th>\n",
              "      <th>dayofweek</th>\n",
              "      <th>weekday</th>\n",
              "      <th>quarter</th>\n",
              "    </tr>\n",
              "  </thead>\n",
              "  <tbody>\n",
              "    <tr>\n",
              "      <th>379899</th>\n",
              "      <td>40</td>\n",
              "      <td>91</td>\n",
              "      <td>45375.31</td>\n",
              "      <td>False</td>\n",
              "      <td>1</td>\n",
              "      <td>155083</td>\n",
              "      <td>29.88</td>\n",
              "      <td>3.751</td>\n",
              "      <td>137.341103</td>\n",
              "      <td>4.261</td>\n",
              "      <td>2012</td>\n",
              "      <td>2</td>\n",
              "      <td>24</td>\n",
              "      <td>55</td>\n",
              "      <td>8</td>\n",
              "      <td>8</td>\n",
              "      <td>4</td>\n",
              "      <td>4</td>\n",
              "      <td>1</td>\n",
              "    </tr>\n",
              "    <tr>\n",
              "      <th>123518</th>\n",
              "      <td>13</td>\n",
              "      <td>45</td>\n",
              "      <td>35.88</td>\n",
              "      <td>False</td>\n",
              "      <td>1</td>\n",
              "      <td>219622</td>\n",
              "      <td>35.38</td>\n",
              "      <td>3.145</td>\n",
              "      <td>130.550207</td>\n",
              "      <td>6.104</td>\n",
              "      <td>2012</td>\n",
              "      <td>2</td>\n",
              "      <td>24</td>\n",
              "      <td>55</td>\n",
              "      <td>8</td>\n",
              "      <td>8</td>\n",
              "      <td>4</td>\n",
              "      <td>4</td>\n",
              "      <td>1</td>\n",
              "    </tr>\n",
              "    <tr>\n",
              "      <th>47671</th>\n",
              "      <td>5</td>\n",
              "      <td>85</td>\n",
              "      <td>649.08</td>\n",
              "      <td>False</td>\n",
              "      <td>2</td>\n",
              "      <td>34875</td>\n",
              "      <td>57.75</td>\n",
              "      <td>3.555</td>\n",
              "      <td>221.222424</td>\n",
              "      <td>5.943</td>\n",
              "      <td>2012</td>\n",
              "      <td>2</td>\n",
              "      <td>24</td>\n",
              "      <td>55</td>\n",
              "      <td>8</td>\n",
              "      <td>8</td>\n",
              "      <td>4</td>\n",
              "      <td>4</td>\n",
              "      <td>1</td>\n",
              "    </tr>\n",
              "  </tbody>\n",
              "</table>\n",
              "</div>"
            ],
            "text/plain": [
              "        Store  Dept  Weekly_Sales  ...  dayofweek  weekday  quarter\n",
              "379899     40    91      45375.31  ...          4        4        1\n",
              "123518     13    45         35.88  ...          4        4        1\n",
              "47671       5    85        649.08  ...          4        4        1\n",
              "\n",
              "[3 rows x 19 columns]"
            ]
          },
          "metadata": {
            "tags": []
          },
          "execution_count": 78
        }
      ]
    },
    {
      "cell_type": "code",
      "metadata": {
        "id": "FyrLzxYbBtRr",
        "colab_type": "code",
        "outputId": "057a8786-7c43-4181-b6a2-6f4eabd99a23",
        "colab": {
          "base_uri": "https://localhost:8080/",
          "height": 420
        }
      },
      "source": [
        "test_processed.info()"
      ],
      "execution_count": 79,
      "outputs": [
        {
          "output_type": "stream",
          "text": [
            "<class 'pandas.core.frame.DataFrame'>\n",
            "Int64Index: 105045 entries, 379899 to 421569\n",
            "Data columns (total 19 columns):\n",
            "Store           105045 non-null int64\n",
            "Dept            105045 non-null int64\n",
            "Weekly_Sales    105045 non-null float64\n",
            "IsHoliday       105045 non-null bool\n",
            "Type            105045 non-null int8\n",
            "Size            105045 non-null int64\n",
            "Temperature     105045 non-null float64\n",
            "Fuel_Price      105045 non-null float64\n",
            "CPI             105045 non-null float64\n",
            "Unemployment    105045 non-null float64\n",
            "year            105045 non-null int64\n",
            "month           105045 non-null int64\n",
            "day             105045 non-null int64\n",
            "dayofyear       105045 non-null int64\n",
            "week            105045 non-null int64\n",
            "weekofyear      105045 non-null int64\n",
            "dayofweek       105045 non-null int64\n",
            "weekday         105045 non-null int64\n",
            "quarter         105045 non-null int64\n",
            "dtypes: bool(1), float64(5), int64(12), int8(1)\n",
            "memory usage: 14.6 MB\n"
          ],
          "name": "stdout"
        }
      ]
    },
    {
      "cell_type": "markdown",
      "metadata": {
        "id": "n_i5hvIhiQOn",
        "colab_type": "text"
      },
      "source": [
        "**Creating new column based on weight**"
      ]
    },
    {
      "cell_type": "code",
      "metadata": {
        "id": "olt5oWm9iS-S",
        "colab_type": "code",
        "colab": {}
      },
      "source": [
        "''' Creating new column \"IsHoliday_weight\" based on weight assigned on column \"IsHoliday\".\n",
        "If the value in IsHoliday column is true, assign 5 else assign 1'''\n",
        "test_processed['IsHoliday_weight']=test_processed['IsHoliday'].replace(True, 5).replace(False, 1)"
      ],
      "execution_count": 0,
      "outputs": []
    },
    {
      "cell_type": "code",
      "metadata": {
        "id": "TNApOkUIiTBq",
        "colab_type": "code",
        "colab": {}
      },
      "source": [
        "'''Converting to int datatype'''\n",
        "test_processed.IsHoliday_weight = test_processed.IsHoliday_weight.astype(int)"
      ],
      "execution_count": 0,
      "outputs": []
    },
    {
      "cell_type": "code",
      "metadata": {
        "id": "au_989YNip0a",
        "colab_type": "code",
        "outputId": "a6135aa1-aa5c-408b-9918-e83fa2025cf5",
        "colab": {
          "base_uri": "https://localhost:8080/",
          "height": 215
        }
      },
      "source": [
        "test_processed.head()"
      ],
      "execution_count": 82,
      "outputs": [
        {
          "output_type": "execute_result",
          "data": {
            "text/html": [
              "<div>\n",
              "<style scoped>\n",
              "    .dataframe tbody tr th:only-of-type {\n",
              "        vertical-align: middle;\n",
              "    }\n",
              "\n",
              "    .dataframe tbody tr th {\n",
              "        vertical-align: top;\n",
              "    }\n",
              "\n",
              "    .dataframe thead th {\n",
              "        text-align: right;\n",
              "    }\n",
              "</style>\n",
              "<table border=\"1\" class=\"dataframe\">\n",
              "  <thead>\n",
              "    <tr style=\"text-align: right;\">\n",
              "      <th></th>\n",
              "      <th>Store</th>\n",
              "      <th>Dept</th>\n",
              "      <th>Weekly_Sales</th>\n",
              "      <th>IsHoliday</th>\n",
              "      <th>Type</th>\n",
              "      <th>Size</th>\n",
              "      <th>Temperature</th>\n",
              "      <th>Fuel_Price</th>\n",
              "      <th>CPI</th>\n",
              "      <th>Unemployment</th>\n",
              "      <th>year</th>\n",
              "      <th>month</th>\n",
              "      <th>day</th>\n",
              "      <th>dayofyear</th>\n",
              "      <th>week</th>\n",
              "      <th>weekofyear</th>\n",
              "      <th>dayofweek</th>\n",
              "      <th>weekday</th>\n",
              "      <th>quarter</th>\n",
              "      <th>IsHoliday_weight</th>\n",
              "    </tr>\n",
              "  </thead>\n",
              "  <tbody>\n",
              "    <tr>\n",
              "      <th>379899</th>\n",
              "      <td>40</td>\n",
              "      <td>91</td>\n",
              "      <td>45375.31</td>\n",
              "      <td>False</td>\n",
              "      <td>1</td>\n",
              "      <td>155083</td>\n",
              "      <td>29.88</td>\n",
              "      <td>3.751</td>\n",
              "      <td>137.341103</td>\n",
              "      <td>4.261</td>\n",
              "      <td>2012</td>\n",
              "      <td>2</td>\n",
              "      <td>24</td>\n",
              "      <td>55</td>\n",
              "      <td>8</td>\n",
              "      <td>8</td>\n",
              "      <td>4</td>\n",
              "      <td>4</td>\n",
              "      <td>1</td>\n",
              "      <td>1</td>\n",
              "    </tr>\n",
              "    <tr>\n",
              "      <th>123518</th>\n",
              "      <td>13</td>\n",
              "      <td>45</td>\n",
              "      <td>35.88</td>\n",
              "      <td>False</td>\n",
              "      <td>1</td>\n",
              "      <td>219622</td>\n",
              "      <td>35.38</td>\n",
              "      <td>3.145</td>\n",
              "      <td>130.550207</td>\n",
              "      <td>6.104</td>\n",
              "      <td>2012</td>\n",
              "      <td>2</td>\n",
              "      <td>24</td>\n",
              "      <td>55</td>\n",
              "      <td>8</td>\n",
              "      <td>8</td>\n",
              "      <td>4</td>\n",
              "      <td>4</td>\n",
              "      <td>1</td>\n",
              "      <td>1</td>\n",
              "    </tr>\n",
              "    <tr>\n",
              "      <th>47671</th>\n",
              "      <td>5</td>\n",
              "      <td>85</td>\n",
              "      <td>649.08</td>\n",
              "      <td>False</td>\n",
              "      <td>2</td>\n",
              "      <td>34875</td>\n",
              "      <td>57.75</td>\n",
              "      <td>3.555</td>\n",
              "      <td>221.222424</td>\n",
              "      <td>5.943</td>\n",
              "      <td>2012</td>\n",
              "      <td>2</td>\n",
              "      <td>24</td>\n",
              "      <td>55</td>\n",
              "      <td>8</td>\n",
              "      <td>8</td>\n",
              "      <td>4</td>\n",
              "      <td>4</td>\n",
              "      <td>1</td>\n",
              "      <td>1</td>\n",
              "    </tr>\n",
              "    <tr>\n",
              "      <th>274145</th>\n",
              "      <td>28</td>\n",
              "      <td>60</td>\n",
              "      <td>612.00</td>\n",
              "      <td>False</td>\n",
              "      <td>1</td>\n",
              "      <td>206302</td>\n",
              "      <td>53.13</td>\n",
              "      <td>3.950</td>\n",
              "      <td>130.550207</td>\n",
              "      <td>12.187</td>\n",
              "      <td>2012</td>\n",
              "      <td>2</td>\n",
              "      <td>24</td>\n",
              "      <td>55</td>\n",
              "      <td>8</td>\n",
              "      <td>8</td>\n",
              "      <td>4</td>\n",
              "      <td>4</td>\n",
              "      <td>1</td>\n",
              "      <td>1</td>\n",
              "    </tr>\n",
              "    <tr>\n",
              "      <th>159001</th>\n",
              "      <td>17</td>\n",
              "      <td>11</td>\n",
              "      <td>12391.91</td>\n",
              "      <td>False</td>\n",
              "      <td>2</td>\n",
              "      <td>93188</td>\n",
              "      <td>30.01</td>\n",
              "      <td>3.145</td>\n",
              "      <td>130.550207</td>\n",
              "      <td>6.403</td>\n",
              "      <td>2012</td>\n",
              "      <td>2</td>\n",
              "      <td>24</td>\n",
              "      <td>55</td>\n",
              "      <td>8</td>\n",
              "      <td>8</td>\n",
              "      <td>4</td>\n",
              "      <td>4</td>\n",
              "      <td>1</td>\n",
              "      <td>1</td>\n",
              "    </tr>\n",
              "  </tbody>\n",
              "</table>\n",
              "</div>"
            ],
            "text/plain": [
              "        Store  Dept  Weekly_Sales  ...  weekday  quarter  IsHoliday_weight\n",
              "379899     40    91      45375.31  ...        4        1                 1\n",
              "123518     13    45         35.88  ...        4        1                 1\n",
              "47671       5    85        649.08  ...        4        1                 1\n",
              "274145     28    60        612.00  ...        4        1                 1\n",
              "159001     17    11      12391.91  ...        4        1                 1\n",
              "\n",
              "[5 rows x 20 columns]"
            ]
          },
          "metadata": {
            "tags": []
          },
          "execution_count": 82
        }
      ]
    },
    {
      "cell_type": "code",
      "metadata": {
        "id": "RP5_D5_XBtVD",
        "colab_type": "code",
        "colab": {}
      },
      "source": [
        "Y_test = test_processed[\"Weekly_Sales\"]\n",
        "x_test = test_processed.drop([\"Weekly_Sales\"],axis = 1)"
      ],
      "execution_count": 0,
      "outputs": []
    },
    {
      "cell_type": "markdown",
      "metadata": {
        "id": "5vOAzKyeYLwi",
        "colab_type": "text"
      },
      "source": [
        "**Data Scaling**"
      ]
    },
    {
      "cell_type": "code",
      "metadata": {
        "id": "AnTwnp8ScBGv",
        "colab_type": "code",
        "outputId": "ac61998e-96a9-4d75-b613-2704df793f52",
        "colab": {
          "base_uri": "https://localhost:8080/",
          "height": 34
        }
      },
      "source": [
        "'''Splitting test data into categorical and continuous dataset'''\n",
        "X_con_test = x_test[['Size','Temperature','Fuel_Price','CPI','Unemployment']]\n",
        "X_cat_test = x_test.drop(X_con_test,axis = 1)\n",
        "print(X_cat_test.shape,X_con_test.shape)"
      ],
      "execution_count": 84,
      "outputs": [
        {
          "output_type": "stream",
          "text": [
            "(105045, 14) (105045, 5)\n"
          ],
          "name": "stdout"
        }
      ]
    },
    {
      "cell_type": "code",
      "metadata": {
        "id": "6Xio5jCOcBU5",
        "colab_type": "code",
        "outputId": "4170712b-7b1e-4014-e7ab-d88563eb2cd7",
        "colab": {
          "base_uri": "https://localhost:8080/",
          "height": 123
        }
      },
      "source": [
        "'''Scale using the training set mean and SD. This is already captured in\n",
        "the scaler object we made. '''\n",
        "\n",
        "X_con_sct = pd.DataFrame(scaler.transform(X_con_test))\n",
        "X_con_sct.columns = [\"Size\",\"Temperature\",\"Fuel_Price\",\"CPI\",\"Unemployment\"]\n",
        "print(X_con_sct.shape)\n",
        "X_con_sct.head(2)\n",
        "\n"
      ],
      "execution_count": 85,
      "outputs": [
        {
          "output_type": "stream",
          "text": [
            "(105045, 5)\n"
          ],
          "name": "stdout"
        },
        {
          "output_type": "execute_result",
          "data": {
            "text/html": [
              "<div>\n",
              "<style scoped>\n",
              "    .dataframe tbody tr th:only-of-type {\n",
              "        vertical-align: middle;\n",
              "    }\n",
              "\n",
              "    .dataframe tbody tr th {\n",
              "        vertical-align: top;\n",
              "    }\n",
              "\n",
              "    .dataframe thead th {\n",
              "        text-align: right;\n",
              "    }\n",
              "</style>\n",
              "<table border=\"1\" class=\"dataframe\">\n",
              "  <thead>\n",
              "    <tr style=\"text-align: right;\">\n",
              "      <th></th>\n",
              "      <th>Size</th>\n",
              "      <th>Temperature</th>\n",
              "      <th>Fuel_Price</th>\n",
              "      <th>CPI</th>\n",
              "      <th>Unemployment</th>\n",
              "    </tr>\n",
              "  </thead>\n",
              "  <tbody>\n",
              "    <tr>\n",
              "      <th>0</th>\n",
              "      <td>0.299061</td>\n",
              "      <td>-1.454733</td>\n",
              "      <td>1.216405</td>\n",
              "      <td>-0.842013</td>\n",
              "      <td>-2.098920</td>\n",
              "    </tr>\n",
              "    <tr>\n",
              "      <th>1</th>\n",
              "      <td>1.358203</td>\n",
              "      <td>-1.166537</td>\n",
              "      <td>-0.186405</td>\n",
              "      <td>-1.017946</td>\n",
              "      <td>-1.111839</td>\n",
              "    </tr>\n",
              "  </tbody>\n",
              "</table>\n",
              "</div>"
            ],
            "text/plain": [
              "       Size  Temperature  Fuel_Price       CPI  Unemployment\n",
              "0  0.299061    -1.454733    1.216405 -0.842013     -2.098920\n",
              "1  1.358203    -1.166537   -0.186405 -1.017946     -1.111839"
            ]
          },
          "metadata": {
            "tags": []
          },
          "execution_count": 85
        }
      ]
    },
    {
      "cell_type": "code",
      "metadata": {
        "id": "majWpl4Seeek",
        "colab_type": "code",
        "outputId": "db137993-fc84-4298-9a7b-03ec7f930763",
        "colab": {
          "base_uri": "https://localhost:8080/",
          "height": 34
        }
      },
      "source": [
        "print(X_cat_test.shape,X_con_sct.shape)"
      ],
      "execution_count": 86,
      "outputs": [
        {
          "output_type": "stream",
          "text": [
            "(105045, 14) (105045, 5)\n"
          ],
          "name": "stdout"
        }
      ]
    },
    {
      "cell_type": "code",
      "metadata": {
        "id": "Z6twKrSrfKNt",
        "colab_type": "code",
        "outputId": "54ead6d4-9e31-4bc6-edbb-8a11d295dda2",
        "colab": {
          "base_uri": "https://localhost:8080/",
          "height": 195
        }
      },
      "source": [
        "#Re-index before merging\n",
        "X_cat_test.reset_index(inplace = True,drop = False)\n",
        "X_cat_test.head()"
      ],
      "execution_count": 87,
      "outputs": [
        {
          "output_type": "execute_result",
          "data": {
            "text/html": [
              "<div>\n",
              "<style scoped>\n",
              "    .dataframe tbody tr th:only-of-type {\n",
              "        vertical-align: middle;\n",
              "    }\n",
              "\n",
              "    .dataframe tbody tr th {\n",
              "        vertical-align: top;\n",
              "    }\n",
              "\n",
              "    .dataframe thead th {\n",
              "        text-align: right;\n",
              "    }\n",
              "</style>\n",
              "<table border=\"1\" class=\"dataframe\">\n",
              "  <thead>\n",
              "    <tr style=\"text-align: right;\">\n",
              "      <th></th>\n",
              "      <th>index</th>\n",
              "      <th>Store</th>\n",
              "      <th>Dept</th>\n",
              "      <th>IsHoliday</th>\n",
              "      <th>Type</th>\n",
              "      <th>year</th>\n",
              "      <th>month</th>\n",
              "      <th>day</th>\n",
              "      <th>dayofyear</th>\n",
              "      <th>week</th>\n",
              "      <th>weekofyear</th>\n",
              "      <th>dayofweek</th>\n",
              "      <th>weekday</th>\n",
              "      <th>quarter</th>\n",
              "      <th>IsHoliday_weight</th>\n",
              "    </tr>\n",
              "  </thead>\n",
              "  <tbody>\n",
              "    <tr>\n",
              "      <th>0</th>\n",
              "      <td>379899</td>\n",
              "      <td>40</td>\n",
              "      <td>91</td>\n",
              "      <td>False</td>\n",
              "      <td>1</td>\n",
              "      <td>2012</td>\n",
              "      <td>2</td>\n",
              "      <td>24</td>\n",
              "      <td>55</td>\n",
              "      <td>8</td>\n",
              "      <td>8</td>\n",
              "      <td>4</td>\n",
              "      <td>4</td>\n",
              "      <td>1</td>\n",
              "      <td>1</td>\n",
              "    </tr>\n",
              "    <tr>\n",
              "      <th>1</th>\n",
              "      <td>123518</td>\n",
              "      <td>13</td>\n",
              "      <td>45</td>\n",
              "      <td>False</td>\n",
              "      <td>1</td>\n",
              "      <td>2012</td>\n",
              "      <td>2</td>\n",
              "      <td>24</td>\n",
              "      <td>55</td>\n",
              "      <td>8</td>\n",
              "      <td>8</td>\n",
              "      <td>4</td>\n",
              "      <td>4</td>\n",
              "      <td>1</td>\n",
              "      <td>1</td>\n",
              "    </tr>\n",
              "    <tr>\n",
              "      <th>2</th>\n",
              "      <td>47671</td>\n",
              "      <td>5</td>\n",
              "      <td>85</td>\n",
              "      <td>False</td>\n",
              "      <td>2</td>\n",
              "      <td>2012</td>\n",
              "      <td>2</td>\n",
              "      <td>24</td>\n",
              "      <td>55</td>\n",
              "      <td>8</td>\n",
              "      <td>8</td>\n",
              "      <td>4</td>\n",
              "      <td>4</td>\n",
              "      <td>1</td>\n",
              "      <td>1</td>\n",
              "    </tr>\n",
              "    <tr>\n",
              "      <th>3</th>\n",
              "      <td>274145</td>\n",
              "      <td>28</td>\n",
              "      <td>60</td>\n",
              "      <td>False</td>\n",
              "      <td>1</td>\n",
              "      <td>2012</td>\n",
              "      <td>2</td>\n",
              "      <td>24</td>\n",
              "      <td>55</td>\n",
              "      <td>8</td>\n",
              "      <td>8</td>\n",
              "      <td>4</td>\n",
              "      <td>4</td>\n",
              "      <td>1</td>\n",
              "      <td>1</td>\n",
              "    </tr>\n",
              "    <tr>\n",
              "      <th>4</th>\n",
              "      <td>159001</td>\n",
              "      <td>17</td>\n",
              "      <td>11</td>\n",
              "      <td>False</td>\n",
              "      <td>2</td>\n",
              "      <td>2012</td>\n",
              "      <td>2</td>\n",
              "      <td>24</td>\n",
              "      <td>55</td>\n",
              "      <td>8</td>\n",
              "      <td>8</td>\n",
              "      <td>4</td>\n",
              "      <td>4</td>\n",
              "      <td>1</td>\n",
              "      <td>1</td>\n",
              "    </tr>\n",
              "  </tbody>\n",
              "</table>\n",
              "</div>"
            ],
            "text/plain": [
              "    index  Store  Dept  ...  weekday  quarter  IsHoliday_weight\n",
              "0  379899     40    91  ...        4        1                 1\n",
              "1  123518     13    45  ...        4        1                 1\n",
              "2   47671      5    85  ...        4        1                 1\n",
              "3  274145     28    60  ...        4        1                 1\n",
              "4  159001     17    11  ...        4        1                 1\n",
              "\n",
              "[5 rows x 15 columns]"
            ]
          },
          "metadata": {
            "tags": []
          },
          "execution_count": 87
        }
      ]
    },
    {
      "cell_type": "code",
      "metadata": {
        "id": "UAYMUY6YfgC7",
        "colab_type": "code",
        "outputId": "8c23201a-8f1d-4226-950b-8928d44d62a3",
        "colab": {
          "base_uri": "https://localhost:8080/",
          "height": 106
        }
      },
      "source": [
        "X_cat_test.drop(\"index\",inplace = True,axis = 1)\n",
        "X_cat_test.head(2)"
      ],
      "execution_count": 88,
      "outputs": [
        {
          "output_type": "execute_result",
          "data": {
            "text/html": [
              "<div>\n",
              "<style scoped>\n",
              "    .dataframe tbody tr th:only-of-type {\n",
              "        vertical-align: middle;\n",
              "    }\n",
              "\n",
              "    .dataframe tbody tr th {\n",
              "        vertical-align: top;\n",
              "    }\n",
              "\n",
              "    .dataframe thead th {\n",
              "        text-align: right;\n",
              "    }\n",
              "</style>\n",
              "<table border=\"1\" class=\"dataframe\">\n",
              "  <thead>\n",
              "    <tr style=\"text-align: right;\">\n",
              "      <th></th>\n",
              "      <th>Store</th>\n",
              "      <th>Dept</th>\n",
              "      <th>IsHoliday</th>\n",
              "      <th>Type</th>\n",
              "      <th>year</th>\n",
              "      <th>month</th>\n",
              "      <th>day</th>\n",
              "      <th>dayofyear</th>\n",
              "      <th>week</th>\n",
              "      <th>weekofyear</th>\n",
              "      <th>dayofweek</th>\n",
              "      <th>weekday</th>\n",
              "      <th>quarter</th>\n",
              "      <th>IsHoliday_weight</th>\n",
              "    </tr>\n",
              "  </thead>\n",
              "  <tbody>\n",
              "    <tr>\n",
              "      <th>0</th>\n",
              "      <td>40</td>\n",
              "      <td>91</td>\n",
              "      <td>False</td>\n",
              "      <td>1</td>\n",
              "      <td>2012</td>\n",
              "      <td>2</td>\n",
              "      <td>24</td>\n",
              "      <td>55</td>\n",
              "      <td>8</td>\n",
              "      <td>8</td>\n",
              "      <td>4</td>\n",
              "      <td>4</td>\n",
              "      <td>1</td>\n",
              "      <td>1</td>\n",
              "    </tr>\n",
              "    <tr>\n",
              "      <th>1</th>\n",
              "      <td>13</td>\n",
              "      <td>45</td>\n",
              "      <td>False</td>\n",
              "      <td>1</td>\n",
              "      <td>2012</td>\n",
              "      <td>2</td>\n",
              "      <td>24</td>\n",
              "      <td>55</td>\n",
              "      <td>8</td>\n",
              "      <td>8</td>\n",
              "      <td>4</td>\n",
              "      <td>4</td>\n",
              "      <td>1</td>\n",
              "      <td>1</td>\n",
              "    </tr>\n",
              "  </tbody>\n",
              "</table>\n",
              "</div>"
            ],
            "text/plain": [
              "   Store  Dept  IsHoliday  Type  ...  dayofweek  weekday  quarter  IsHoliday_weight\n",
              "0     40    91      False     1  ...          4        4        1                 1\n",
              "1     13    45      False     1  ...          4        4        1                 1\n",
              "\n",
              "[2 rows x 14 columns]"
            ]
          },
          "metadata": {
            "tags": []
          },
          "execution_count": 88
        }
      ]
    },
    {
      "cell_type": "code",
      "metadata": {
        "id": "R7don-Inecs9",
        "colab_type": "code",
        "outputId": "e3b73ca5-5d2a-4bf1-c741-f95a4578765b",
        "colab": {
          "base_uri": "https://localhost:8080/",
          "height": 143
        }
      },
      "source": [
        "#Merge the two sets of columns\n",
        "df_list_I = [X_cat_test,X_con_sct]\n",
        "X_test_I = pd.concat(df_list_I,axis = 1)\n",
        "print(X_test_I.shape)\n",
        "X_test_I.head(2)"
      ],
      "execution_count": 89,
      "outputs": [
        {
          "output_type": "stream",
          "text": [
            "(105045, 19)\n"
          ],
          "name": "stdout"
        },
        {
          "output_type": "execute_result",
          "data": {
            "text/html": [
              "<div>\n",
              "<style scoped>\n",
              "    .dataframe tbody tr th:only-of-type {\n",
              "        vertical-align: middle;\n",
              "    }\n",
              "\n",
              "    .dataframe tbody tr th {\n",
              "        vertical-align: top;\n",
              "    }\n",
              "\n",
              "    .dataframe thead th {\n",
              "        text-align: right;\n",
              "    }\n",
              "</style>\n",
              "<table border=\"1\" class=\"dataframe\">\n",
              "  <thead>\n",
              "    <tr style=\"text-align: right;\">\n",
              "      <th></th>\n",
              "      <th>Store</th>\n",
              "      <th>Dept</th>\n",
              "      <th>IsHoliday</th>\n",
              "      <th>Type</th>\n",
              "      <th>year</th>\n",
              "      <th>month</th>\n",
              "      <th>day</th>\n",
              "      <th>dayofyear</th>\n",
              "      <th>week</th>\n",
              "      <th>weekofyear</th>\n",
              "      <th>dayofweek</th>\n",
              "      <th>weekday</th>\n",
              "      <th>quarter</th>\n",
              "      <th>IsHoliday_weight</th>\n",
              "      <th>Size</th>\n",
              "      <th>Temperature</th>\n",
              "      <th>Fuel_Price</th>\n",
              "      <th>CPI</th>\n",
              "      <th>Unemployment</th>\n",
              "    </tr>\n",
              "  </thead>\n",
              "  <tbody>\n",
              "    <tr>\n",
              "      <th>0</th>\n",
              "      <td>40</td>\n",
              "      <td>91</td>\n",
              "      <td>False</td>\n",
              "      <td>1</td>\n",
              "      <td>2012</td>\n",
              "      <td>2</td>\n",
              "      <td>24</td>\n",
              "      <td>55</td>\n",
              "      <td>8</td>\n",
              "      <td>8</td>\n",
              "      <td>4</td>\n",
              "      <td>4</td>\n",
              "      <td>1</td>\n",
              "      <td>1</td>\n",
              "      <td>0.299061</td>\n",
              "      <td>-1.454733</td>\n",
              "      <td>1.216405</td>\n",
              "      <td>-0.842013</td>\n",
              "      <td>-2.098920</td>\n",
              "    </tr>\n",
              "    <tr>\n",
              "      <th>1</th>\n",
              "      <td>13</td>\n",
              "      <td>45</td>\n",
              "      <td>False</td>\n",
              "      <td>1</td>\n",
              "      <td>2012</td>\n",
              "      <td>2</td>\n",
              "      <td>24</td>\n",
              "      <td>55</td>\n",
              "      <td>8</td>\n",
              "      <td>8</td>\n",
              "      <td>4</td>\n",
              "      <td>4</td>\n",
              "      <td>1</td>\n",
              "      <td>1</td>\n",
              "      <td>1.358203</td>\n",
              "      <td>-1.166537</td>\n",
              "      <td>-0.186405</td>\n",
              "      <td>-1.017946</td>\n",
              "      <td>-1.111839</td>\n",
              "    </tr>\n",
              "  </tbody>\n",
              "</table>\n",
              "</div>"
            ],
            "text/plain": [
              "   Store  Dept  IsHoliday  ...  Fuel_Price       CPI  Unemployment\n",
              "0     40    91      False  ...    1.216405 -0.842013     -2.098920\n",
              "1     13    45      False  ...   -0.186405 -1.017946     -1.111839\n",
              "\n",
              "[2 rows x 19 columns]"
            ]
          },
          "metadata": {
            "tags": []
          },
          "execution_count": 89
        }
      ]
    },
    {
      "cell_type": "code",
      "metadata": {
        "id": "nzf9unNPi024",
        "colab_type": "code",
        "colab": {}
      },
      "source": [
        "'''Dropping the column IsHoliday and IsHoliday_weight '''\n",
        "\n",
        "X_test=X_test_I.drop([\"IsHoliday\",\"IsHoliday_weight\"],axis = 1)"
      ],
      "execution_count": 0,
      "outputs": []
    },
    {
      "cell_type": "code",
      "metadata": {
        "id": "5DgPJ9QvmIyj",
        "colab_type": "code",
        "outputId": "656a7ac3-9daa-4a5e-bc45-b9d7c892f31f",
        "colab": {
          "base_uri": "https://localhost:8080/",
          "height": 319
        }
      },
      "source": [
        "X_test.isnull().sum()\n"
      ],
      "execution_count": 91,
      "outputs": [
        {
          "output_type": "execute_result",
          "data": {
            "text/plain": [
              "Store           0\n",
              "Dept            0\n",
              "Type            0\n",
              "year            0\n",
              "month           0\n",
              "day             0\n",
              "dayofyear       0\n",
              "week            0\n",
              "weekofyear      0\n",
              "dayofweek       0\n",
              "weekday         0\n",
              "quarter         0\n",
              "Size            0\n",
              "Temperature     0\n",
              "Fuel_Price      0\n",
              "CPI             0\n",
              "Unemployment    0\n",
              "dtype: int64"
            ]
          },
          "metadata": {
            "tags": []
          },
          "execution_count": 91
        }
      ]
    },
    {
      "cell_type": "code",
      "metadata": {
        "id": "NjHkrFIHjM-X",
        "colab_type": "code",
        "outputId": "97304a47-2820-4611-828d-477e8a074d76",
        "colab": {
          "base_uri": "https://localhost:8080/",
          "height": 34
        }
      },
      "source": [
        "'''Calculating sum of weights in IsHoliday_weight column in test dataset'''\n",
        "sum_result_test = X_test_I.sum(axis = 0, skipna = True) \n",
        "sum_result_test.IsHoliday_weight"
      ],
      "execution_count": 92,
      "outputs": [
        {
          "output_type": "execute_result",
          "data": {
            "text/plain": [
              "116873.0"
            ]
          },
          "metadata": {
            "tags": []
          },
          "execution_count": 92
        }
      ]
    },
    {
      "cell_type": "code",
      "metadata": {
        "id": "c_xnitkvBtbh",
        "colab_type": "code",
        "colab": {}
      },
      "source": [
        "# for storing models and error results\n",
        "model_list_wmae = list()\n",
        "wmae_list = list()"
      ],
      "execution_count": 0,
      "outputs": []
    },
    {
      "cell_type": "markdown",
      "metadata": {
        "id": "TiVJMIwDnj2T",
        "colab_type": "text"
      },
      "source": [
        "# **Evaluation metrics: WEIGHTED MEAN ABSOLUTE ERROR**\n",
        "\n"
      ]
    },
    {
      "cell_type": "code",
      "metadata": {
        "id": "1av3kUqrosnm",
        "colab_type": "code",
        "colab": {}
      },
      "source": [
        "def my_wmae(y1,y2,w1,w2):\n",
        "    return (((y1-y2).abs()*w1).sum())/w2\n",
        "\n",
        "def weighted_mean_absolute_error(my_model,x_data,y_data,IsHoliday_data,sum_of_IsHoliday):\n",
        "    result = [my_wmae(my_model.predict(x_data),y_data,IsHoliday_data,sum_of_IsHoliday)]\n",
        "    return \"weighted_mean_absolute_error\", result"
      ],
      "execution_count": 0,
      "outputs": []
    },
    {
      "cell_type": "markdown",
      "metadata": {
        "id": "0SKqq-dFMmwy",
        "colab_type": "text"
      },
      "source": [
        "**Functions**"
      ]
    },
    {
      "cell_type": "code",
      "metadata": {
        "id": "7_dNL1Al7zN-",
        "colab_type": "code",
        "colab": {}
      },
      "source": [
        "'''This function extracts string from tuple and removes '[',']' from the string '''\n",
        "def string_process(my_string):\n",
        "  s=str(my_string)\n",
        "  s1 = s.replace('[','')\n",
        "  s2= s1.replace(']','')\n",
        "  return s2"
      ],
      "execution_count": 0,
      "outputs": []
    },
    {
      "cell_type": "code",
      "metadata": {
        "id": "dIl3rdJFNG4W",
        "colab_type": "code",
        "colab": {}
      },
      "source": [
        "'''This function converts string to float'''\n",
        "def string_to_float(my_string):\n",
        "  str_lst = [my_string]\n",
        "  float_lst = [float(n) for n in str_lst]\n",
        "  return float_lst"
      ],
      "execution_count": 0,
      "outputs": []
    },
    {
      "cell_type": "markdown",
      "metadata": {
        "id": "naA0z-0mClHu",
        "colab_type": "text"
      },
      "source": [
        "# **Build and Train a k-NN Regression model**"
      ]
    },
    {
      "cell_type": "code",
      "metadata": {
        "id": "XLv7MzejCler",
        "colab_type": "code",
        "outputId": "8544f8d6-0a70-4254-e044-646997160dec",
        "colab": {
          "base_uri": "https://localhost:8080/",
          "height": 67
        }
      },
      "source": [
        "my_knn_model = KNeighborsRegressor(n_neighbors = 10,weights = 'uniform')\n",
        "my_knn_model.fit(X_train,Y_train)\n",
        "\n"
      ],
      "execution_count": 97,
      "outputs": [
        {
          "output_type": "execute_result",
          "data": {
            "text/plain": [
              "KNeighborsRegressor(algorithm='auto', leaf_size=30, metric='minkowski',\n",
              "                    metric_params=None, n_jobs=None, n_neighbors=10, p=2,\n",
              "                    weights='uniform')"
            ]
          },
          "metadata": {
            "tags": []
          },
          "execution_count": 97
        }
      ]
    },
    {
      "cell_type": "code",
      "metadata": {
        "id": "lBnxmzzwClhV",
        "colab_type": "code",
        "outputId": "cdb34215-08ca-4a65-a914-f978cdbfa815",
        "colab": {
          "base_uri": "https://localhost:8080/",
          "height": 34
        }
      },
      "source": [
        "my_knn_model.score(X_valid, Y_valid)"
      ],
      "execution_count": 98,
      "outputs": [
        {
          "output_type": "execute_result",
          "data": {
            "text/plain": [
              "0.500736286229073"
            ]
          },
          "metadata": {
            "tags": []
          },
          "execution_count": 98
        }
      ]
    },
    {
      "cell_type": "markdown",
      "metadata": {
        "id": "i9oEErjNC5Y8",
        "colab_type": "text"
      },
      "source": [
        "**Hyperparameter tuning**"
      ]
    },
    {
      "cell_type": "code",
      "metadata": {
        "id": "oNU5sA65C1N6",
        "colab_type": "code",
        "colab": {}
      },
      "source": [
        "from sklearn.metrics import accuracy_score\n",
        "\n",
        "num_neighs = list()\n",
        "accuracy_list = list()\n",
        "\n",
        "\n",
        "for neighbor in range(1,20):\n",
        "    my_knn_model = KNeighborsRegressor(n_neighbors = neighbor,weights = 'uniform')\n",
        "    my_knn_model.fit(X_train,Y_train)\n",
        "    #Y_pred = my_knn_model.predict(X_valid)\n",
        "    accuracy = my_knn_model.score(X_valid,Y_valid)\n",
        "    num_neighs.append(neighbor)\n",
        "    accuracy_list.append(accuracy)"
      ],
      "execution_count": 0,
      "outputs": []
    },
    {
      "cell_type": "code",
      "metadata": {
        "id": "lzPUFEFNC8N8",
        "colab_type": "code",
        "outputId": "a18a10f8-76ef-4fd7-94d4-e2edecb340bb",
        "colab": {
          "base_uri": "https://localhost:8080/",
          "height": 610
        }
      },
      "source": [
        "eval_df =  pd.DataFrame({\"Num of neighbors\": num_neighs,\"Valid accuracy Score\": accuracy_list})\n",
        "eval_df"
      ],
      "execution_count": 100,
      "outputs": [
        {
          "output_type": "execute_result",
          "data": {
            "text/html": [
              "<div>\n",
              "<style scoped>\n",
              "    .dataframe tbody tr th:only-of-type {\n",
              "        vertical-align: middle;\n",
              "    }\n",
              "\n",
              "    .dataframe tbody tr th {\n",
              "        vertical-align: top;\n",
              "    }\n",
              "\n",
              "    .dataframe thead th {\n",
              "        text-align: right;\n",
              "    }\n",
              "</style>\n",
              "<table border=\"1\" class=\"dataframe\">\n",
              "  <thead>\n",
              "    <tr style=\"text-align: right;\">\n",
              "      <th></th>\n",
              "      <th>Num of neighbors</th>\n",
              "      <th>Valid accuracy Score</th>\n",
              "    </tr>\n",
              "  </thead>\n",
              "  <tbody>\n",
              "    <tr>\n",
              "      <th>0</th>\n",
              "      <td>1</td>\n",
              "      <td>0.949922</td>\n",
              "    </tr>\n",
              "    <tr>\n",
              "      <th>1</th>\n",
              "      <td>2</td>\n",
              "      <td>0.617758</td>\n",
              "    </tr>\n",
              "    <tr>\n",
              "      <th>2</th>\n",
              "      <td>3</td>\n",
              "      <td>0.593028</td>\n",
              "    </tr>\n",
              "    <tr>\n",
              "      <th>3</th>\n",
              "      <td>4</td>\n",
              "      <td>0.591305</td>\n",
              "    </tr>\n",
              "    <tr>\n",
              "      <th>4</th>\n",
              "      <td>5</td>\n",
              "      <td>0.566446</td>\n",
              "    </tr>\n",
              "    <tr>\n",
              "      <th>5</th>\n",
              "      <td>6</td>\n",
              "      <td>0.559897</td>\n",
              "    </tr>\n",
              "    <tr>\n",
              "      <th>6</th>\n",
              "      <td>7</td>\n",
              "      <td>0.539338</td>\n",
              "    </tr>\n",
              "    <tr>\n",
              "      <th>7</th>\n",
              "      <td>8</td>\n",
              "      <td>0.523438</td>\n",
              "    </tr>\n",
              "    <tr>\n",
              "      <th>8</th>\n",
              "      <td>9</td>\n",
              "      <td>0.513313</td>\n",
              "    </tr>\n",
              "    <tr>\n",
              "      <th>9</th>\n",
              "      <td>10</td>\n",
              "      <td>0.500736</td>\n",
              "    </tr>\n",
              "    <tr>\n",
              "      <th>10</th>\n",
              "      <td>11</td>\n",
              "      <td>0.491418</td>\n",
              "    </tr>\n",
              "    <tr>\n",
              "      <th>11</th>\n",
              "      <td>12</td>\n",
              "      <td>0.483016</td>\n",
              "    </tr>\n",
              "    <tr>\n",
              "      <th>12</th>\n",
              "      <td>13</td>\n",
              "      <td>0.473211</td>\n",
              "    </tr>\n",
              "    <tr>\n",
              "      <th>13</th>\n",
              "      <td>14</td>\n",
              "      <td>0.466946</td>\n",
              "    </tr>\n",
              "    <tr>\n",
              "      <th>14</th>\n",
              "      <td>15</td>\n",
              "      <td>0.456212</td>\n",
              "    </tr>\n",
              "    <tr>\n",
              "      <th>15</th>\n",
              "      <td>16</td>\n",
              "      <td>0.450057</td>\n",
              "    </tr>\n",
              "    <tr>\n",
              "      <th>16</th>\n",
              "      <td>17</td>\n",
              "      <td>0.443852</td>\n",
              "    </tr>\n",
              "    <tr>\n",
              "      <th>17</th>\n",
              "      <td>18</td>\n",
              "      <td>0.436629</td>\n",
              "    </tr>\n",
              "    <tr>\n",
              "      <th>18</th>\n",
              "      <td>19</td>\n",
              "      <td>0.431612</td>\n",
              "    </tr>\n",
              "  </tbody>\n",
              "</table>\n",
              "</div>"
            ],
            "text/plain": [
              "    Num of neighbors  Valid accuracy Score\n",
              "0                  1              0.949922\n",
              "1                  2              0.617758\n",
              "2                  3              0.593028\n",
              "3                  4              0.591305\n",
              "4                  5              0.566446\n",
              "5                  6              0.559897\n",
              "6                  7              0.539338\n",
              "7                  8              0.523438\n",
              "8                  9              0.513313\n",
              "9                 10              0.500736\n",
              "10                11              0.491418\n",
              "11                12              0.483016\n",
              "12                13              0.473211\n",
              "13                14              0.466946\n",
              "14                15              0.456212\n",
              "15                16              0.450057\n",
              "16                17              0.443852\n",
              "17                18              0.436629\n",
              "18                19              0.431612"
            ]
          },
          "metadata": {
            "tags": []
          },
          "execution_count": 100
        }
      ]
    },
    {
      "cell_type": "code",
      "metadata": {
        "id": "kaMDeVg5C8Qt",
        "colab_type": "code",
        "outputId": "f26caeee-5751-4315-94bd-54f1f9c171b4",
        "colab": {
          "base_uri": "https://localhost:8080/",
          "height": 314
        }
      },
      "source": [
        "#Plot accuracy Vs validation set accuracy of the model\n",
        "sns.set_style(\"whitegrid\")\n",
        "sns.pairplot(eval_df,x_vars = \"Num of neighbors\",\n",
        "             y_vars = \"Valid accuracy Score\",plot_kws = {'s': 60},height = 4.0)"
      ],
      "execution_count": 101,
      "outputs": [
        {
          "output_type": "execute_result",
          "data": {
            "text/plain": [
              "<seaborn.axisgrid.PairGrid at 0x7fcf858db358>"
            ]
          },
          "metadata": {
            "tags": []
          },
          "execution_count": 101
        },
        {
          "output_type": "display_data",
          "data": {
            "image/png": "[encoded data removed]",
            "text/plain": [
              "<Figure size 288x288 with 1 Axes>"
            ]
          },
          "metadata": {
            "tags": []
          }
        }
      ]
    },
    {
      "cell_type": "code",
      "metadata": {
        "id": "uTToqCAuC8YV",
        "colab_type": "code",
        "outputId": "82b1b4dc-6215-4dca-bb11-665dbac43bb9",
        "colab": {
          "base_uri": "https://localhost:8080/",
          "height": 67
        }
      },
      "source": [
        "''' K = 2 '''\n",
        "\n",
        "\n",
        "knn_model_fin = KNeighborsRegressor(n_neighbors = 2,weights = 'uniform')\n",
        "knn_model_fin.fit(X_train,Y_train)\n",
        "\n"
      ],
      "execution_count": 102,
      "outputs": [
        {
          "output_type": "execute_result",
          "data": {
            "text/plain": [
              "KNeighborsRegressor(algorithm='auto', leaf_size=30, metric='minkowski',\n",
              "                    metric_params=None, n_jobs=None, n_neighbors=2, p=2,\n",
              "                    weights='uniform')"
            ]
          },
          "metadata": {
            "tags": []
          },
          "execution_count": 102
        }
      ]
    },
    {
      "cell_type": "code",
      "metadata": {
        "id": "8oMGe9_yq0FS",
        "colab_type": "code",
        "colab": {}
      },
      "source": [
        "#Predict on the validation set\n",
        "Y_pred_kNN = knn_model_fin.predict(X_valid)"
      ],
      "execution_count": 0,
      "outputs": []
    },
    {
      "cell_type": "code",
      "metadata": {
        "id": "2_ZyD0V2rt4_",
        "colab_type": "code",
        "outputId": "572c2524-6b0f-4afa-bf64-b440b7a54ed5",
        "colab": {
          "base_uri": "https://localhost:8080/",
          "height": 34
        }
      },
      "source": [
        "knn_model_fin.score(X_valid, Y_valid)"
      ],
      "execution_count": 104,
      "outputs": [
        {
          "output_type": "execute_result",
          "data": {
            "text/plain": [
              "0.6177580367000058"
            ]
          },
          "metadata": {
            "tags": []
          },
          "execution_count": 104
        }
      ]
    },
    {
      "cell_type": "code",
      "metadata": {
        "id": "X0-f3FhVr1Tn",
        "colab_type": "code",
        "outputId": "81e6f3f1-6900-4820-e86a-33056ebe749b",
        "colab": {
          "base_uri": "https://localhost:8080/",
          "height": 34
        }
      },
      "source": [
        "'''Calculate WMAE for the validation dataset'''\n",
        "WMAE_valid_kNN=weighted_mean_absolute_error(knn_model_fin,X_valid,Y_valid,x_valid.IsHoliday_weight,sum_result_valid.IsHoliday_weight)\n",
        "WMAE_valid_kNN"
      ],
      "execution_count": 105,
      "outputs": [
        {
          "output_type": "execute_result",
          "data": {
            "text/plain": [
              "('weighted_mean_absolute_error', [780.0845128531588])"
            ]
          },
          "metadata": {
            "tags": []
          },
          "execution_count": 105
        }
      ]
    },
    {
      "cell_type": "markdown",
      "metadata": {
        "id": "5BM9O-tYDtNz",
        "colab_type": "text"
      },
      "source": [
        "**Validating on test data**"
      ]
    },
    {
      "cell_type": "code",
      "metadata": {
        "id": "trAQy9sjC8a2",
        "colab_type": "code",
        "colab": {}
      },
      "source": [
        "#Testing...\n",
        "Y_test_pred_kNN = knn_model_fin.predict(X_test)"
      ],
      "execution_count": 0,
      "outputs": []
    },
    {
      "cell_type": "code",
      "metadata": {
        "id": "9_vWcGopC8eB",
        "colab_type": "code",
        "outputId": "e06ab547-d8b0-407a-cc3a-02db8e3e2a26",
        "colab": {
          "base_uri": "https://localhost:8080/",
          "height": 34
        }
      },
      "source": [
        "knn_model_fin.score(X_test, Y_test)"
      ],
      "execution_count": 107,
      "outputs": [
        {
          "output_type": "execute_result",
          "data": {
            "text/plain": [
              "0.6907885502381697"
            ]
          },
          "metadata": {
            "tags": []
          },
          "execution_count": 107
        }
      ]
    },
    {
      "cell_type": "code",
      "metadata": {
        "id": "7Ri3eC0Fs-CX",
        "colab_type": "code",
        "outputId": "30d108eb-c71d-4a01-e905-817c207df13d",
        "colab": {
          "base_uri": "https://localhost:8080/",
          "height": 34
        }
      },
      "source": [
        "'''Calculate WMAE for the test dataset'''\n",
        "WMAE_test_kNN=weighted_mean_absolute_error(knn_model_fin,X_test,Y_test,x_test.IsHoliday_weight,sum_result_test.IsHoliday_weight)\n",
        "WMAE_test_kNN"
      ],
      "execution_count": 108,
      "outputs": [
        {
          "output_type": "execute_result",
          "data": {
            "text/plain": [
              "('weighted_mean_absolute_error', [7432.05531350269])"
            ]
          },
          "metadata": {
            "tags": []
          },
          "execution_count": 108
        }
      ]
    },
    {
      "cell_type": "code",
      "metadata": {
        "id": "b4r2o7RE8OZe",
        "colab_type": "code",
        "colab": {}
      },
      "source": [
        "w_test_kNN=string_process(WMAE_test_kNN[1])"
      ],
      "execution_count": 0,
      "outputs": []
    },
    {
      "cell_type": "code",
      "metadata": {
        "id": "tzmpSHt39Ki_",
        "colab_type": "code",
        "colab": {}
      },
      "source": [
        "w_valid_kNN=string_process(WMAE_valid_kNN[1])"
      ],
      "execution_count": 0,
      "outputs": []
    },
    {
      "cell_type": "code",
      "metadata": {
        "id": "-J8ZMXKsK7yl",
        "colab_type": "code",
        "colab": {}
      },
      "source": [
        "wmae_test_kNN = string_to_float(w_test_kNN)"
      ],
      "execution_count": 0,
      "outputs": []
    },
    {
      "cell_type": "code",
      "metadata": {
        "id": "jqDE-1xULN0R",
        "colab_type": "code",
        "colab": {}
      },
      "source": [
        "wmae_valid_kNN = string_to_float(w_valid_kNN)"
      ],
      "execution_count": 0,
      "outputs": []
    },
    {
      "cell_type": "code",
      "metadata": {
        "id": "71Fi-EOrC8rd",
        "colab_type": "code",
        "colab": {}
      },
      "source": [
        "model=\"KNeighborsRegressor\"\n",
        "model_list_wmae.append(model)\n",
        "wmae_list.append(wmae_test_kNN[0])"
      ],
      "execution_count": 0,
      "outputs": []
    },
    {
      "cell_type": "code",
      "metadata": {
        "id": "c_cOIyx4C8oc",
        "colab_type": "code",
        "outputId": "1cb53a40-41a6-411d-db80-95ede4bc1144",
        "colab": {
          "base_uri": "https://localhost:8080/",
          "height": 514
        }
      },
      "source": [
        "'''Visualizing validation and test weighted mean absolute error '''\n",
        "\n",
        "plt.figure(figsize = (4,5))\n",
        "plt.xticks(rotation=45)\n",
        "plt.title('Error Vs Validation_Test data')\n",
        "plt.ylabel('Error')\n",
        "plt.xlabel('Validation_Test data')\n",
        "x_number_list = [ \"Validation_weighted_mean_absolute_error\", \"Test_weighted_mean_absolute error\"]\n",
        "y_number_list = [wmae_valid_kNN[0], wmae_test_kNN[0]]\n",
        "sns.barplot(x = x_number_list,y = y_number_list)"
      ],
      "execution_count": 114,
      "outputs": [
        {
          "output_type": "execute_result",
          "data": {
            "text/plain": [
              "<matplotlib.axes._subplots.AxesSubplot at 0x7fcf856577f0>"
            ]
          },
          "metadata": {
            "tags": []
          },
          "execution_count": 114
        },
        {
          "output_type": "display_data",
          "data": {
            "image/png": "[encoded data removed]",
            "text/plain": [
              "<Figure size 288x360 with 1 Axes>"
            ]
          },
          "metadata": {
            "tags": []
          }
        }
      ]
    },
    {
      "cell_type": "markdown",
      "metadata": {
        "id": "53U_60eDEUTT",
        "colab_type": "text"
      },
      "source": [
        "# **Build and Train a Deep Neural Network**"
      ]
    },
    {
      "cell_type": "code",
      "metadata": {
        "id": "U7LdBszsC8Tf",
        "colab_type": "code",
        "colab": {}
      },
      "source": [
        "# Function to create model, required for KerasRegressor\n",
        "def create_model():\n",
        "    model = Sequential()\n",
        "    model.add(Dense(35, input_dim=17, init='normal', activation='relu'))\n",
        "    model.add(Dense(40, init='normal', activation='relu'))\n",
        "    model.add(Dense(25, init='normal', activation='relu'))\n",
        "    model.add(Dense(15, init='normal', activation='relu'))\n",
        "    model.add(Dense(5, init='normal', activation='relu'))\n",
        "    model.add(Dense(1, init='normal'))\n",
        "    model.compile(loss='mean_absolute_error', optimizer='adam',metrics=['accuracy'])\n",
        "    return model"
      ],
      "execution_count": 0,
      "outputs": []
    },
    {
      "cell_type": "markdown",
      "metadata": {
        "id": "NcRoFnxERw90",
        "colab_type": "text"
      },
      "source": [
        "**Hyperparameter Tuning**"
      ]
    },
    {
      "cell_type": "code",
      "metadata": {
        "id": "pXzFijkhC1RS",
        "colab_type": "code",
        "colab": {}
      },
      "source": [
        "# fix random seed for reproducibility\n",
        "seed = 7\n",
        "numpy.random.seed(seed)"
      ],
      "execution_count": 0,
      "outputs": []
    },
    {
      "cell_type": "code",
      "metadata": {
        "id": "1bzDsKnMClmt",
        "colab_type": "code",
        "colab": {}
      },
      "source": [
        "# create model\n",
        "estimator_model = KerasRegressor(build_fn=create_model,nb_epoch=2, batch_size=50000, verbose=0 )"
      ],
      "execution_count": 0,
      "outputs": []
    },
    {
      "cell_type": "code",
      "metadata": {
        "id": "okFJ5eFCClrQ",
        "colab_type": "code",
        "colab": {}
      },
      "source": [
        "# define the grid search parameters\n",
        "batch_size = [10000,1000]\n",
        "epochs = [1,5,25]"
      ],
      "execution_count": 0,
      "outputs": []
    },
    {
      "cell_type": "code",
      "metadata": {
        "id": "ECg00EHMClu6",
        "colab_type": "code",
        "colab": {}
      },
      "source": [
        "param_grid = dict(batch_size=batch_size, epochs=epochs)\n",
        "grid = GridSearchCV(estimator=estimator_model, param_grid=param_grid, n_jobs=-1)"
      ],
      "execution_count": 0,
      "outputs": []
    },
    {
      "cell_type": "code",
      "metadata": {
        "id": "qWPN2udVClpw",
        "colab_type": "code",
        "outputId": "9cb0231a-8f03-4bb5-d884-91119b81b816",
        "colab": {
          "base_uri": "https://localhost:8080/",
          "height": 490
        }
      },
      "source": [
        "grid_result = grid.fit(X_train, Y_train)"
      ],
      "execution_count": 120,
      "outputs": [
        {
          "output_type": "stream",
          "text": [
            "/usr/local/lib/python3.6/dist-packages/sklearn/model_selection/_split.py:1978: FutureWarning: The default value of cv will change from 3 to 5 in version 0.22. Specify it explicitly to silence this warning.\n",
            "  warnings.warn(CV_WARNING, FutureWarning)\n",
            "WARNING: Logging before flag parsing goes to stderr.\n",
            "W0813 02:08:26.594652 140530763659136 deprecation_wrapper.py:119] From /usr/local/lib/python3.6/dist-packages/keras/backend/tensorflow_backend.py:74: The name tf.get_default_graph is deprecated. Please use tf.compat.v1.get_default_graph instead.\n",
            "\n",
            "/usr/local/lib/python3.6/dist-packages/ipykernel_launcher.py:3: UserWarning: Update your `Dense` call to the Keras 2 API: `Dense(35, input_dim=17, activation=\"relu\", kernel_initializer=\"normal\")`\n",
            "  This is separate from the ipykernel package so we can avoid doing imports until\n",
            "W0813 02:08:26.614287 140530763659136 deprecation_wrapper.py:119] From /usr/local/lib/python3.6/dist-packages/keras/backend/tensorflow_backend.py:517: The name tf.placeholder is deprecated. Please use tf.compat.v1.placeholder instead.\n",
            "\n",
            "W0813 02:08:26.619324 140530763659136 deprecation_wrapper.py:119] From /usr/local/lib/python3.6/dist-packages/keras/backend/tensorflow_backend.py:4115: The name tf.random_normal is deprecated. Please use tf.random.normal instead.\n",
            "\n",
            "/usr/local/lib/python3.6/dist-packages/ipykernel_launcher.py:4: UserWarning: Update your `Dense` call to the Keras 2 API: `Dense(40, activation=\"relu\", kernel_initializer=\"normal\")`\n",
            "  after removing the cwd from sys.path.\n",
            "/usr/local/lib/python3.6/dist-packages/ipykernel_launcher.py:5: UserWarning: Update your `Dense` call to the Keras 2 API: `Dense(25, activation=\"relu\", kernel_initializer=\"normal\")`\n",
            "  \"\"\"\n",
            "/usr/local/lib/python3.6/dist-packages/ipykernel_launcher.py:6: UserWarning: Update your `Dense` call to the Keras 2 API: `Dense(15, activation=\"relu\", kernel_initializer=\"normal\")`\n",
            "  \n",
            "/usr/local/lib/python3.6/dist-packages/ipykernel_launcher.py:7: UserWarning: Update your `Dense` call to the Keras 2 API: `Dense(5, activation=\"relu\", kernel_initializer=\"normal\")`\n",
            "  import sys\n",
            "/usr/local/lib/python3.6/dist-packages/ipykernel_launcher.py:8: UserWarning: Update your `Dense` call to the Keras 2 API: `Dense(1, kernel_initializer=\"normal\")`\n",
            "  \n",
            "W0813 02:08:26.713375 140530763659136 deprecation_wrapper.py:119] From /usr/local/lib/python3.6/dist-packages/keras/optimizers.py:790: The name tf.train.Optimizer is deprecated. Please use tf.compat.v1.train.Optimizer instead.\n",
            "\n",
            "W0813 02:08:27.124222 140530763659136 deprecation_wrapper.py:119] From /usr/local/lib/python3.6/dist-packages/keras/backend/tensorflow_backend.py:986: The name tf.assign_add is deprecated. Please use tf.compat.v1.assign_add instead.\n",
            "\n",
            "W0813 02:08:27.316896 140530763659136 deprecation_wrapper.py:119] From /usr/local/lib/python3.6/dist-packages/keras/backend/tensorflow_backend.py:973: The name tf.assign is deprecated. Please use tf.compat.v1.assign instead.\n",
            "\n"
          ],
          "name": "stderr"
        }
      ]
    },
    {
      "cell_type": "code",
      "metadata": {
        "id": "3vvZgcxUEv_C",
        "colab_type": "code",
        "outputId": "9c831d0f-82e1-4ffb-c870-696c92790f7e",
        "colab": {
          "base_uri": "https://localhost:8080/",
          "height": 134
        }
      },
      "source": [
        "'''The scores are negative MSE scores, i.e. negate them and you get the MSE. The thing is that GridSearchCV,\n",
        "by convention, always tries to maximize its score so loss functions like MSE have to be negated.'''\n",
        "print(\"Best: %f using %s\" % (grid_result.best_score_, grid_result.best_params_))\n",
        "means = grid_result.cv_results_['mean_test_score']\n",
        "stds = grid_result.cv_results_['std_test_score']\n",
        "params = grid_result.cv_results_['params']\n",
        "for mean, stdev, param in zip(means, stds, params):\n",
        "    print(\"%f (%f) with: %r\" % (mean, stdev, param))"
      ],
      "execution_count": 121,
      "outputs": [
        {
          "output_type": "stream",
          "text": [
            "Best: -12220.105597 using {'batch_size': 1000, 'epochs': 25}\n",
            "-15916.577720 (180.795008) with: {'batch_size': 10000, 'epochs': 1}\n",
            "-15358.760444 (238.916845) with: {'batch_size': 10000, 'epochs': 5}\n",
            "-13256.572796 (145.953600) with: {'batch_size': 10000, 'epochs': 25}\n",
            "-14118.433089 (1094.669802) with: {'batch_size': 1000, 'epochs': 1}\n",
            "-14115.174228 (1096.395246) with: {'batch_size': 1000, 'epochs': 5}\n",
            "-12220.105597 (969.953330) with: {'batch_size': 1000, 'epochs': 25}\n"
          ],
          "name": "stdout"
        }
      ]
    },
    {
      "cell_type": "code",
      "metadata": {
        "id": "cdSn6wG-EwFI",
        "colab_type": "code",
        "outputId": "73b3a267-56b5-4915-9aa7-6e414ae6defa",
        "colab": {
          "base_uri": "https://localhost:8080/",
          "height": 272
        }
      },
      "source": [
        "# Fit the DNN with your train data and evaluate on validation data\n",
        "\n",
        "history = estimator_model.fit(X_train, Y_train, validation_data=(X_valid, Y_valid), nb_epoch=25, batch_size=1000)"
      ],
      "execution_count": 122,
      "outputs": [
        {
          "output_type": "stream",
          "text": [
            "/usr/local/lib/python3.6/dist-packages/ipykernel_launcher.py:3: UserWarning: Update your `Dense` call to the Keras 2 API: `Dense(35, input_dim=17, activation=\"relu\", kernel_initializer=\"normal\")`\n",
            "  This is separate from the ipykernel package so we can avoid doing imports until\n",
            "/usr/local/lib/python3.6/dist-packages/ipykernel_launcher.py:4: UserWarning: Update your `Dense` call to the Keras 2 API: `Dense(40, activation=\"relu\", kernel_initializer=\"normal\")`\n",
            "  after removing the cwd from sys.path.\n",
            "/usr/local/lib/python3.6/dist-packages/ipykernel_launcher.py:5: UserWarning: Update your `Dense` call to the Keras 2 API: `Dense(25, activation=\"relu\", kernel_initializer=\"normal\")`\n",
            "  \"\"\"\n",
            "/usr/local/lib/python3.6/dist-packages/ipykernel_launcher.py:6: UserWarning: Update your `Dense` call to the Keras 2 API: `Dense(15, activation=\"relu\", kernel_initializer=\"normal\")`\n",
            "  \n",
            "/usr/local/lib/python3.6/dist-packages/ipykernel_launcher.py:7: UserWarning: Update your `Dense` call to the Keras 2 API: `Dense(5, activation=\"relu\", kernel_initializer=\"normal\")`\n",
            "  import sys\n",
            "/usr/local/lib/python3.6/dist-packages/ipykernel_launcher.py:8: UserWarning: Update your `Dense` call to the Keras 2 API: `Dense(1, kernel_initializer=\"normal\")`\n",
            "  \n",
            "/usr/local/lib/python3.6/dist-packages/keras/wrappers/scikit_learn.py:152: UserWarning: The `nb_epoch` argument in `fit` has been renamed `epochs`.\n",
            "  history = self.model.fit(x, y, **fit_args)\n"
          ],
          "name": "stderr"
        }
      ]
    },
    {
      "cell_type": "code",
      "metadata": {
        "id": "4ibUMXSZEwCJ",
        "colab_type": "code",
        "colab": {}
      },
      "source": [
        "y_pred_valid = estimator_model.predict(X_valid)"
      ],
      "execution_count": 0,
      "outputs": []
    },
    {
      "cell_type": "code",
      "metadata": {
        "id": "7dRQUUQMPtpt",
        "colab_type": "code",
        "outputId": "bd5f0dd8-25b1-4c1e-b951-e1b4c5f818b9",
        "colab": {
          "base_uri": "https://localhost:8080/",
          "height": 34
        }
      },
      "source": [
        "'''Calculate WMAE for the validation dataset'''\n",
        "WMAE_valid_DNN=weighted_mean_absolute_error(estimator_model,X_valid,Y_valid,x_valid.IsHoliday_weight,sum_result_valid.IsHoliday_weight)\n",
        "WMAE_valid_DNN"
      ],
      "execution_count": 124,
      "outputs": [
        {
          "output_type": "execute_result",
          "data": {
            "text/plain": [
              "('weighted_mean_absolute_error', [1271.3627529770606])"
            ]
          },
          "metadata": {
            "tags": []
          },
          "execution_count": 124
        }
      ]
    },
    {
      "cell_type": "markdown",
      "metadata": {
        "id": "ChQL0VM1FA5b",
        "colab_type": "text"
      },
      "source": [
        "**Epoch vs train-validation accuracy**"
      ]
    },
    {
      "cell_type": "code",
      "metadata": {
        "id": "xvX0i66sE8g-",
        "colab_type": "code",
        "outputId": "c3fa3017-9053-49c8-a95d-5228c0c176b4",
        "colab": {
          "base_uri": "https://localhost:8080/",
          "height": 295
        }
      },
      "source": [
        "#accuracy vs epoch\n",
        "plt.plot(history.history['acc'])\n",
        "plt.plot(history.history['val_acc'])\n",
        "plt.title('model accuracy')\n",
        "plt.ylabel('accuracy')\n",
        "plt.xlabel('epoch')\n",
        "plt.legend(['train', 'validation'], loc='upper left')\n",
        "plt.show()"
      ],
      "execution_count": 125,
      "outputs": [
        {
          "output_type": "display_data",
          "data": {
            "image/png": "[encoded data removed]",
            "text/plain": [
              "<Figure size 432x288 with 1 Axes>"
            ]
          },
          "metadata": {
            "tags": []
          }
        }
      ]
    },
    {
      "cell_type": "markdown",
      "metadata": {
        "id": "8cmr1byAFImD",
        "colab_type": "text"
      },
      "source": [
        "**Epoch vs train-validation loss**"
      ]
    },
    {
      "cell_type": "code",
      "metadata": {
        "id": "xWyWLRDlFKvZ",
        "colab_type": "code",
        "outputId": "ceeed6db-eeee-43a5-916c-fd29c07992b7",
        "colab": {
          "base_uri": "https://localhost:8080/",
          "height": 295
        }
      },
      "source": [
        "# epoch vs loss\n",
        "plt.plot(history.history['loss'])\n",
        "plt.plot(history.history['val_loss'])\n",
        "plt.title('model loss')\n",
        "plt.ylabel('loss')\n",
        "plt.xlabel('epoch')\n",
        "plt.legend(['train', 'test'], loc='upper left')\n",
        "plt.show()"
      ],
      "execution_count": 126,
      "outputs": [
        {
          "output_type": "display_data",
          "data": {
            "image/png": "[encoded data removed]",
            "text/plain": [
              "<Figure size 432x288 with 1 Axes>"
            ]
          },
          "metadata": {
            "tags": []
          }
        }
      ]
    },
    {
      "cell_type": "markdown",
      "metadata": {
        "id": "ZwOGeI9XFShW",
        "colab_type": "text"
      },
      "source": [
        "**Validating on test data**"
      ]
    },
    {
      "cell_type": "code",
      "metadata": {
        "id": "K6BMo7xwFKzI",
        "colab_type": "code",
        "outputId": "04e59685-ede3-4be3-a734-74650a4210db",
        "colab": {
          "base_uri": "https://localhost:8080/",
          "height": 272
        }
      },
      "source": [
        "# Fit the DNN with your test data\n",
        "\n",
        "history1 = estimator_model.fit(X_train, Y_train, validation_data=(X_test, Y_test), nb_epoch=25, batch_size=1000)"
      ],
      "execution_count": 127,
      "outputs": [
        {
          "output_type": "stream",
          "text": [
            "/usr/local/lib/python3.6/dist-packages/ipykernel_launcher.py:3: UserWarning: Update your `Dense` call to the Keras 2 API: `Dense(35, input_dim=17, activation=\"relu\", kernel_initializer=\"normal\")`\n",
            "  This is separate from the ipykernel package so we can avoid doing imports until\n",
            "/usr/local/lib/python3.6/dist-packages/ipykernel_launcher.py:4: UserWarning: Update your `Dense` call to the Keras 2 API: `Dense(40, activation=\"relu\", kernel_initializer=\"normal\")`\n",
            "  after removing the cwd from sys.path.\n",
            "/usr/local/lib/python3.6/dist-packages/ipykernel_launcher.py:5: UserWarning: Update your `Dense` call to the Keras 2 API: `Dense(25, activation=\"relu\", kernel_initializer=\"normal\")`\n",
            "  \"\"\"\n",
            "/usr/local/lib/python3.6/dist-packages/ipykernel_launcher.py:6: UserWarning: Update your `Dense` call to the Keras 2 API: `Dense(15, activation=\"relu\", kernel_initializer=\"normal\")`\n",
            "  \n",
            "/usr/local/lib/python3.6/dist-packages/ipykernel_launcher.py:7: UserWarning: Update your `Dense` call to the Keras 2 API: `Dense(5, activation=\"relu\", kernel_initializer=\"normal\")`\n",
            "  import sys\n",
            "/usr/local/lib/python3.6/dist-packages/ipykernel_launcher.py:8: UserWarning: Update your `Dense` call to the Keras 2 API: `Dense(1, kernel_initializer=\"normal\")`\n",
            "  \n",
            "/usr/local/lib/python3.6/dist-packages/keras/wrappers/scikit_learn.py:152: UserWarning: The `nb_epoch` argument in `fit` has been renamed `epochs`.\n",
            "  history = self.model.fit(x, y, **fit_args)\n"
          ],
          "name": "stderr"
        }
      ]
    },
    {
      "cell_type": "code",
      "metadata": {
        "id": "SQF6bkSSFe-d",
        "colab_type": "code",
        "colab": {}
      },
      "source": [
        "y_pred_test=estimator_model.predict(X_test)"
      ],
      "execution_count": 0,
      "outputs": []
    },
    {
      "cell_type": "code",
      "metadata": {
        "id": "53MCOrLuQAYP",
        "colab_type": "code",
        "outputId": "44b2679c-a084-42bb-9f70-92408c82a0ee",
        "colab": {
          "base_uri": "https://localhost:8080/",
          "height": 34
        }
      },
      "source": [
        "'''Calculate WMAE for the test dataset'''\n",
        "WMAE_test_DNN=weighted_mean_absolute_error(estimator_model,X_test,Y_test,x_test.IsHoliday_weight,sum_result_test.IsHoliday_weight)\n",
        "WMAE_test_DNN"
      ],
      "execution_count": 129,
      "outputs": [
        {
          "output_type": "execute_result",
          "data": {
            "text/plain": [
              "('weighted_mean_absolute_error', [10959.056109885467])"
            ]
          },
          "metadata": {
            "tags": []
          },
          "execution_count": 129
        }
      ]
    },
    {
      "cell_type": "code",
      "metadata": {
        "id": "_KbYRJY7QRXu",
        "colab_type": "code",
        "colab": {}
      },
      "source": [
        "w_test_DNN=string_process(WMAE_test_DNN[1])"
      ],
      "execution_count": 0,
      "outputs": []
    },
    {
      "cell_type": "code",
      "metadata": {
        "id": "kWp2BtADQRbL",
        "colab_type": "code",
        "colab": {}
      },
      "source": [
        "w_valid_DNN=string_process(WMAE_valid_DNN[1])"
      ],
      "execution_count": 0,
      "outputs": []
    },
    {
      "cell_type": "code",
      "metadata": {
        "id": "inMzEE0FQRfD",
        "colab_type": "code",
        "colab": {}
      },
      "source": [
        "wmae_test_DNN = string_to_float(w_test_DNN)"
      ],
      "execution_count": 0,
      "outputs": []
    },
    {
      "cell_type": "code",
      "metadata": {
        "id": "lG6-03tTQRyy",
        "colab_type": "code",
        "colab": {}
      },
      "source": [
        "wmae_valid_DNN = string_to_float(w_valid_DNN)"
      ],
      "execution_count": 0,
      "outputs": []
    },
    {
      "cell_type": "code",
      "metadata": {
        "id": "zDGoOBXHFfKA",
        "colab_type": "code",
        "colab": {}
      },
      "source": [
        "model = \"Deep Neural Network\"\n",
        "model_list_wmae.append(model)\n",
        "wmae_list.append(wmae_test_DNN[0])"
      ],
      "execution_count": 0,
      "outputs": []
    },
    {
      "cell_type": "code",
      "metadata": {
        "id": "AzgUd8sEFfEI",
        "colab_type": "code",
        "outputId": "bce415ee-1497-4ff2-bff5-24f7132e4165",
        "colab": {
          "base_uri": "https://localhost:8080/",
          "height": 514
        }
      },
      "source": [
        "'''Visualizing validation and test weigted mean absolute error  '''\n",
        "\n",
        "plt.figure(figsize = (4,5))\n",
        "plt.xticks(rotation=45)\n",
        "plt.title('Error Vs validation_Test data')\n",
        "plt.ylabel('Error')\n",
        "plt.xlabel('validation_Test data')\n",
        "x_number_list = [ \"Validation_weighted_mean_absolute_error\", \"Test_weighted_mean_absolute error\"  ]\n",
        "y_number_list = [wmae_valid_DNN[0], wmae_test_DNN[0]]\n",
        "sns.barplot(x = x_number_list,y = y_number_list)"
      ],
      "execution_count": 135,
      "outputs": [
        {
          "output_type": "execute_result",
          "data": {
            "text/plain": [
              "<matplotlib.axes._subplots.AxesSubplot at 0x7fcf83085940>"
            ]
          },
          "metadata": {
            "tags": []
          },
          "execution_count": 135
        },
        {
          "output_type": "display_data",
          "data": {
            "image/png": "[encoded data removed]",
            "text/plain": [
              "<Figure size 288x360 with 1 Axes>"
            ]
          },
          "metadata": {
            "tags": []
          }
        }
      ]
    },
    {
      "cell_type": "markdown",
      "metadata": {
        "id": "r-pkDTrAGGg-",
        "colab_type": "text"
      },
      "source": [
        "# **Build and Train a XGBOOST model**"
      ]
    },
    {
      "cell_type": "code",
      "metadata": {
        "id": "yz4HA0d8GH9z",
        "colab_type": "code",
        "outputId": "9968f3f2-20c7-4f16-985e-1dc5a51c62c4",
        "colab": {
          "base_uri": "https://localhost:8080/",
          "height": 185
        }
      },
      "source": [
        "# create a regressor object \n",
        "XGregr = XGBRegressor(max_depth=10, random_state=1, learning_rate=0.1,n_estimators=10,eval_metric='mae')\n",
        "XGregr.fit(X_train, Y_train)"
      ],
      "execution_count": 136,
      "outputs": [
        {
          "output_type": "stream",
          "text": [
            "/usr/local/lib/python3.6/dist-packages/xgboost/core.py:587: FutureWarning: Series.base is deprecated and will be removed in a future version\n",
            "  if getattr(data, 'base', None) is not None and \\\n"
          ],
          "name": "stderr"
        },
        {
          "output_type": "stream",
          "text": [
            "[02:10:04] WARNING: /workspace/src/objective/regression_obj.cu:152: reg:linear is now deprecated in favor of reg:squarederror.\n"
          ],
          "name": "stdout"
        },
        {
          "output_type": "execute_result",
          "data": {
            "text/plain": [
              "XGBRegressor(base_score=0.5, booster='gbtree', colsample_bylevel=1,\n",
              "             colsample_bynode=1, colsample_bytree=1, eval_metric='mae', gamma=0,\n",
              "             importance_type='gain', learning_rate=0.1, max_delta_step=0,\n",
              "             max_depth=10, min_child_weight=1, missing=None, n_estimators=10,\n",
              "             n_jobs=1, nthread=None, objective='reg:linear', random_state=1,\n",
              "             reg_alpha=0, reg_lambda=1, scale_pos_weight=1, seed=None,\n",
              "             silent=None, subsample=1, verbosity=1)"
            ]
          },
          "metadata": {
            "tags": []
          },
          "execution_count": 136
        }
      ]
    },
    {
      "cell_type": "markdown",
      "metadata": {
        "id": "A69oGJLvVSBT",
        "colab_type": "text"
      },
      "source": [
        "**Hyperparameter Tuning**"
      ]
    },
    {
      "cell_type": "code",
      "metadata": {
        "id": "3znoD36DVWnM",
        "colab_type": "code",
        "outputId": "dd9fd523-fec4-47b8-b85a-6198e6e978ca",
        "colab": {
          "base_uri": "https://localhost:8080/",
          "height": 1000
        }
      },
      "source": [
        "from sklearn.model_selection import GridSearchCV\n",
        "\n",
        "# parameters for GridSearchCV\n",
        "param_grid2 = {\"n_estimators\": [100, 18, 22],\n",
        "              \"max_depth\": [10, 15,100],\n",
        "              \"random_state\": [1],\n",
        "              \"eval_metric\": ['mae'],\n",
        "              \"learning_rate\": [0.1]}\n",
        "grid_search = GridSearchCV(XGregr, param_grid=param_grid2)\n",
        "grid_search.fit(X_train,Y_train)"
      ],
      "execution_count": 137,
      "outputs": [
        {
          "output_type": "stream",
          "text": [
            "/usr/local/lib/python3.6/dist-packages/sklearn/model_selection/_split.py:1978: FutureWarning: The default value of cv will change from 3 to 5 in version 0.22. Specify it explicitly to silence this warning.\n",
            "  warnings.warn(CV_WARNING, FutureWarning)\n",
            "/usr/local/lib/python3.6/dist-packages/xgboost/core.py:587: FutureWarning: Series.base is deprecated and will be removed in a future version\n",
            "  if getattr(data, 'base', None) is not None and \\\n"
          ],
          "name": "stderr"
        },
        {
          "output_type": "stream",
          "text": [
            "[02:10:13] WARNING: /workspace/src/objective/regression_obj.cu:152: reg:linear is now deprecated in favor of reg:squarederror.\n"
          ],
          "name": "stdout"
        },
        {
          "output_type": "stream",
          "text": [
            "/usr/local/lib/python3.6/dist-packages/xgboost/core.py:587: FutureWarning: Series.base is deprecated and will be removed in a future version\n",
            "  if getattr(data, 'base', None) is not None and \\\n"
          ],
          "name": "stderr"
        },
        {
          "output_type": "stream",
          "text": [
            "[02:11:04] WARNING: /workspace/src/objective/regression_obj.cu:152: reg:linear is now deprecated in favor of reg:squarederror.\n"
          ],
          "name": "stdout"
        },
        {
          "output_type": "stream",
          "text": [
            "/usr/local/lib/python3.6/dist-packages/xgboost/core.py:587: FutureWarning: Series.base is deprecated and will be removed in a future version\n",
            "  if getattr(data, 'base', None) is not None and \\\n"
          ],
          "name": "stderr"
        },
        {
          "output_type": "stream",
          "text": [
            "[02:11:55] WARNING: /workspace/src/objective/regression_obj.cu:152: reg:linear is now deprecated in favor of reg:squarederror.\n"
          ],
          "name": "stdout"
        },
        {
          "output_type": "stream",
          "text": [
            "/usr/local/lib/python3.6/dist-packages/xgboost/core.py:587: FutureWarning: Series.base is deprecated and will be removed in a future version\n",
            "  if getattr(data, 'base', None) is not None and \\\n"
          ],
          "name": "stderr"
        },
        {
          "output_type": "stream",
          "text": [
            "[02:12:45] WARNING: /workspace/src/objective/regression_obj.cu:152: reg:linear is now deprecated in favor of reg:squarederror.\n"
          ],
          "name": "stdout"
        },
        {
          "output_type": "stream",
          "text": [
            "/usr/local/lib/python3.6/dist-packages/xgboost/core.py:587: FutureWarning: Series.base is deprecated and will be removed in a future version\n",
            "  if getattr(data, 'base', None) is not None and \\\n"
          ],
          "name": "stderr"
        },
        {
          "output_type": "stream",
          "text": [
            "[02:12:55] WARNING: /workspace/src/objective/regression_obj.cu:152: reg:linear is now deprecated in favor of reg:squarederror.\n"
          ],
          "name": "stdout"
        },
        {
          "output_type": "stream",
          "text": [
            "/usr/local/lib/python3.6/dist-packages/xgboost/core.py:587: FutureWarning: Series.base is deprecated and will be removed in a future version\n",
            "  if getattr(data, 'base', None) is not None and \\\n"
          ],
          "name": "stderr"
        },
        {
          "output_type": "stream",
          "text": [
            "[02:13:05] WARNING: /workspace/src/objective/regression_obj.cu:152: reg:linear is now deprecated in favor of reg:squarederror.\n"
          ],
          "name": "stdout"
        },
        {
          "output_type": "stream",
          "text": [
            "/usr/local/lib/python3.6/dist-packages/xgboost/core.py:587: FutureWarning: Series.base is deprecated and will be removed in a future version\n",
            "  if getattr(data, 'base', None) is not None and \\\n"
          ],
          "name": "stderr"
        },
        {
          "output_type": "stream",
          "text": [
            "[02:13:15] WARNING: /workspace/src/objective/regression_obj.cu:152: reg:linear is now deprecated in favor of reg:squarederror.\n"
          ],
          "name": "stdout"
        },
        {
          "output_type": "stream",
          "text": [
            "/usr/local/lib/python3.6/dist-packages/xgboost/core.py:587: FutureWarning: Series.base is deprecated and will be removed in a future version\n",
            "  if getattr(data, 'base', None) is not None and \\\n"
          ],
          "name": "stderr"
        },
        {
          "output_type": "stream",
          "text": [
            "[02:13:26] WARNING: /workspace/src/objective/regression_obj.cu:152: reg:linear is now deprecated in favor of reg:squarederror.\n"
          ],
          "name": "stdout"
        },
        {
          "output_type": "stream",
          "text": [
            "/usr/local/lib/python3.6/dist-packages/xgboost/core.py:587: FutureWarning: Series.base is deprecated and will be removed in a future version\n",
            "  if getattr(data, 'base', None) is not None and \\\n"
          ],
          "name": "stderr"
        },
        {
          "output_type": "stream",
          "text": [
            "[02:13:38] WARNING: /workspace/src/objective/regression_obj.cu:152: reg:linear is now deprecated in favor of reg:squarederror.\n"
          ],
          "name": "stdout"
        },
        {
          "output_type": "stream",
          "text": [
            "/usr/local/lib/python3.6/dist-packages/xgboost/core.py:587: FutureWarning: Series.base is deprecated and will be removed in a future version\n",
            "  if getattr(data, 'base', None) is not None and \\\n"
          ],
          "name": "stderr"
        },
        {
          "output_type": "stream",
          "text": [
            "[02:13:50] WARNING: /workspace/src/objective/regression_obj.cu:152: reg:linear is now deprecated in favor of reg:squarederror.\n"
          ],
          "name": "stdout"
        },
        {
          "output_type": "stream",
          "text": [
            "/usr/local/lib/python3.6/dist-packages/xgboost/core.py:587: FutureWarning: Series.base is deprecated and will be removed in a future version\n",
            "  if getattr(data, 'base', None) is not None and \\\n"
          ],
          "name": "stderr"
        },
        {
          "output_type": "stream",
          "text": [
            "[02:15:23] WARNING: /workspace/src/objective/regression_obj.cu:152: reg:linear is now deprecated in favor of reg:squarederror.\n"
          ],
          "name": "stdout"
        },
        {
          "output_type": "stream",
          "text": [
            "/usr/local/lib/python3.6/dist-packages/xgboost/core.py:587: FutureWarning: Series.base is deprecated and will be removed in a future version\n",
            "  if getattr(data, 'base', None) is not None and \\\n"
          ],
          "name": "stderr"
        },
        {
          "output_type": "stream",
          "text": [
            "[02:16:57] WARNING: /workspace/src/objective/regression_obj.cu:152: reg:linear is now deprecated in favor of reg:squarederror.\n"
          ],
          "name": "stdout"
        },
        {
          "output_type": "stream",
          "text": [
            "/usr/local/lib/python3.6/dist-packages/xgboost/core.py:587: FutureWarning: Series.base is deprecated and will be removed in a future version\n",
            "  if getattr(data, 'base', None) is not None and \\\n"
          ],
          "name": "stderr"
        },
        {
          "output_type": "stream",
          "text": [
            "[02:18:28] WARNING: /workspace/src/objective/regression_obj.cu:152: reg:linear is now deprecated in favor of reg:squarederror.\n"
          ],
          "name": "stdout"
        },
        {
          "output_type": "stream",
          "text": [
            "/usr/local/lib/python3.6/dist-packages/xgboost/core.py:587: FutureWarning: Series.base is deprecated and will be removed in a future version\n",
            "  if getattr(data, 'base', None) is not None and \\\n"
          ],
          "name": "stderr"
        },
        {
          "output_type": "stream",
          "text": [
            "[02:18:45] WARNING: /workspace/src/objective/regression_obj.cu:152: reg:linear is now deprecated in favor of reg:squarederror.\n"
          ],
          "name": "stdout"
        },
        {
          "output_type": "stream",
          "text": [
            "/usr/local/lib/python3.6/dist-packages/xgboost/core.py:587: FutureWarning: Series.base is deprecated and will be removed in a future version\n",
            "  if getattr(data, 'base', None) is not None and \\\n"
          ],
          "name": "stderr"
        },
        {
          "output_type": "stream",
          "text": [
            "[02:19:02] WARNING: /workspace/src/objective/regression_obj.cu:152: reg:linear is now deprecated in favor of reg:squarederror.\n"
          ],
          "name": "stdout"
        },
        {
          "output_type": "stream",
          "text": [
            "/usr/local/lib/python3.6/dist-packages/xgboost/core.py:587: FutureWarning: Series.base is deprecated and will be removed in a future version\n",
            "  if getattr(data, 'base', None) is not None and \\\n"
          ],
          "name": "stderr"
        },
        {
          "output_type": "stream",
          "text": [
            "[02:19:19] WARNING: /workspace/src/objective/regression_obj.cu:152: reg:linear is now deprecated in favor of reg:squarederror.\n"
          ],
          "name": "stdout"
        },
        {
          "output_type": "stream",
          "text": [
            "/usr/local/lib/python3.6/dist-packages/xgboost/core.py:587: FutureWarning: Series.base is deprecated and will be removed in a future version\n",
            "  if getattr(data, 'base', None) is not None and \\\n"
          ],
          "name": "stderr"
        },
        {
          "output_type": "stream",
          "text": [
            "[02:19:40] WARNING: /workspace/src/objective/regression_obj.cu:152: reg:linear is now deprecated in favor of reg:squarederror.\n"
          ],
          "name": "stdout"
        },
        {
          "output_type": "stream",
          "text": [
            "/usr/local/lib/python3.6/dist-packages/xgboost/core.py:587: FutureWarning: Series.base is deprecated and will be removed in a future version\n",
            "  if getattr(data, 'base', None) is not None and \\\n"
          ],
          "name": "stderr"
        },
        {
          "output_type": "stream",
          "text": [
            "[02:20:00] WARNING: /workspace/src/objective/regression_obj.cu:152: reg:linear is now deprecated in favor of reg:squarederror.\n"
          ],
          "name": "stdout"
        },
        {
          "output_type": "stream",
          "text": [
            "/usr/local/lib/python3.6/dist-packages/xgboost/core.py:587: FutureWarning: Series.base is deprecated and will be removed in a future version\n",
            "  if getattr(data, 'base', None) is not None and \\\n"
          ],
          "name": "stderr"
        },
        {
          "output_type": "stream",
          "text": [
            "[02:20:21] WARNING: /workspace/src/objective/regression_obj.cu:152: reg:linear is now deprecated in favor of reg:squarederror.\n"
          ],
          "name": "stdout"
        },
        {
          "output_type": "stream",
          "text": [
            "/usr/local/lib/python3.6/dist-packages/xgboost/core.py:587: FutureWarning: Series.base is deprecated and will be removed in a future version\n",
            "  if getattr(data, 'base', None) is not None and \\\n"
          ],
          "name": "stderr"
        },
        {
          "output_type": "stream",
          "text": [
            "[02:26:51] WARNING: /workspace/src/objective/regression_obj.cu:152: reg:linear is now deprecated in favor of reg:squarederror.\n"
          ],
          "name": "stdout"
        },
        {
          "output_type": "stream",
          "text": [
            "/usr/local/lib/python3.6/dist-packages/xgboost/core.py:587: FutureWarning: Series.base is deprecated and will be removed in a future version\n",
            "  if getattr(data, 'base', None) is not None and \\\n"
          ],
          "name": "stderr"
        },
        {
          "output_type": "stream",
          "text": [
            "[02:33:08] WARNING: /workspace/src/objective/regression_obj.cu:152: reg:linear is now deprecated in favor of reg:squarederror.\n"
          ],
          "name": "stdout"
        },
        {
          "output_type": "stream",
          "text": [
            "/usr/local/lib/python3.6/dist-packages/xgboost/core.py:587: FutureWarning: Series.base is deprecated and will be removed in a future version\n",
            "  if getattr(data, 'base', None) is not None and \\\n"
          ],
          "name": "stderr"
        },
        {
          "output_type": "stream",
          "text": [
            "[02:39:31] WARNING: /workspace/src/objective/regression_obj.cu:152: reg:linear is now deprecated in favor of reg:squarederror.\n"
          ],
          "name": "stdout"
        },
        {
          "output_type": "stream",
          "text": [
            "/usr/local/lib/python3.6/dist-packages/xgboost/core.py:587: FutureWarning: Series.base is deprecated and will be removed in a future version\n",
            "  if getattr(data, 'base', None) is not None and \\\n"
          ],
          "name": "stderr"
        },
        {
          "output_type": "stream",
          "text": [
            "[02:40:10] WARNING: /workspace/src/objective/regression_obj.cu:152: reg:linear is now deprecated in favor of reg:squarederror.\n"
          ],
          "name": "stdout"
        },
        {
          "output_type": "stream",
          "text": [
            "/usr/local/lib/python3.6/dist-packages/xgboost/core.py:587: FutureWarning: Series.base is deprecated and will be removed in a future version\n",
            "  if getattr(data, 'base', None) is not None and \\\n"
          ],
          "name": "stderr"
        },
        {
          "output_type": "stream",
          "text": [
            "[02:40:46] WARNING: /workspace/src/objective/regression_obj.cu:152: reg:linear is now deprecated in favor of reg:squarederror.\n"
          ],
          "name": "stdout"
        },
        {
          "output_type": "stream",
          "text": [
            "/usr/local/lib/python3.6/dist-packages/xgboost/core.py:587: FutureWarning: Series.base is deprecated and will be removed in a future version\n",
            "  if getattr(data, 'base', None) is not None and \\\n"
          ],
          "name": "stderr"
        },
        {
          "output_type": "stream",
          "text": [
            "[02:41:23] WARNING: /workspace/src/objective/regression_obj.cu:152: reg:linear is now deprecated in favor of reg:squarederror.\n"
          ],
          "name": "stdout"
        },
        {
          "output_type": "stream",
          "text": [
            "/usr/local/lib/python3.6/dist-packages/xgboost/core.py:587: FutureWarning: Series.base is deprecated and will be removed in a future version\n",
            "  if getattr(data, 'base', None) is not None and \\\n"
          ],
          "name": "stderr"
        },
        {
          "output_type": "stream",
          "text": [
            "[02:42:13] WARNING: /workspace/src/objective/regression_obj.cu:152: reg:linear is now deprecated in favor of reg:squarederror.\n"
          ],
          "name": "stdout"
        },
        {
          "output_type": "stream",
          "text": [
            "/usr/local/lib/python3.6/dist-packages/xgboost/core.py:587: FutureWarning: Series.base is deprecated and will be removed in a future version\n",
            "  if getattr(data, 'base', None) is not None and \\\n"
          ],
          "name": "stderr"
        },
        {
          "output_type": "stream",
          "text": [
            "[02:42:59] WARNING: /workspace/src/objective/regression_obj.cu:152: reg:linear is now deprecated in favor of reg:squarederror.\n"
          ],
          "name": "stdout"
        },
        {
          "output_type": "stream",
          "text": [
            "/usr/local/lib/python3.6/dist-packages/xgboost/core.py:587: FutureWarning: Series.base is deprecated and will be removed in a future version\n",
            "  if getattr(data, 'base', None) is not None and \\\n"
          ],
          "name": "stderr"
        },
        {
          "output_type": "stream",
          "text": [
            "[02:43:45] WARNING: /workspace/src/objective/regression_obj.cu:152: reg:linear is now deprecated in favor of reg:squarederror.\n"
          ],
          "name": "stdout"
        },
        {
          "output_type": "execute_result",
          "data": {
            "text/plain": [
              "GridSearchCV(cv='warn', error_score='raise-deprecating',\n",
              "             estimator=XGBRegressor(base_score=0.5, booster='gbtree',\n",
              "                                    colsample_bylevel=1, colsample_bynode=1,\n",
              "                                    colsample_bytree=1, eval_metric='mae',\n",
              "                                    gamma=0, importance_type='gain',\n",
              "                                    learning_rate=0.1, max_delta_step=0,\n",
              "                                    max_depth=10, min_child_weight=1,\n",
              "                                    missing=None, n_estimators=10, n_jobs=1,\n",
              "                                    nthread=None, objective='reg:linear',\n",
              "                                    random_state=1, reg_alpha=0, reg_lambda=1,\n",
              "                                    scale_pos_weight=1, seed=None, silent=None,\n",
              "                                    subsample=1, verbosity=1),\n",
              "             iid='warn', n_jobs=None,\n",
              "             param_grid={'eval_metric': ['mae'], 'learning_rate': [0.1],\n",
              "                         'max_depth': [10, 15, 100],\n",
              "                         'n_estimators': [100, 18, 22], 'random_state': [1]},\n",
              "             pre_dispatch='2*n_jobs', refit=True, return_train_score=False,\n",
              "             scoring=None, verbose=0)"
            ]
          },
          "metadata": {
            "tags": []
          },
          "execution_count": 137
        }
      ]
    },
    {
      "cell_type": "code",
      "metadata": {
        "id": "_OKHdW_CVWxy",
        "colab_type": "code",
        "colab": {}
      },
      "source": [
        "grid_search=GridSearchCV(\n",
        "    XGBRegressor(),\n",
        "    param_grid2,#Dictionary\n",
        "    verbose=1,#Controls the verbosity\n",
        "    cv=3, #cross-validation generator\n",
        "    n_jobs=-1 #computer uses all of it’s processors to perform the model\n",
        ")"
      ],
      "execution_count": 0,
      "outputs": []
    },
    {
      "cell_type": "code",
      "metadata": {
        "id": "IszOAgEqWDi-",
        "colab_type": "code",
        "outputId": "be4d34b5-f426-4ff5-a141-000af6f9ead4",
        "colab": {
          "base_uri": "https://localhost:8080/",
          "height": 171
        }
      },
      "source": [
        "grid_results=grid_search.fit(X_train,Y_train)"
      ],
      "execution_count": 139,
      "outputs": [
        {
          "output_type": "stream",
          "text": [
            "Fitting 3 folds for each of 9 candidates, totalling 27 fits\n"
          ],
          "name": "stdout"
        },
        {
          "output_type": "stream",
          "text": [
            "[Parallel(n_jobs=-1)]: Using backend LokyBackend with 4 concurrent workers.\n",
            "/usr/local/lib/python3.6/dist-packages/joblib/externals/loky/process_executor.py:706: UserWarning: A worker stopped while some jobs were given to the executor. This can be caused by a too short worker timeout or by a memory leak.\n",
            "  \"timeout or by a memory leak.\", UserWarning\n",
            "[Parallel(n_jobs=-1)]: Done  27 out of  27 | elapsed: 13.4min finished\n",
            "/usr/local/lib/python3.6/dist-packages/xgboost/core.py:587: FutureWarning: Series.base is deprecated and will be removed in a future version\n",
            "  if getattr(data, 'base', None) is not None and \\\n"
          ],
          "name": "stderr"
        },
        {
          "output_type": "stream",
          "text": [
            "[02:59:30] WARNING: /workspace/src/objective/regression_obj.cu:152: reg:linear is now deprecated in favor of reg:squarederror.\n"
          ],
          "name": "stdout"
        }
      ]
    },
    {
      "cell_type": "code",
      "metadata": {
        "id": "XvZyBRkIWJ4o",
        "colab_type": "code",
        "outputId": "854a5b7d-0ada-4bea-f750-c3fb45d539eb",
        "colab": {
          "base_uri": "https://localhost:8080/",
          "height": 101
        }
      },
      "source": [
        "grid_results.best_params_"
      ],
      "execution_count": 140,
      "outputs": [
        {
          "output_type": "execute_result",
          "data": {
            "text/plain": [
              "{'eval_metric': 'mae',\n",
              " 'learning_rate': 0.1,\n",
              " 'max_depth': 15,\n",
              " 'n_estimators': 100,\n",
              " 'random_state': 1}"
            ]
          },
          "metadata": {
            "tags": []
          },
          "execution_count": 140
        }
      ]
    },
    {
      "cell_type": "code",
      "metadata": {
        "id": "SQMXrOmiWKC7",
        "colab_type": "code",
        "outputId": "f06b1196-bb2e-43ea-e4ed-10efa6f6a1e6",
        "colab": {
          "base_uri": "https://localhost:8080/",
          "height": 185
        }
      },
      "source": [
        "XGregr = XGBRegressor(max_depth=15, random_state=1, learning_rate=0.1,n_estimators=100,eval_metric='mae')\n",
        "XGregr.fit(X_train, Y_train)"
      ],
      "execution_count": 141,
      "outputs": [
        {
          "output_type": "stream",
          "text": [
            "/usr/local/lib/python3.6/dist-packages/xgboost/core.py:587: FutureWarning: Series.base is deprecated and will be removed in a future version\n",
            "  if getattr(data, 'base', None) is not None and \\\n"
          ],
          "name": "stderr"
        },
        {
          "output_type": "stream",
          "text": [
            "[03:01:50] WARNING: /workspace/src/objective/regression_obj.cu:152: reg:linear is now deprecated in favor of reg:squarederror.\n"
          ],
          "name": "stdout"
        },
        {
          "output_type": "execute_result",
          "data": {
            "text/plain": [
              "XGBRegressor(base_score=0.5, booster='gbtree', colsample_bylevel=1,\n",
              "             colsample_bynode=1, colsample_bytree=1, eval_metric='mae', gamma=0,\n",
              "             importance_type='gain', learning_rate=0.1, max_delta_step=0,\n",
              "             max_depth=15, min_child_weight=1, missing=None, n_estimators=100,\n",
              "             n_jobs=1, nthread=None, objective='reg:linear', random_state=1,\n",
              "             reg_alpha=0, reg_lambda=1, scale_pos_weight=1, seed=None,\n",
              "             silent=None, subsample=1, verbosity=1)"
            ]
          },
          "metadata": {
            "tags": []
          },
          "execution_count": 141
        }
      ]
    },
    {
      "cell_type": "code",
      "metadata": {
        "id": "cDmEP5BRGIBg",
        "colab_type": "code",
        "colab": {}
      },
      "source": [
        "y_pred_XG = XGregr.predict(X_valid)"
      ],
      "execution_count": 0,
      "outputs": []
    },
    {
      "cell_type": "code",
      "metadata": {
        "id": "52c9pJJXU_pH",
        "colab_type": "code",
        "outputId": "c20bb46a-3de5-49bd-caf2-ad7f13cc2415",
        "colab": {
          "base_uri": "https://localhost:8080/",
          "height": 34
        }
      },
      "source": [
        "'''Calculate WMAE for the validation dataset'''\n",
        "WMAE_valid_XG=weighted_mean_absolute_error(XGregr,X_valid,Y_valid,x_valid.IsHoliday_weight,sum_result_valid.IsHoliday_weight)\n",
        "WMAE_valid_XG"
      ],
      "execution_count": 143,
      "outputs": [
        {
          "output_type": "execute_result",
          "data": {
            "text/plain": [
              "('weighted_mean_absolute_error', [199.90734777600414])"
            ]
          },
          "metadata": {
            "tags": []
          },
          "execution_count": 143
        }
      ]
    },
    {
      "cell_type": "markdown",
      "metadata": {
        "id": "BrcCpCZzRI9r",
        "colab_type": "text"
      },
      "source": [
        "**Feature importance**"
      ]
    },
    {
      "cell_type": "code",
      "metadata": {
        "id": "MFPHsO93GISx",
        "colab_type": "code",
        "outputId": "9380af4d-badb-4e37-804e-9e200921940a",
        "colab": {
          "base_uri": "https://localhost:8080/",
          "height": 409
        }
      },
      "source": [
        "'''Calculate feature importance scores with XGBoost model'''\n",
        "\n",
        "feat_imps = pd.DataFrame(XGregr.feature_importances_, index = X_train.columns,\n",
        "                                    columns=['Importance score']).sort_values('Importance score',ascending=False)\n",
        "feat_imps = feat_imps.reset_index()\n",
        "feat_imps.columns = [\"Feature\",\"Importance Score\"]\n",
        "plt.figure(figsize = (8,6))\n",
        "sns.barplot(x = \"Importance Score\",y = \"Feature\",data = feat_imps,orient = \"h\")"
      ],
      "execution_count": 144,
      "outputs": [
        {
          "output_type": "execute_result",
          "data": {
            "text/plain": [
              "<matplotlib.axes._subplots.AxesSubplot at 0x7fcf7ab29390>"
            ]
          },
          "metadata": {
            "tags": []
          },
          "execution_count": 144
        },
        {
          "output_type": "display_data",
          "data": {
            "image/png": "[encoded data removed]",
            "text/plain": [
              "<Figure size 576x432 with 1 Axes>"
            ]
          },
          "metadata": {
            "tags": []
          }
        }
      ]
    },
    {
      "cell_type": "markdown",
      "metadata": {
        "id": "6XZKpea3GkGg",
        "colab_type": "text"
      },
      "source": [
        "**Validating on test data**"
      ]
    },
    {
      "cell_type": "code",
      "metadata": {
        "id": "mUWKnNdXGfkT",
        "colab_type": "code",
        "colab": {}
      },
      "source": [
        "ytest_pred_XG = XGregr.predict(X_test)"
      ],
      "execution_count": 0,
      "outputs": []
    },
    {
      "cell_type": "code",
      "metadata": {
        "id": "3bEPVKUVVQWz",
        "colab_type": "code",
        "outputId": "a10d8cb9-0386-4ba7-cd5b-1af14b777f28",
        "colab": {
          "base_uri": "https://localhost:8080/",
          "height": 34
        }
      },
      "source": [
        "'''Calculate WMAE for the test dataset'''\n",
        "WMAE_test_XG=weighted_mean_absolute_error(XGregr,X_test,Y_test,x_test.IsHoliday_weight,sum_result_test.IsHoliday_weight)\n",
        "WMAE_test_XG"
      ],
      "execution_count": 146,
      "outputs": [
        {
          "output_type": "execute_result",
          "data": {
            "text/plain": [
              "('weighted_mean_absolute_error', [2269.9463770141438])"
            ]
          },
          "metadata": {
            "tags": []
          },
          "execution_count": 146
        }
      ]
    },
    {
      "cell_type": "code",
      "metadata": {
        "id": "7zBJ_b5xVzKF",
        "colab_type": "code",
        "colab": {}
      },
      "source": [
        "w_test_XG=string_process(WMAE_test_XG[1])"
      ],
      "execution_count": 0,
      "outputs": []
    },
    {
      "cell_type": "code",
      "metadata": {
        "id": "UgsIudTEVzTo",
        "colab_type": "code",
        "colab": {}
      },
      "source": [
        "w_valid_XG=string_process(WMAE_valid_XG[1])"
      ],
      "execution_count": 0,
      "outputs": []
    },
    {
      "cell_type": "code",
      "metadata": {
        "id": "328PucOyVze1",
        "colab_type": "code",
        "colab": {}
      },
      "source": [
        "wmae_test_XG = string_to_float(w_test_XG)"
      ],
      "execution_count": 0,
      "outputs": []
    },
    {
      "cell_type": "code",
      "metadata": {
        "id": "_3fytCWzVzpg",
        "colab_type": "code",
        "colab": {}
      },
      "source": [
        "wmae_valid_XG = string_to_float(w_valid_XG)"
      ],
      "execution_count": 0,
      "outputs": []
    },
    {
      "cell_type": "code",
      "metadata": {
        "id": "9ycPPw49Gtso",
        "colab_type": "code",
        "colab": {}
      },
      "source": [
        "model=\"XGBRegressor\"\n",
        "model_list_wmae.append(model)\n",
        "wmae_list.append(wmae_test_XG[0])"
      ],
      "execution_count": 0,
      "outputs": []
    },
    {
      "cell_type": "code",
      "metadata": {
        "id": "xgge7MEDGtwY",
        "colab_type": "code",
        "outputId": "1ea564dd-321f-43d2-f2d9-cce4482df37b",
        "colab": {
          "base_uri": "https://localhost:8080/",
          "height": 514
        }
      },
      "source": [
        "'''Visualizing validation and test weighted mean absolute error '''\n",
        "\n",
        "plt.figure(figsize = (4,5))\n",
        "plt.xticks(rotation=45)\n",
        "plt.title('Error Vs Validation_Test data')\n",
        "plt.ylabel('Error')\n",
        "plt.xlabel('Validation_Test data')\n",
        "x_number_list = [ \"Validation_weighted_mean_absolute_error\", \"Test_weighted_mean_absolute error\"  ]\n",
        "y_number_list = [wmae_valid_XG[0], wmae_test_XG[0]]\n",
        "sns.barplot(x = x_number_list,y = y_number_list)"
      ],
      "execution_count": 152,
      "outputs": [
        {
          "output_type": "execute_result",
          "data": {
            "text/plain": [
              "<matplotlib.axes._subplots.AxesSubplot at 0x7fcf82fd5a20>"
            ]
          },
          "metadata": {
            "tags": []
          },
          "execution_count": 152
        },
        {
          "output_type": "display_data",
          "data": {
            "image/png": "[encoded data removed]",
            "text/plain": [
              "<Figure size 288x360 with 1 Axes>"
            ]
          },
          "metadata": {
            "tags": []
          }
        }
      ]
    },
    {
      "cell_type": "markdown",
      "metadata": {
        "id": "ZMJgsAQKG1g-",
        "colab_type": "text"
      },
      "source": [
        "# **Build and Train a Random Forest model**"
      ]
    },
    {
      "cell_type": "code",
      "metadata": {
        "id": "3xgPlUi5Gtpr",
        "colab_type": "code",
        "outputId": "dadd26c5-07ec-48a6-ea04-7f4f1186cfd5",
        "colab": {
          "base_uri": "https://localhost:8080/",
          "height": 134
        }
      },
      "source": [
        "# create a regressor object \n",
        "RFregr = RandomForestRegressor(max_depth=10, random_state=0, n_estimators=10)\n",
        "RFregr.fit(X_train, Y_train)"
      ],
      "execution_count": 153,
      "outputs": [
        {
          "output_type": "execute_result",
          "data": {
            "text/plain": [
              "RandomForestRegressor(bootstrap=True, criterion='mse', max_depth=10,\n",
              "                      max_features='auto', max_leaf_nodes=None,\n",
              "                      min_impurity_decrease=0.0, min_impurity_split=None,\n",
              "                      min_samples_leaf=1, min_samples_split=2,\n",
              "                      min_weight_fraction_leaf=0.0, n_estimators=10,\n",
              "                      n_jobs=None, oob_score=False, random_state=0, verbose=0,\n",
              "                      warm_start=False)"
            ]
          },
          "metadata": {
            "tags": []
          },
          "execution_count": 153
        }
      ]
    },
    {
      "cell_type": "markdown",
      "metadata": {
        "id": "oFwF_MJ2p5o2",
        "colab_type": "text"
      },
      "source": [
        "**Hyperparameter Tuning**"
      ]
    },
    {
      "cell_type": "code",
      "metadata": {
        "id": "OX88NaOlpJRs",
        "colab_type": "code",
        "outputId": "cf962129-2155-4df0-da60-d06c901a6edd",
        "colab": {
          "base_uri": "https://localhost:8080/",
          "height": 356
        }
      },
      "source": [
        "from sklearn.model_selection import GridSearchCV\n",
        "\n",
        "# parameters for GridSearchCV\n",
        "param_grid2 = {\"n_estimators\": [100, 18, 22],\n",
        "              \"max_depth\": [10, 15,100],\n",
        "              \"random_state\": [0]\n",
        "             }\n",
        "grid_search = GridSearchCV(RFregr, param_grid=param_grid2)\n",
        "grid_search.fit(X_train,Y_train)"
      ],
      "execution_count": 154,
      "outputs": [
        {
          "output_type": "stream",
          "text": [
            "/usr/local/lib/python3.6/dist-packages/sklearn/model_selection/_split.py:1978: FutureWarning: The default value of cv will change from 3 to 5 in version 0.22. Specify it explicitly to silence this warning.\n",
            "  warnings.warn(CV_WARNING, FutureWarning)\n"
          ],
          "name": "stderr"
        },
        {
          "output_type": "execute_result",
          "data": {
            "text/plain": [
              "GridSearchCV(cv='warn', error_score='raise-deprecating',\n",
              "             estimator=RandomForestRegressor(bootstrap=True, criterion='mse',\n",
              "                                             max_depth=10, max_features='auto',\n",
              "                                             max_leaf_nodes=None,\n",
              "                                             min_impurity_decrease=0.0,\n",
              "                                             min_impurity_split=None,\n",
              "                                             min_samples_leaf=1,\n",
              "                                             min_samples_split=2,\n",
              "                                             min_weight_fraction_leaf=0.0,\n",
              "                                             n_estimators=10, n_jobs=None,\n",
              "                                             oob_score=False, random_state=0,\n",
              "                                             verbose=0, warm_start=False),\n",
              "             iid='warn', n_jobs=None,\n",
              "             param_grid={'max_depth': [10, 15, 100],\n",
              "                         'n_estimators': [100, 18, 22], 'random_state': [0]},\n",
              "             pre_dispatch='2*n_jobs', refit=True, return_train_score=False,\n",
              "             scoring=None, verbose=0)"
            ]
          },
          "metadata": {
            "tags": []
          },
          "execution_count": 154
        }
      ]
    },
    {
      "cell_type": "code",
      "metadata": {
        "id": "spc4ujPCpJei",
        "colab_type": "code",
        "colab": {}
      },
      "source": [
        "grid_search=GridSearchCV(\n",
        "    RandomForestRegressor(),\n",
        "    param_grid2,#Dictionary\n",
        "    verbose=1,#Controls the verbosity\n",
        "    cv=3, #cross-validation generator\n",
        "    n_jobs=-1 #computer uses all of it’s processors to perform the model\n",
        ")"
      ],
      "execution_count": 0,
      "outputs": []
    },
    {
      "cell_type": "code",
      "metadata": {
        "id": "iIqx7G3SpJlm",
        "colab_type": "code",
        "outputId": "6ef079fd-dcbe-4b19-d459-102d746871d8",
        "colab": {
          "base_uri": "https://localhost:8080/",
          "height": 121
        }
      },
      "source": [
        "grid_results=grid_search.fit(X_train,Y_train)"
      ],
      "execution_count": 156,
      "outputs": [
        {
          "output_type": "stream",
          "text": [
            "Fitting 3 folds for each of 9 candidates, totalling 27 fits\n"
          ],
          "name": "stdout"
        },
        {
          "output_type": "stream",
          "text": [
            "[Parallel(n_jobs=-1)]: Using backend LokyBackend with 4 concurrent workers.\n",
            "/usr/local/lib/python3.6/dist-packages/joblib/externals/loky/process_executor.py:706: UserWarning: A worker stopped while some jobs were given to the executor. This can be caused by a too short worker timeout or by a memory leak.\n",
            "  \"timeout or by a memory leak.\", UserWarning\n",
            "[Parallel(n_jobs=-1)]: Done  27 out of  27 | elapsed: 10.0min finished\n"
          ],
          "name": "stderr"
        }
      ]
    },
    {
      "cell_type": "code",
      "metadata": {
        "id": "MgOHz515pJia",
        "colab_type": "code",
        "outputId": "e8c2f5b5-a00f-477f-fca4-416210b788a2",
        "colab": {
          "base_uri": "https://localhost:8080/",
          "height": 34
        }
      },
      "source": [
        "grid_results.best_params_"
      ],
      "execution_count": 157,
      "outputs": [
        {
          "output_type": "execute_result",
          "data": {
            "text/plain": [
              "{'max_depth': 100, 'n_estimators': 100, 'random_state': 0}"
            ]
          },
          "metadata": {
            "tags": []
          },
          "execution_count": 157
        }
      ]
    },
    {
      "cell_type": "code",
      "metadata": {
        "id": "-N7o7siapsZG",
        "colab_type": "code",
        "outputId": "5f301aba-6433-4ebd-b4ff-0aa7a1bf3f4d",
        "colab": {
          "base_uri": "https://localhost:8080/",
          "height": 134
        }
      },
      "source": [
        "RFregr = RandomForestRegressor(max_depth=100, random_state=0, n_estimators=100)\n",
        "RFregr.fit(X_train, Y_train)"
      ],
      "execution_count": 158,
      "outputs": [
        {
          "output_type": "execute_result",
          "data": {
            "text/plain": [
              "RandomForestRegressor(bootstrap=True, criterion='mse', max_depth=100,\n",
              "                      max_features='auto', max_leaf_nodes=None,\n",
              "                      min_impurity_decrease=0.0, min_impurity_split=None,\n",
              "                      min_samples_leaf=1, min_samples_split=2,\n",
              "                      min_weight_fraction_leaf=0.0, n_estimators=100,\n",
              "                      n_jobs=None, oob_score=False, random_state=0, verbose=0,\n",
              "                      warm_start=False)"
            ]
          },
          "metadata": {
            "tags": []
          },
          "execution_count": 158
        }
      ]
    },
    {
      "cell_type": "code",
      "metadata": {
        "id": "1Qkx8SkjpslJ",
        "colab_type": "code",
        "colab": {}
      },
      "source": [
        ""
      ],
      "execution_count": 0,
      "outputs": []
    },
    {
      "cell_type": "code",
      "metadata": {
        "id": "yS1WDMxIGtnN",
        "colab_type": "code",
        "colab": {}
      },
      "source": [
        "y_pred_RF = RFregr.predict(X_valid)"
      ],
      "execution_count": 0,
      "outputs": []
    },
    {
      "cell_type": "code",
      "metadata": {
        "id": "EDoWp2g_cPl1",
        "colab_type": "code",
        "outputId": "b4551e89-14d8-4c7a-99c1-e1618662e082",
        "colab": {
          "base_uri": "https://localhost:8080/",
          "height": 34
        }
      },
      "source": [
        "'''Calculate WMAE for the validation dataset'''\n",
        "WMAE_valid_RF=weighted_mean_absolute_error(RFregr,X_valid,Y_valid,x_valid.IsHoliday_weight,sum_result_valid.IsHoliday_weight)\n",
        "WMAE_valid_RF"
      ],
      "execution_count": 160,
      "outputs": [
        {
          "output_type": "execute_result",
          "data": {
            "text/plain": [
              "('weighted_mean_absolute_error', [231.96413903116277])"
            ]
          },
          "metadata": {
            "tags": []
          },
          "execution_count": 160
        }
      ]
    },
    {
      "cell_type": "markdown",
      "metadata": {
        "id": "PAbmbJ2iRR0J",
        "colab_type": "text"
      },
      "source": [
        "**Feature importance**"
      ]
    },
    {
      "cell_type": "code",
      "metadata": {
        "id": "JRyD-w3FG_le",
        "colab_type": "code",
        "outputId": "a263ff02-05ce-47b6-c971-57f7641554f1",
        "colab": {
          "base_uri": "https://localhost:8080/",
          "height": 409
        }
      },
      "source": [
        "'''Calculate feature importance scores with Random Forest model'''\n",
        "\n",
        "feat_imps = pd.DataFrame(RFregr.feature_importances_, index = X_train.columns,\n",
        "                                    columns=['Importance score']).sort_values('Importance score',ascending=False)\n",
        "feat_imps = feat_imps.reset_index()\n",
        "feat_imps.columns = [\"Feature\",\"Importance Score\"]\n",
        "plt.figure(figsize = (8,6))\n",
        "sns.barplot(x = \"Importance Score\",y = \"Feature\",data = feat_imps,orient = \"h\")"
      ],
      "execution_count": 161,
      "outputs": [
        {
          "output_type": "execute_result",
          "data": {
            "text/plain": [
              "<matplotlib.axes._subplots.AxesSubplot at 0x7fcf830e32e8>"
            ]
          },
          "metadata": {
            "tags": []
          },
          "execution_count": 161
        },
        {
          "output_type": "display_data",
          "data": {
            "image/png": "[encoded data removed]",
            "text/plain": [
              "<Figure size 576x432 with 1 Axes>"
            ]
          },
          "metadata": {
            "tags": []
          }
        }
      ]
    },
    {
      "cell_type": "markdown",
      "metadata": {
        "id": "eiZSY2reHHtz",
        "colab_type": "text"
      },
      "source": [
        "**Validating on test data**"
      ]
    },
    {
      "cell_type": "code",
      "metadata": {
        "id": "ICqe542TG_ig",
        "colab_type": "code",
        "colab": {}
      },
      "source": [
        "ytest_pred_RF = RFregr.predict(X_test)"
      ],
      "execution_count": 0,
      "outputs": []
    },
    {
      "cell_type": "code",
      "metadata": {
        "id": "rxoeae-lcbR3",
        "colab_type": "code",
        "outputId": "4cceaf57-839c-4f7f-d3b5-6e35b646b71e",
        "colab": {
          "base_uri": "https://localhost:8080/",
          "height": 34
        }
      },
      "source": [
        "'''Calculate WMAE for the test dataset'''\n",
        "WMAE_test_RF=weighted_mean_absolute_error(RFregr,X_test,Y_test,x_test.IsHoliday_weight,sum_result_test.IsHoliday_weight)\n",
        "WMAE_test_RF"
      ],
      "execution_count": 163,
      "outputs": [
        {
          "output_type": "execute_result",
          "data": {
            "text/plain": [
              "('weighted_mean_absolute_error', [2315.8970354624253])"
            ]
          },
          "metadata": {
            "tags": []
          },
          "execution_count": 163
        }
      ]
    },
    {
      "cell_type": "code",
      "metadata": {
        "id": "goHYnwxxcbck",
        "colab_type": "code",
        "colab": {}
      },
      "source": [
        "w_test_RF=string_process(WMAE_test_RF[1])"
      ],
      "execution_count": 0,
      "outputs": []
    },
    {
      "cell_type": "code",
      "metadata": {
        "id": "GOlnrI7dcbmf",
        "colab_type": "code",
        "colab": {}
      },
      "source": [
        "w_valid_RF=string_process(WMAE_valid_RF[1])"
      ],
      "execution_count": 0,
      "outputs": []
    },
    {
      "cell_type": "code",
      "metadata": {
        "id": "x5abUl9Icbwj",
        "colab_type": "code",
        "colab": {}
      },
      "source": [
        "wmae_test_RF = string_to_float(w_test_RF)"
      ],
      "execution_count": 0,
      "outputs": []
    },
    {
      "cell_type": "code",
      "metadata": {
        "id": "Rf6UATHZcb8-",
        "colab_type": "code",
        "colab": {}
      },
      "source": [
        "wmae_valid_RF = string_to_float(w_valid_RF)"
      ],
      "execution_count": 0,
      "outputs": []
    },
    {
      "cell_type": "code",
      "metadata": {
        "id": "0f_w9WeeHOM9",
        "colab_type": "code",
        "colab": {}
      },
      "source": [
        "model=\"RandomForestRegressor\"\n",
        "model_list_wmae.append(model)\n",
        "wmae_list.append(wmae_test_RF[0])"
      ],
      "execution_count": 0,
      "outputs": []
    },
    {
      "cell_type": "code",
      "metadata": {
        "id": "4w07tNyvHOQx",
        "colab_type": "code",
        "outputId": "017f9cfc-5ab0-479f-bb6c-7533b77cd840",
        "colab": {
          "base_uri": "https://localhost:8080/",
          "height": 514
        }
      },
      "source": [
        "'''Visualizing validation and test weighted mean absolute error '''\n",
        "\n",
        "plt.figure(figsize = (4,5))\n",
        "plt.xticks(rotation=45)\n",
        "plt.title('Error Vs Validation_Test data')\n",
        "plt.ylabel('Error')\n",
        "plt.xlabel('Validation_Test data')\n",
        "x_number_list = [\"Validation_weighted_mean_absolute_error\", \"Test_weighted_mean_absolute error\"  ]\n",
        "y_number_list = [wmae_valid_RF[0], wmae_test_RF[0]]\n",
        "sns.barplot(x = x_number_list,y = y_number_list)"
      ],
      "execution_count": 169,
      "outputs": [
        {
          "output_type": "execute_result",
          "data": {
            "text/plain": [
              "<matplotlib.axes._subplots.AxesSubplot at 0x7fcf7a99ffd0>"
            ]
          },
          "metadata": {
            "tags": []
          },
          "execution_count": 169
        },
        {
          "output_type": "display_data",
          "data": {
            "image/png": "[encoded data removed]",
            "text/plain": [
              "<Figure size 288x360 with 1 Axes>"
            ]
          },
          "metadata": {
            "tags": []
          }
        }
      ]
    },
    {
      "cell_type": "markdown",
      "metadata": {
        "id": "d7BI4yW9HbQ0",
        "colab_type": "text"
      },
      "source": [
        "# **Build and Train a Multivariate Regression model**"
      ]
    },
    {
      "cell_type": "code",
      "metadata": {
        "id": "UIG4WJ29HXwn",
        "colab_type": "code",
        "outputId": "9c2c395f-b3d7-40ab-dd9e-ff6541f1d9a7",
        "colab": {
          "base_uri": "https://localhost:8080/",
          "height": 34
        }
      },
      "source": [
        "# There no difference even if the data is normalized or not\n",
        "from sklearn.linear_model import LinearRegression\n",
        "Lregr = LinearRegression(n_jobs=-1,normalize=True)\n",
        "Lregr.fit(X_train, Y_train)"
      ],
      "execution_count": 170,
      "outputs": [
        {
          "output_type": "execute_result",
          "data": {
            "text/plain": [
              "LinearRegression(copy_X=True, fit_intercept=True, n_jobs=-1, normalize=True)"
            ]
          },
          "metadata": {
            "tags": []
          },
          "execution_count": 170
        }
      ]
    },
    {
      "cell_type": "code",
      "metadata": {
        "id": "C3-06GuaHX0W",
        "colab_type": "code",
        "colab": {}
      },
      "source": [
        "y_pred_L = Lregr.predict(X_valid)"
      ],
      "execution_count": 0,
      "outputs": []
    },
    {
      "cell_type": "code",
      "metadata": {
        "id": "xmyZtfW-2p5x",
        "colab_type": "code",
        "outputId": "f41b0897-9853-48a3-e1e3-82fab40a3e40",
        "colab": {
          "base_uri": "https://localhost:8080/",
          "height": 34
        }
      },
      "source": [
        "'''Calculate WMAE for the validation dataset'''\n",
        "WMAE_valid_L=weighted_mean_absolute_error(Lregr,X_valid,Y_valid,x_valid.IsHoliday_weight,sum_result_valid.IsHoliday_weight)\n",
        "WMAE_valid_L"
      ],
      "execution_count": 172,
      "outputs": [
        {
          "output_type": "execute_result",
          "data": {
            "text/plain": [
              "('weighted_mean_absolute_error', [1659.4107795562024])"
            ]
          },
          "metadata": {
            "tags": []
          },
          "execution_count": 172
        }
      ]
    },
    {
      "cell_type": "markdown",
      "metadata": {
        "id": "zDnBKQkNNCtO",
        "colab_type": "text"
      },
      "source": [
        "**Validating on test data**"
      ]
    },
    {
      "cell_type": "code",
      "metadata": {
        "id": "P10atKe2M_BX",
        "colab_type": "code",
        "colab": {}
      },
      "source": [
        "ytest_pred_L = Lregr.predict(X_test)"
      ],
      "execution_count": 0,
      "outputs": []
    },
    {
      "cell_type": "code",
      "metadata": {
        "id": "BOzqiYEz4KnB",
        "colab_type": "code",
        "outputId": "53a8d890-09ff-495f-c6b3-fd6572f757de",
        "colab": {
          "base_uri": "https://localhost:8080/",
          "height": 34
        }
      },
      "source": [
        "'''Calculate WMAE for the test dataset'''\n",
        "WMAE_test_L=weighted_mean_absolute_error(Lregr,X_test,Y_test,x_test.IsHoliday_weight,sum_result_test.IsHoliday_weight)\n",
        "WMAE_test_L"
      ],
      "execution_count": 174,
      "outputs": [
        {
          "output_type": "execute_result",
          "data": {
            "text/plain": [
              "('weighted_mean_absolute_error', [14117.052115287535])"
            ]
          },
          "metadata": {
            "tags": []
          },
          "execution_count": 174
        }
      ]
    },
    {
      "cell_type": "code",
      "metadata": {
        "id": "chvqU2rb49ud",
        "colab_type": "code",
        "colab": {}
      },
      "source": [
        "w_test_L=string_process(WMAE_test_L[1])"
      ],
      "execution_count": 0,
      "outputs": []
    },
    {
      "cell_type": "code",
      "metadata": {
        "id": "fyT-WMc-495j",
        "colab_type": "code",
        "colab": {}
      },
      "source": [
        "w_valid_L=string_process(WMAE_valid_L[1])"
      ],
      "execution_count": 0,
      "outputs": []
    },
    {
      "cell_type": "code",
      "metadata": {
        "id": "KRxI3The499I",
        "colab_type": "code",
        "colab": {}
      },
      "source": [
        "wmae_test_L = string_to_float(w_test_L)"
      ],
      "execution_count": 0,
      "outputs": []
    },
    {
      "cell_type": "code",
      "metadata": {
        "id": "k8DlNZ9q4_JZ",
        "colab_type": "code",
        "colab": {}
      },
      "source": [
        "wmae_valid_L = string_to_float(w_valid_L)"
      ],
      "execution_count": 0,
      "outputs": []
    },
    {
      "cell_type": "code",
      "metadata": {
        "id": "M_7stVaeM-8y",
        "colab_type": "code",
        "colab": {}
      },
      "source": [
        "model=\"LinearRegression\"\n",
        "model_list_wmae.append(model)\n",
        "wmae_list.append(wmae_test_L[0])"
      ],
      "execution_count": 0,
      "outputs": []
    },
    {
      "cell_type": "code",
      "metadata": {
        "id": "U06rve2yM-3P",
        "colab_type": "code",
        "outputId": "c55a2f3d-a522-45c5-91c5-dc1b4110ed42",
        "colab": {
          "base_uri": "https://localhost:8080/",
          "height": 514
        }
      },
      "source": [
        "'''Visualizing validation and test weighted mean absolute error '''\n",
        "\n",
        "plt.figure(figsize = (4,5))\n",
        "plt.xticks(rotation=45)\n",
        "plt.title('Error Vs Validation_Test data')\n",
        "plt.ylabel('Error')\n",
        "plt.xlabel('Validation_Test data')\n",
        "x_number_list = [\"Validation_weighted_mean_absolute_error\", \"Test_weighted_mean_absolute error\"]\n",
        "y_number_list = [wmae_valid_L[0], wmae_test_L[0]]\n",
        "sns.barplot(x = x_number_list,y = y_number_list)\n",
        " \n"
      ],
      "execution_count": 180,
      "outputs": [
        {
          "output_type": "execute_result",
          "data": {
            "text/plain": [
              "<matplotlib.axes._subplots.AxesSubplot at 0x7fcf82f6f438>"
            ]
          },
          "metadata": {
            "tags": []
          },
          "execution_count": 180
        },
        {
          "output_type": "display_data",
          "data": {
            "image/png": "[encoded data removed]",
            "text/plain": [
              "<Figure size 288x360 with 1 Axes>"
            ]
          },
          "metadata": {
            "tags": []
          }
        }
      ]
    },
    {
      "cell_type": "markdown",
      "metadata": {
        "id": "V04tWkpFNVym",
        "colab_type": "text"
      },
      "source": [
        "# **Build and Train a ExtraTree Regression model**"
      ]
    },
    {
      "cell_type": "code",
      "metadata": {
        "id": "zTDIB4IOM-1C",
        "colab_type": "code",
        "outputId": "1565e38d-49ea-49a9-e7d9-442b02b81f24",
        "colab": {
          "base_uri": "https://localhost:8080/",
          "height": 134
        }
      },
      "source": [
        "from sklearn.ensemble import ExtraTreesRegressor\n",
        "# create a regressor object \n",
        "ETregr = ExtraTreesRegressor(max_depth=10, random_state=1, n_estimators=100)\n",
        "ETregr.fit(X_train, Y_train)"
      ],
      "execution_count": 181,
      "outputs": [
        {
          "output_type": "execute_result",
          "data": {
            "text/plain": [
              "ExtraTreesRegressor(bootstrap=False, criterion='mse', max_depth=10,\n",
              "                    max_features='auto', max_leaf_nodes=None,\n",
              "                    min_impurity_decrease=0.0, min_impurity_split=None,\n",
              "                    min_samples_leaf=1, min_samples_split=2,\n",
              "                    min_weight_fraction_leaf=0.0, n_estimators=100, n_jobs=None,\n",
              "                    oob_score=False, random_state=1, verbose=0,\n",
              "                    warm_start=False)"
            ]
          },
          "metadata": {
            "tags": []
          },
          "execution_count": 181
        }
      ]
    },
    {
      "cell_type": "markdown",
      "metadata": {
        "id": "2ewC3ywpPwID",
        "colab_type": "text"
      },
      "source": [
        "**Hyperparameter Tuning**"
      ]
    },
    {
      "cell_type": "code",
      "metadata": {
        "id": "lyBWZnBDPz8Q",
        "colab_type": "code",
        "outputId": "d6fa7d21-9140-41a2-e327-71892f37cd05",
        "colab": {
          "base_uri": "https://localhost:8080/",
          "height": 356
        }
      },
      "source": [
        "from sklearn.model_selection import GridSearchCV\n",
        "\n",
        "# parameters for GridSearchCV\n",
        "param_grid2 = {\"n_estimators\": [100, 18, 22],\n",
        "              \"max_depth\": [10, 15,100],\n",
        "              \"random_state\": [1]\n",
        "             }\n",
        "grid_search = GridSearchCV(ETregr, param_grid=param_grid2)\n",
        "grid_search.fit(X_train,Y_train)"
      ],
      "execution_count": 182,
      "outputs": [
        {
          "output_type": "stream",
          "text": [
            "/usr/local/lib/python3.6/dist-packages/sklearn/model_selection/_split.py:1978: FutureWarning: The default value of cv will change from 3 to 5 in version 0.22. Specify it explicitly to silence this warning.\n",
            "  warnings.warn(CV_WARNING, FutureWarning)\n"
          ],
          "name": "stderr"
        },
        {
          "output_type": "execute_result",
          "data": {
            "text/plain": [
              "GridSearchCV(cv='warn', error_score='raise-deprecating',\n",
              "             estimator=ExtraTreesRegressor(bootstrap=False, criterion='mse',\n",
              "                                           max_depth=10, max_features='auto',\n",
              "                                           max_leaf_nodes=None,\n",
              "                                           min_impurity_decrease=0.0,\n",
              "                                           min_impurity_split=None,\n",
              "                                           min_samples_leaf=1,\n",
              "                                           min_samples_split=2,\n",
              "                                           min_weight_fraction_leaf=0.0,\n",
              "                                           n_estimators=100, n_jobs=None,\n",
              "                                           oob_score=False, random_state=1,\n",
              "                                           verbose=0, warm_start=False),\n",
              "             iid='warn', n_jobs=None,\n",
              "             param_grid={'max_depth': [10, 15, 100],\n",
              "                         'n_estimators': [100, 18, 22], 'random_state': [1]},\n",
              "             pre_dispatch='2*n_jobs', refit=True, return_train_score=False,\n",
              "             scoring=None, verbose=0)"
            ]
          },
          "metadata": {
            "tags": []
          },
          "execution_count": 182
        }
      ]
    },
    {
      "cell_type": "code",
      "metadata": {
        "id": "gKhXl3VBP0NZ",
        "colab_type": "code",
        "colab": {}
      },
      "source": [
        "grid_search=GridSearchCV(\n",
        "    ExtraTreesRegressor(),\n",
        "    param_grid2,#Dictionary\n",
        "    verbose=1,#Controls the verbosity\n",
        "    cv=3, #cross-validation generator\n",
        "    n_jobs=-1 #computer uses all of it’s processors to perform the model\n",
        ")"
      ],
      "execution_count": 0,
      "outputs": []
    },
    {
      "cell_type": "code",
      "metadata": {
        "id": "POaoyG8jPz43",
        "colab_type": "code",
        "outputId": "f20c75dd-83be-4b78-83f7-9da8e656058b",
        "colab": {
          "base_uri": "https://localhost:8080/",
          "height": 121
        }
      },
      "source": [
        "grid_results=grid_search.fit(X_train,Y_train)"
      ],
      "execution_count": 184,
      "outputs": [
        {
          "output_type": "stream",
          "text": [
            "Fitting 3 folds for each of 9 candidates, totalling 27 fits\n"
          ],
          "name": "stdout"
        },
        {
          "output_type": "stream",
          "text": [
            "[Parallel(n_jobs=-1)]: Using backend LokyBackend with 4 concurrent workers.\n",
            "/usr/local/lib/python3.6/dist-packages/joblib/externals/loky/process_executor.py:706: UserWarning: A worker stopped while some jobs were given to the executor. This can be caused by a too short worker timeout or by a memory leak.\n",
            "  \"timeout or by a memory leak.\", UserWarning\n",
            "[Parallel(n_jobs=-1)]: Done  27 out of  27 | elapsed:  6.2min finished\n"
          ],
          "name": "stderr"
        }
      ]
    },
    {
      "cell_type": "code",
      "metadata": {
        "id": "9ibB5N9CQbGH",
        "colab_type": "code",
        "outputId": "183d668d-8f16-45da-aee1-48b97838ac45",
        "colab": {
          "base_uri": "https://localhost:8080/",
          "height": 34
        }
      },
      "source": [
        "grid_results.best_params_"
      ],
      "execution_count": 185,
      "outputs": [
        {
          "output_type": "execute_result",
          "data": {
            "text/plain": [
              "{'max_depth': 100, 'n_estimators': 100, 'random_state': 1}"
            ]
          },
          "metadata": {
            "tags": []
          },
          "execution_count": 185
        }
      ]
    },
    {
      "cell_type": "code",
      "metadata": {
        "id": "mXkwFc52QbWZ",
        "colab_type": "code",
        "outputId": "a2ae16e2-e6c8-4521-e00a-78f7e7fcbd75",
        "colab": {
          "base_uri": "https://localhost:8080/",
          "height": 134
        }
      },
      "source": [
        "ETregr = ExtraTreesRegressor(max_depth=100, random_state=1, n_estimators=100)\n",
        "ETregr.fit(X_train, Y_train)"
      ],
      "execution_count": 186,
      "outputs": [
        {
          "output_type": "execute_result",
          "data": {
            "text/plain": [
              "ExtraTreesRegressor(bootstrap=False, criterion='mse', max_depth=100,\n",
              "                    max_features='auto', max_leaf_nodes=None,\n",
              "                    min_impurity_decrease=0.0, min_impurity_split=None,\n",
              "                    min_samples_leaf=1, min_samples_split=2,\n",
              "                    min_weight_fraction_leaf=0.0, n_estimators=100, n_jobs=None,\n",
              "                    oob_score=False, random_state=1, verbose=0,\n",
              "                    warm_start=False)"
            ]
          },
          "metadata": {
            "tags": []
          },
          "execution_count": 186
        }
      ]
    },
    {
      "cell_type": "code",
      "metadata": {
        "id": "1mn5rXMWNW-W",
        "colab_type": "code",
        "colab": {}
      },
      "source": [
        "y_pred_ET = ETregr.predict(X_valid)"
      ],
      "execution_count": 0,
      "outputs": []
    },
    {
      "cell_type": "code",
      "metadata": {
        "id": "xCEROMcZ7ErZ",
        "colab_type": "code",
        "outputId": "3389d30d-bc11-4406-e59c-648d0a5260a1",
        "colab": {
          "base_uri": "https://localhost:8080/",
          "height": 34
        }
      },
      "source": [
        "'''Calculate WMAE for the validation dataset'''\n",
        "WMAE_valid_ET=weighted_mean_absolute_error(ETregr,X_valid,Y_valid,x_valid.IsHoliday_weight,sum_result_valid.IsHoliday_weight)\n",
        "WMAE_valid_ET"
      ],
      "execution_count": 188,
      "outputs": [
        {
          "output_type": "execute_result",
          "data": {
            "text/plain": [
              "('weighted_mean_absolute_error', [195.28406147023153])"
            ]
          },
          "metadata": {
            "tags": []
          },
          "execution_count": 188
        }
      ]
    },
    {
      "cell_type": "markdown",
      "metadata": {
        "id": "je0mutM3RdAD",
        "colab_type": "text"
      },
      "source": [
        "**Feature importance**"
      ]
    },
    {
      "cell_type": "code",
      "metadata": {
        "id": "xGgM8WPHNW54",
        "colab_type": "code",
        "outputId": "9a30a406-8b0b-4faa-c561-84d9162e54e2",
        "colab": {
          "base_uri": "https://localhost:8080/",
          "height": 409
        }
      },
      "source": [
        "'''Calculate feature importance scores with Extra Trees model'''\n",
        "\n",
        "feat_imps = pd.DataFrame(ETregr.feature_importances_, index = X_train.columns,\n",
        "                                    columns=['Importance score']).sort_values('Importance score',ascending=False)\n",
        "feat_imps = feat_imps.reset_index()\n",
        "feat_imps.columns = [\"Feature\",\"Importance Score\"]\n",
        "plt.figure(figsize = (8,6))\n",
        "sns.barplot(x = \"Importance Score\",y = \"Feature\",data = feat_imps,orient = \"h\")"
      ],
      "execution_count": 189,
      "outputs": [
        {
          "output_type": "execute_result",
          "data": {
            "text/plain": [
              "<matplotlib.axes._subplots.AxesSubplot at 0x7fcf82fd7e10>"
            ]
          },
          "metadata": {
            "tags": []
          },
          "execution_count": 189
        },
        {
          "output_type": "display_data",
          "data": {
            "image/png": "[encoded data removed]",
            "text/plain": [
              "<Figure size 576x432 with 1 Axes>"
            ]
          },
          "metadata": {
            "tags": []
          }
        }
      ]
    },
    {
      "cell_type": "markdown",
      "metadata": {
        "id": "l6FnR_PvNkiW",
        "colab_type": "text"
      },
      "source": [
        "**Validating on test data**"
      ]
    },
    {
      "cell_type": "code",
      "metadata": {
        "id": "2EW1W_aLNmzA",
        "colab_type": "code",
        "colab": {}
      },
      "source": [
        "ytest_pred_ET = ETregr.predict(X_test)"
      ],
      "execution_count": 0,
      "outputs": []
    },
    {
      "cell_type": "code",
      "metadata": {
        "id": "eMmmyL9P7N51",
        "colab_type": "code",
        "outputId": "f528d59c-f5ad-4b27-ae82-07ec7bcdab12",
        "colab": {
          "base_uri": "https://localhost:8080/",
          "height": 34
        }
      },
      "source": [
        "'''Calculate WMAE for the test dataset'''\n",
        "WMAE_test_ET=weighted_mean_absolute_error(ETregr,X_test,Y_test,x_test.IsHoliday_weight,sum_result_test.IsHoliday_weight)\n",
        "WMAE_test_ET"
      ],
      "execution_count": 191,
      "outputs": [
        {
          "output_type": "execute_result",
          "data": {
            "text/plain": [
              "('weighted_mean_absolute_error', [1754.306666604776])"
            ]
          },
          "metadata": {
            "tags": []
          },
          "execution_count": 191
        }
      ]
    },
    {
      "cell_type": "code",
      "metadata": {
        "id": "_HGyFb117N89",
        "colab_type": "code",
        "colab": {}
      },
      "source": [
        "w_test_ET=string_process(WMAE_test_ET[1])"
      ],
      "execution_count": 0,
      "outputs": []
    },
    {
      "cell_type": "code",
      "metadata": {
        "id": "YES3pV267OAQ",
        "colab_type": "code",
        "colab": {}
      },
      "source": [
        "w_valid_ET=string_process(WMAE_valid_ET[1])"
      ],
      "execution_count": 0,
      "outputs": []
    },
    {
      "cell_type": "code",
      "metadata": {
        "id": "kxDC4sUc7OkY",
        "colab_type": "code",
        "colab": {}
      },
      "source": [
        "wmae_test_ET = string_to_float(w_test_ET)"
      ],
      "execution_count": 0,
      "outputs": []
    },
    {
      "cell_type": "code",
      "metadata": {
        "id": "uFZ41ceQ7OoR",
        "colab_type": "code",
        "colab": {}
      },
      "source": [
        "wmae_valid_ET = string_to_float(w_valid_ET)"
      ],
      "execution_count": 0,
      "outputs": []
    },
    {
      "cell_type": "code",
      "metadata": {
        "id": "jGgR8TSHNnGn",
        "colab_type": "code",
        "colab": {}
      },
      "source": [
        "model=\"ExtraTreesRegressor\"\n",
        "model_list_wmae.append(model)\n",
        "wmae_list.append(wmae_test_ET[0])"
      ],
      "execution_count": 0,
      "outputs": []
    },
    {
      "cell_type": "code",
      "metadata": {
        "id": "qWTCPbNsNmwO",
        "colab_type": "code",
        "outputId": "7dfdfc26-ea2b-428b-c689-d22fe867169c",
        "colab": {
          "base_uri": "https://localhost:8080/",
          "height": 514
        }
      },
      "source": [
        "'''Visualizing validation and test weighted mean absolute error '''\n",
        "\n",
        "plt.figure(figsize = (4,5))\n",
        "plt.xticks(rotation=45)\n",
        "plt.title('Error Vs Validation_Test data')\n",
        "plt.ylabel('Error')\n",
        "plt.xlabel('Validation_Test data')\n",
        "x_number_list = [ \"Validation_weighted_mean_absolute_error\", \"Test_weighted_mean_absolute error\"  ]\n",
        "y_number_list = [wmae_valid_ET[0], wmae_test_ET[0]]\n",
        "sns.barplot(x = x_number_list,y = y_number_list)"
      ],
      "execution_count": 197,
      "outputs": [
        {
          "output_type": "execute_result",
          "data": {
            "text/plain": [
              "<matplotlib.axes._subplots.AxesSubplot at 0x7fcf82eed9b0>"
            ]
          },
          "metadata": {
            "tags": []
          },
          "execution_count": 197
        },
        {
          "output_type": "display_data",
          "data": {
            "image/png": "[encoded data removed]",
            "text/plain": [
              "<Figure size 288x360 with 1 Axes>"
            ]
          },
          "metadata": {
            "tags": []
          }
        }
      ]
    },
    {
      "cell_type": "markdown",
      "metadata": {
        "id": "t9vT0As_HRtR",
        "colab_type": "text"
      },
      "source": [
        "# **Exploring the weighted median absolute error achieved by each model**"
      ]
    },
    {
      "cell_type": "code",
      "metadata": {
        "id": "g7zPxLMIHWtF",
        "colab_type": "code",
        "outputId": "4aed608c-ff9f-4b5f-b5fd-b7ada46eb25e",
        "colab": {
          "base_uri": "https://localhost:8080/",
          "height": 225
        }
      },
      "source": [
        "performance_df =  pd.DataFrame({\"Model\": model_list_wmae,\"weighted Mean absolute error\": wmae_list})\n",
        "performance_df"
      ],
      "execution_count": 198,
      "outputs": [
        {
          "output_type": "execute_result",
          "data": {
            "text/html": [
              "<div>\n",
              "<style scoped>\n",
              "    .dataframe tbody tr th:only-of-type {\n",
              "        vertical-align: middle;\n",
              "    }\n",
              "\n",
              "    .dataframe tbody tr th {\n",
              "        vertical-align: top;\n",
              "    }\n",
              "\n",
              "    .dataframe thead th {\n",
              "        text-align: right;\n",
              "    }\n",
              "</style>\n",
              "<table border=\"1\" class=\"dataframe\">\n",
              "  <thead>\n",
              "    <tr style=\"text-align: right;\">\n",
              "      <th></th>\n",
              "      <th>Model</th>\n",
              "      <th>weighted Mean absolute error</th>\n",
              "    </tr>\n",
              "  </thead>\n",
              "  <tbody>\n",
              "    <tr>\n",
              "      <th>0</th>\n",
              "      <td>KNeighborsRegressor</td>\n",
              "      <td>7432.055314</td>\n",
              "    </tr>\n",
              "    <tr>\n",
              "      <th>1</th>\n",
              "      <td>Deep Neural Network</td>\n",
              "      <td>10959.056110</td>\n",
              "    </tr>\n",
              "    <tr>\n",
              "      <th>2</th>\n",
              "      <td>XGBRegressor</td>\n",
              "      <td>2269.946377</td>\n",
              "    </tr>\n",
              "    <tr>\n",
              "      <th>3</th>\n",
              "      <td>RandomForestRegressor</td>\n",
              "      <td>2315.897035</td>\n",
              "    </tr>\n",
              "    <tr>\n",
              "      <th>4</th>\n",
              "      <td>LinearRegression</td>\n",
              "      <td>14117.052115</td>\n",
              "    </tr>\n",
              "    <tr>\n",
              "      <th>5</th>\n",
              "      <td>ExtraTreesRegressor</td>\n",
              "      <td>1754.306667</td>\n",
              "    </tr>\n",
              "  </tbody>\n",
              "</table>\n",
              "</div>"
            ],
            "text/plain": [
              "                   Model  weighted Mean absolute error\n",
              "0    KNeighborsRegressor                   7432.055314\n",
              "1    Deep Neural Network                  10959.056110\n",
              "2           XGBRegressor                   2269.946377\n",
              "3  RandomForestRegressor                   2315.897035\n",
              "4       LinearRegression                  14117.052115\n",
              "5    ExtraTreesRegressor                   1754.306667"
            ]
          },
          "metadata": {
            "tags": []
          },
          "execution_count": 198
        }
      ]
    },
    {
      "cell_type": "code",
      "metadata": {
        "id": "cW8aqdfNHYjr",
        "colab_type": "code",
        "outputId": "76ce7873-c5c9-4078-9c42-70387866b76c",
        "colab": {
          "base_uri": "https://localhost:8080/",
          "height": 134
        }
      },
      "source": [
        "# Sorting data based on weighted mean absolute error\n",
        "performance_df.sort_values(by = [\"weighted Mean absolute error\"],inplace = True)\n",
        "print(performance_df.head(7))"
      ],
      "execution_count": 199,
      "outputs": [
        {
          "output_type": "stream",
          "text": [
            "                   Model  weighted Mean absolute error\n",
            "5    ExtraTreesRegressor                   1754.306667\n",
            "2           XGBRegressor                   2269.946377\n",
            "3  RandomForestRegressor                   2315.897035\n",
            "0    KNeighborsRegressor                   7432.055314\n",
            "1    Deep Neural Network                  10959.056110\n",
            "4       LinearRegression                  14117.052115\n"
          ],
          "name": "stdout"
        }
      ]
    },
    {
      "cell_type": "code",
      "metadata": {
        "id": "JiQr_xdGHW3M",
        "colab_type": "code",
        "outputId": "96f31a24-58e8-45a6-fd47-e35dffd55ee4",
        "colab": {
          "base_uri": "https://localhost:8080/",
          "height": 505
        }
      },
      "source": [
        "plt.figure(figsize = (8,6))\n",
        "plt.xticks(rotation=45)\n",
        "plt.title('Machine Learning Models Vs weighted Mean absolute error')\n",
        "sns.barplot(x = \"Model\",y =\"weighted Mean absolute error\",data = performance_df)"
      ],
      "execution_count": 200,
      "outputs": [
        {
          "output_type": "execute_result",
          "data": {
            "text/plain": [
              "<matplotlib.axes._subplots.AxesSubplot at 0x7fcf82e528d0>"
            ]
          },
          "metadata": {
            "tags": []
          },
          "execution_count": 200
        },
        {
          "output_type": "display_data",
          "data": {
            "image/png": "[encoded data removed]",
            "text/plain": [
              "<Figure size 576x432 with 1 Axes>"
            ]
          },
          "metadata": {
            "tags": []
          }
        }
      ]
    },
    {
      "cell_type": "code",
      "metadata": {
        "id": "G8bNFkeFHXDk",
        "colab_type": "code",
        "colab": {}
      },
      "source": [
        ""
      ],
      "execution_count": 0,
      "outputs": []
    }
  ]
}